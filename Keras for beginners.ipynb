{
 "cells": [
  {
   "cell_type": "code",
   "execution_count": 1,
   "metadata": {},
   "outputs": [],
   "source": [
    "from keras.models import Sequential"
   ]
  },
  {
   "cell_type": "code",
   "execution_count": 2,
   "metadata": {},
   "outputs": [],
   "source": [
    "from keras.layers import Dense, Activation"
   ]
  },
  {
   "cell_type": "code",
   "execution_count": 3,
   "metadata": {},
   "outputs": [
    {
     "name": "stdout",
     "output_type": "stream",
     "text": [
      "WARNING:tensorflow:From C:\\Users\\nirmal.silwal\\AppData\\Local\\Continuum\\anaconda3\\envs\\learningmate\\lib\\site-packages\\tensorflow\\python\\framework\\op_def_library.py:263: colocate_with (from tensorflow.python.framework.ops) is deprecated and will be removed in a future version.\n",
      "Instructions for updating:\n",
      "Colocations handled automatically by placer.\n"
     ]
    }
   ],
   "source": [
    "model = Sequential([\n",
    "    Dense(32, input_shape=(10,),activation='relu'),\n",
    "    Dense(2, activation='softmax')\n",
    "])"
   ]
  },
  {
   "cell_type": "markdown",
   "metadata": {},
   "source": [
    "note: 32 is the number of nodes/neurons in first layer. 10 is the total number of input varables"
   ]
  },
  {
   "cell_type": "code",
   "execution_count": 7,
   "metadata": {},
   "outputs": [
    {
     "data": {
      "text/plain": [
       "[<keras.layers.core.Dense at 0x2a19651a6a0>,\n",
       " <keras.layers.core.Dense at 0x2a19651a748>]"
      ]
     },
     "execution_count": 7,
     "metadata": {},
     "output_type": "execute_result"
    }
   ],
   "source": [
    "model.layers"
   ]
  },
  {
   "cell_type": "markdown",
   "metadata": {},
   "source": [
    "#### PRACTICE"
   ]
  },
  {
   "cell_type": "code",
   "execution_count": 8,
   "metadata": {},
   "outputs": [],
   "source": [
    "from keras.datasets import mnist"
   ]
  },
  {
   "cell_type": "markdown",
   "metadata": {},
   "source": [
    "MNIST dataset: contains 70000 28x28 grayscale images with 10 different classes. Keras splits it in a training set with 60000 instances and a testing set with 10000 instances."
   ]
  },
  {
   "cell_type": "code",
   "execution_count": 9,
   "metadata": {},
   "outputs": [
    {
     "name": "stdout",
     "output_type": "stream",
     "text": [
      "Downloading data from https://s3.amazonaws.com/img-datasets/mnist.pkl.gz\n"
     ]
    }
   ],
   "source": [
    "(x_train, y_train), (x_test, y_test) = mnist.load_data()"
   ]
  },
  {
   "cell_type": "code",
   "execution_count": 13,
   "metadata": {},
   "outputs": [
    {
     "data": {
      "text/plain": [
       "(60000, 28, 28)"
      ]
     },
     "execution_count": 13,
     "metadata": {},
     "output_type": "execute_result"
    }
   ],
   "source": [
    "x_train.shape"
   ]
  },
  {
   "cell_type": "code",
   "execution_count": 14,
   "metadata": {},
   "outputs": [
    {
     "data": {
      "text/plain": [
       "(10000, 28, 28)"
      ]
     },
     "execution_count": 14,
     "metadata": {},
     "output_type": "execute_result"
    }
   ],
   "source": [
    "x_test.shape"
   ]
  },
  {
   "cell_type": "code",
   "execution_count": 15,
   "metadata": {},
   "outputs": [
    {
     "data": {
      "text/plain": [
       "(60000,)"
      ]
     },
     "execution_count": 15,
     "metadata": {},
     "output_type": "execute_result"
    }
   ],
   "source": [
    "y_train.shape"
   ]
  },
  {
   "cell_type": "code",
   "execution_count": 16,
   "metadata": {},
   "outputs": [
    {
     "data": {
      "text/plain": [
       "(10000,)"
      ]
     },
     "execution_count": 16,
     "metadata": {},
     "output_type": "execute_result"
    }
   ],
   "source": [
    "y_test.shape"
   ]
  },
  {
   "cell_type": "code",
   "execution_count": 17,
   "metadata": {},
   "outputs": [
    {
     "data": {
      "text/plain": [
       "numpy.ndarray"
      ]
     },
     "execution_count": 17,
     "metadata": {},
     "output_type": "execute_result"
    }
   ],
   "source": [
    "type(x_train)"
   ]
  },
  {
   "cell_type": "markdown",
   "metadata": {},
   "source": [
    "To feed the images to a convolutional neural network we transform the dataframe to four dimensions. "
   ]
  },
  {
   "cell_type": "code",
   "execution_count": 19,
   "metadata": {},
   "outputs": [],
   "source": [
    "x_train = x_train.astype('float32')\n",
    "x_test = x_test.astype('float32')"
   ]
  },
  {
   "cell_type": "code",
   "execution_count": 21,
   "metadata": {},
   "outputs": [],
   "source": [
    "x_train /= 255\n",
    "x_test /= 255"
   ]
  },
  {
   "cell_type": "code",
   "execution_count": 27,
   "metadata": {},
   "outputs": [
    {
     "data": {
      "text/plain": [
       "60000"
      ]
     },
     "execution_count": 27,
     "metadata": {},
     "output_type": "execute_result"
    }
   ],
   "source": [
    "x_train.shape[0]"
   ]
  },
  {
   "cell_type": "code",
   "execution_count": 28,
   "metadata": {},
   "outputs": [],
   "source": [
    "x_train = x_train.reshape(x_train.shape[0],28,28,1)\n",
    "x_test = x_test.reshape(x_test.shape[0],28,28,1)"
   ]
  },
  {
   "cell_type": "code",
   "execution_count": 29,
   "metadata": {},
   "outputs": [
    {
     "data": {
      "text/plain": [
       "(10000, 28, 28, 1)"
      ]
     },
     "execution_count": 29,
     "metadata": {},
     "output_type": "execute_result"
    }
   ],
   "source": [
    "x_test.shape"
   ]
  },
  {
   "cell_type": "code",
   "execution_count": 30,
   "metadata": {},
   "outputs": [
    {
     "data": {
      "text/plain": [
       "(60000, 28, 28, 1)"
      ]
     },
     "execution_count": 30,
     "metadata": {},
     "output_type": "execute_result"
    }
   ],
   "source": [
    "x_train.shape"
   ]
  },
  {
   "cell_type": "code",
   "execution_count": 36,
   "metadata": {},
   "outputs": [
    {
     "data": {
      "text/plain": [
       "(28, 1)"
      ]
     },
     "execution_count": 36,
     "metadata": {},
     "output_type": "execute_result"
    }
   ],
   "source": [
    "x_test[0][0].shape"
   ]
  },
  {
   "cell_type": "markdown",
   "metadata": {},
   "source": [
    "transform our labels into a one-hot encoding using the to_categorical method from Keras"
   ]
  },
  {
   "cell_type": "code",
   "execution_count": 43,
   "metadata": {},
   "outputs": [],
   "source": [
    "from keras.utils.np_utils import to_categorical"
   ]
  },
  {
   "cell_type": "code",
   "execution_count": 44,
   "metadata": {},
   "outputs": [],
   "source": [
    "y_train = to_categorical(y_train,10)   #10 classes\n",
    "y_test = to_categorical(y_test,10)"
   ]
  },
  {
   "cell_type": "code",
   "execution_count": 47,
   "metadata": {},
   "outputs": [
    {
     "data": {
      "text/plain": [
       "(60000, 10)"
      ]
     },
     "execution_count": 47,
     "metadata": {},
     "output_type": "execute_result"
    }
   ],
   "source": [
    "y_train.shape"
   ]
  },
  {
   "cell_type": "markdown",
   "metadata": {},
   "source": [
    "The easiest way of creating a model in Keras is by using the sequential API, which lets you stack one layer after the other. The problem with the sequential API is that it doesn’t allow models to have multiple inputs or outputs, which are needed for some problems.\n",
    "\n",
    "To create a convolutional neural network we only need to create a Sequential object and use the add function to add layers."
   ]
  },
  {
   "cell_type": "code",
   "execution_count": 48,
   "metadata": {},
   "outputs": [],
   "source": [
    "from keras.models import Sequential"
   ]
  },
  {
   "cell_type": "code",
   "execution_count": 49,
   "metadata": {},
   "outputs": [],
   "source": [
    "from keras.layers import Conv2D, MaxPooling2D, Dense, Flatten, Dropout "
   ]
  },
  {
   "cell_type": "code",
   "execution_count": 50,
   "metadata": {},
   "outputs": [],
   "source": [
    "model = Sequential()"
   ]
  },
  {
   "cell_type": "code",
   "execution_count": 56,
   "metadata": {},
   "outputs": [],
   "source": [
    "model.add(Conv2D(nb_filter=32,nb_row=5,nb_col=5, activation='relu', input_shape=x_train.shape[1:]))"
   ]
  },
  {
   "cell_type": "code",
   "execution_count": 55,
   "metadata": {},
   "outputs": [
    {
     "data": {
      "text/plain": [
       "(28, 28, 1)"
      ]
     },
     "execution_count": 55,
     "metadata": {},
     "output_type": "execute_result"
    }
   ],
   "source": [
    "x_train.shape[1:]"
   ]
  },
  {
   "cell_type": "code",
   "execution_count": 58,
   "metadata": {},
   "outputs": [],
   "source": [
    "model.add(Conv2D(nb_filter=32,nb_row=5,nb_col=5))"
   ]
  },
  {
   "cell_type": "code",
   "execution_count": 60,
   "metadata": {},
   "outputs": [],
   "source": [
    "model.add(MaxPooling2D(pool_size=(2,2)))"
   ]
  },
  {
   "cell_type": "code",
   "execution_count": 65,
   "metadata": {},
   "outputs": [],
   "source": [
    "model.add(Dropout(p=0.25))"
   ]
  },
  {
   "cell_type": "code",
   "execution_count": 66,
   "metadata": {},
   "outputs": [],
   "source": [
    "model.add(Conv2D(nb_filter=64,nb_row=3,nb_col=3, activation='relu'))\n",
    "model.add(Conv2D(nb_filter=64,nb_row=3,nb_col=3, activation='relu'))"
   ]
  },
  {
   "cell_type": "code",
   "execution_count": 67,
   "metadata": {},
   "outputs": [
    {
     "data": {
      "text/plain": [
       "[<keras.layers.convolutional.Convolution2D at 0x2a1a50a4a90>,\n",
       " <keras.layers.convolutional.Convolution2D at 0x2a1a5161240>,\n",
       " <keras.layers.pooling.MaxPooling2D at 0x2a1a51e0be0>,\n",
       " <keras.layers.core.Dropout at 0x2a1a50759b0>,\n",
       " <keras.layers.core.Dropout at 0x2a1a5075828>,\n",
       " <keras.layers.core.Dropout at 0x2a1a51a2dd8>,\n",
       " <keras.layers.core.Dropout at 0x2a1a51a2ef0>,\n",
       " <keras.layers.convolutional.Convolution2D at 0x2a1a57327f0>,\n",
       " <keras.layers.convolutional.Convolution2D at 0x2a1a5732908>]"
      ]
     },
     "execution_count": 67,
     "metadata": {},
     "output_type": "execute_result"
    }
   ],
   "source": [
    "model.layers"
   ]
  },
  {
   "cell_type": "code",
   "execution_count": 68,
   "metadata": {},
   "outputs": [],
   "source": [
    "model.add(MaxPooling2D(pool_size=(2,2)))"
   ]
  },
  {
   "cell_type": "code",
   "execution_count": 69,
   "metadata": {},
   "outputs": [],
   "source": [
    "model.add(Dropout(p=0.25))"
   ]
  },
  {
   "cell_type": "code",
   "execution_count": 70,
   "metadata": {},
   "outputs": [
    {
     "data": {
      "text/plain": [
       "[<keras.layers.convolutional.Convolution2D at 0x2a1a50a4a90>,\n",
       " <keras.layers.convolutional.Convolution2D at 0x2a1a5161240>,\n",
       " <keras.layers.pooling.MaxPooling2D at 0x2a1a51e0be0>,\n",
       " <keras.layers.core.Dropout at 0x2a1a50759b0>,\n",
       " <keras.layers.core.Dropout at 0x2a1a5075828>,\n",
       " <keras.layers.core.Dropout at 0x2a1a51a2dd8>,\n",
       " <keras.layers.core.Dropout at 0x2a1a51a2ef0>,\n",
       " <keras.layers.convolutional.Convolution2D at 0x2a1a57327f0>,\n",
       " <keras.layers.convolutional.Convolution2D at 0x2a1a5732908>,\n",
       " <keras.layers.pooling.MaxPooling2D at 0x2a1a57198d0>,\n",
       " <keras.layers.core.Dropout at 0x2a1a51e03c8>]"
      ]
     },
     "execution_count": 70,
     "metadata": {},
     "output_type": "execute_result"
    }
   ],
   "source": [
    "model.layers"
   ]
  },
  {
   "cell_type": "code",
   "execution_count": 71,
   "metadata": {},
   "outputs": [
    {
     "name": "stdout",
     "output_type": "stream",
     "text": [
      "WARNING:tensorflow:From C:\\Users\\nirmal.silwal\\AppData\\Local\\Continuum\\anaconda3\\envs\\learningmate\\lib\\site-packages\\keras\\backend\\tensorflow_backend.py:1047: calling reduce_prod_v1 (from tensorflow.python.ops.math_ops) with keep_dims is deprecated and will be removed in a future version.\n",
      "Instructions for updating:\n",
      "keep_dims is deprecated, use keepdims instead\n"
     ]
    }
   ],
   "source": [
    "model.add(Flatten())"
   ]
  },
  {
   "cell_type": "code",
   "execution_count": 72,
   "metadata": {},
   "outputs": [
    {
     "data": {
      "text/plain": [
       "(None, 576)"
      ]
     },
     "execution_count": 72,
     "metadata": {},
     "output_type": "execute_result"
    }
   ],
   "source": [
    "model.output_shape"
   ]
  },
  {
   "cell_type": "code",
   "execution_count": 73,
   "metadata": {},
   "outputs": [
    {
     "data": {
      "text/plain": [
       "(None, 28, 28, 1)"
      ]
     },
     "execution_count": 73,
     "metadata": {},
     "output_type": "execute_result"
    }
   ],
   "source": [
    "model.input_shape"
   ]
  },
  {
   "cell_type": "code",
   "execution_count": 74,
   "metadata": {},
   "outputs": [
    {
     "data": {
      "text/plain": [
       "[<keras.layers.convolutional.Convolution2D at 0x2a1a50a4a90>,\n",
       " <keras.layers.convolutional.Convolution2D at 0x2a1a5161240>,\n",
       " <keras.layers.pooling.MaxPooling2D at 0x2a1a51e0be0>,\n",
       " <keras.layers.core.Dropout at 0x2a1a50759b0>,\n",
       " <keras.layers.core.Dropout at 0x2a1a5075828>,\n",
       " <keras.layers.core.Dropout at 0x2a1a51a2dd8>,\n",
       " <keras.layers.core.Dropout at 0x2a1a51a2ef0>,\n",
       " <keras.layers.convolutional.Convolution2D at 0x2a1a57327f0>,\n",
       " <keras.layers.convolutional.Convolution2D at 0x2a1a5732908>,\n",
       " <keras.layers.pooling.MaxPooling2D at 0x2a1a57198d0>,\n",
       " <keras.layers.core.Dropout at 0x2a1a51e03c8>,\n",
       " <keras.layers.core.Flatten at 0x2a1a5097908>]"
      ]
     },
     "execution_count": 74,
     "metadata": {},
     "output_type": "execute_result"
    }
   ],
   "source": [
    "model.layers"
   ]
  },
  {
   "cell_type": "code",
   "execution_count": 75,
   "metadata": {},
   "outputs": [],
   "source": [
    "model.add(Dense(256, activation='relu'))"
   ]
  },
  {
   "cell_type": "code",
   "execution_count": 76,
   "metadata": {},
   "outputs": [
    {
     "data": {
      "text/plain": [
       "[<keras.layers.convolutional.Convolution2D at 0x2a1a50a4a90>,\n",
       " <keras.layers.convolutional.Convolution2D at 0x2a1a5161240>,\n",
       " <keras.layers.pooling.MaxPooling2D at 0x2a1a51e0be0>,\n",
       " <keras.layers.core.Dropout at 0x2a1a50759b0>,\n",
       " <keras.layers.core.Dropout at 0x2a1a5075828>,\n",
       " <keras.layers.core.Dropout at 0x2a1a51a2dd8>,\n",
       " <keras.layers.core.Dropout at 0x2a1a51a2ef0>,\n",
       " <keras.layers.convolutional.Convolution2D at 0x2a1a57327f0>,\n",
       " <keras.layers.convolutional.Convolution2D at 0x2a1a5732908>,\n",
       " <keras.layers.pooling.MaxPooling2D at 0x2a1a57198d0>,\n",
       " <keras.layers.core.Dropout at 0x2a1a51e03c8>,\n",
       " <keras.layers.core.Flatten at 0x2a1a5097908>,\n",
       " <keras.layers.core.Dense at 0x2a1a571e668>]"
      ]
     },
     "execution_count": 76,
     "metadata": {},
     "output_type": "execute_result"
    }
   ],
   "source": [
    "model.layers"
   ]
  },
  {
   "cell_type": "code",
   "execution_count": 77,
   "metadata": {},
   "outputs": [],
   "source": [
    "model.add(Dropout(p=0.25))"
   ]
  },
  {
   "cell_type": "code",
   "execution_count": 78,
   "metadata": {},
   "outputs": [
    {
     "data": {
      "text/plain": [
       "[<keras.layers.convolutional.Convolution2D at 0x2a1a50a4a90>,\n",
       " <keras.layers.convolutional.Convolution2D at 0x2a1a5161240>,\n",
       " <keras.layers.pooling.MaxPooling2D at 0x2a1a51e0be0>,\n",
       " <keras.layers.core.Dropout at 0x2a1a50759b0>,\n",
       " <keras.layers.core.Dropout at 0x2a1a5075828>,\n",
       " <keras.layers.core.Dropout at 0x2a1a51a2dd8>,\n",
       " <keras.layers.core.Dropout at 0x2a1a51a2ef0>,\n",
       " <keras.layers.convolutional.Convolution2D at 0x2a1a57327f0>,\n",
       " <keras.layers.convolutional.Convolution2D at 0x2a1a5732908>,\n",
       " <keras.layers.pooling.MaxPooling2D at 0x2a1a57198d0>,\n",
       " <keras.layers.core.Dropout at 0x2a1a51e03c8>,\n",
       " <keras.layers.core.Flatten at 0x2a1a5097908>,\n",
       " <keras.layers.core.Dense at 0x2a1a571e668>,\n",
       " <keras.layers.core.Dropout at 0x2a1a51e0ac8>]"
      ]
     },
     "execution_count": 78,
     "metadata": {},
     "output_type": "execute_result"
    }
   ],
   "source": [
    "model.layers"
   ]
  },
  {
   "cell_type": "code",
   "execution_count": 79,
   "metadata": {},
   "outputs": [],
   "source": [
    "model.add(Dense(10, activation='softmax'))"
   ]
  },
  {
   "cell_type": "code",
   "execution_count": 80,
   "metadata": {},
   "outputs": [
    {
     "data": {
      "text/plain": [
       "[<keras.layers.convolutional.Convolution2D at 0x2a1a50a4a90>,\n",
       " <keras.layers.convolutional.Convolution2D at 0x2a1a5161240>,\n",
       " <keras.layers.pooling.MaxPooling2D at 0x2a1a51e0be0>,\n",
       " <keras.layers.core.Dropout at 0x2a1a50759b0>,\n",
       " <keras.layers.core.Dropout at 0x2a1a5075828>,\n",
       " <keras.layers.core.Dropout at 0x2a1a51a2dd8>,\n",
       " <keras.layers.core.Dropout at 0x2a1a51a2ef0>,\n",
       " <keras.layers.convolutional.Convolution2D at 0x2a1a57327f0>,\n",
       " <keras.layers.convolutional.Convolution2D at 0x2a1a5732908>,\n",
       " <keras.layers.pooling.MaxPooling2D at 0x2a1a57198d0>,\n",
       " <keras.layers.core.Dropout at 0x2a1a51e03c8>,\n",
       " <keras.layers.core.Flatten at 0x2a1a5097908>,\n",
       " <keras.layers.core.Dense at 0x2a1a571e668>,\n",
       " <keras.layers.core.Dropout at 0x2a1a51e0ac8>,\n",
       " <keras.layers.core.Dense at 0x2a1a57d93c8>]"
      ]
     },
     "execution_count": 80,
     "metadata": {},
     "output_type": "execute_result"
    }
   ],
   "source": [
    "model.layers"
   ]
  },
  {
   "cell_type": "code",
   "execution_count": 81,
   "metadata": {},
   "outputs": [
    {
     "data": {
      "text/plain": [
       "15"
      ]
     },
     "execution_count": 81,
     "metadata": {},
     "output_type": "execute_result"
    }
   ],
   "source": [
    "len(model.layers)"
   ]
  },
  {
   "cell_type": "markdown",
   "metadata": {},
   "source": [
    "The code above first of creates a Sequential object and adds a few convolutional, maxpooling and dropout layers.\n",
    "\n",
    "It then flattens the output and passes it two a last dense and dropout layer before passing it to our output layer."
   ]
  },
  {
   "cell_type": "markdown",
   "metadata": {},
   "source": [
    "using Sequential API"
   ]
  },
  {
   "cell_type": "code",
   "execution_count": 82,
   "metadata": {},
   "outputs": [],
   "source": [
    "from keras.models import Sequential\n",
    "from keras.layers import Conv2D, MaxPooling2D, Dropout, Flatten, Dense\n",
    "\n",
    "model = Sequential([\n",
    "    Conv2D(nb_filter=32, nb_row=5, nb_col=5, activation='relu', input_shape=x_train.shape[1:]),\n",
    "    Conv2D(nb_filter=32, nb_row=5, nb_col=5, activation='relu'),\n",
    "    MaxPooling2D(pool_size=(2,2)),\n",
    "    Dropout(p=0.25),\n",
    "    Conv2D(nb_filter=64, nb_row=3, nb_col=3, activation='relu'),\n",
    "    Conv2D(nb_filter=64, nb_row=3, nb_col=3, activation='relu'),\n",
    "    MaxPooling2D(pool_size=(2,2)),\n",
    "    Dropout(p=0.25),\n",
    "    Flatten(),\n",
    "    Dense(256, activation='relu'),\n",
    "    Dropout(p=0.25),\n",
    "    Dense(output_dim=10, activation='softmax')\n",
    "])"
   ]
  },
  {
   "cell_type": "code",
   "execution_count": 83,
   "metadata": {},
   "outputs": [
    {
     "data": {
      "text/plain": [
       "[<keras.layers.convolutional.Convolution2D at 0x2a1971ff2e8>,\n",
       " <keras.layers.convolutional.Convolution2D at 0x2a1971ff278>,\n",
       " <keras.layers.pooling.MaxPooling2D at 0x2a1971ff7b8>,\n",
       " <keras.layers.core.Dropout at 0x2a1971ff898>,\n",
       " <keras.layers.convolutional.Convolution2D at 0x2a1971ff908>,\n",
       " <keras.layers.convolutional.Convolution2D at 0x2a1971ff9e8>,\n",
       " <keras.layers.pooling.MaxPooling2D at 0x2a1971ffac8>,\n",
       " <keras.layers.core.Dropout at 0x2a1971ff5f8>,\n",
       " <keras.layers.core.Flatten at 0x2a1a5840400>,\n",
       " <keras.layers.core.Dense at 0x2a1a58409e8>,\n",
       " <keras.layers.core.Dropout at 0x2a1a5dd3a20>,\n",
       " <keras.layers.core.Dense at 0x2a1a5f43438>]"
      ]
     },
     "execution_count": 83,
     "metadata": {},
     "output_type": "execute_result"
    }
   ],
   "source": [
    "model.layers"
   ]
  },
  {
   "cell_type": "code",
   "execution_count": 84,
   "metadata": {},
   "outputs": [
    {
     "data": {
      "text/plain": [
       "12"
      ]
     },
     "execution_count": 84,
     "metadata": {},
     "output_type": "execute_result"
    }
   ],
   "source": [
    "len(model.layers)"
   ]
  },
  {
   "cell_type": "markdown",
   "metadata": {},
   "source": [
    "using Funtional API"
   ]
  },
  {
   "cell_type": "code",
   "execution_count": 85,
   "metadata": {},
   "outputs": [],
   "source": [
    "from keras.models import Model\n",
    "from keras.layers import Conv2D, MaxPooling2D, Dropout, Flatten, Dense, Input\n",
    "\n",
    "inputs = Input(shape=x_train.shape[1:])\n",
    "\n",
    "inputToNextLayer = Conv2D(nb_filter=32, nb_row=5, nb_col=5, activation='relu')(inputs)\n",
    "#  nb_filter: Number of convolution filters to use.\n",
    "inputToNextLayer = Conv2D(nb_filter=32, nb_row=5, nb_col=5, activation='relu')(inputToNextLayer)\n",
    "\n",
    "inputToNextLayer = MaxPooling2D(pool_size=(2,2))(inputToNextLayer)\n",
    "\n",
    "inputToNextLayer = Dropout(p=0.25)(inputToNextLayer)\n",
    "\n",
    "inputToNextLayer = Conv2D(nb_filter=64, nb_row=3, nb_col=3, activation='relu')(inputToNextLayer)\n",
    "inputToNextLayer = Conv2D(nb_filter=64, nb_row=3, nb_col=3, activation='relu')(inputToNextLayer)\n",
    "\n",
    "inputToNextLayer = MaxPooling2D(pool_size=(2,2))(inputToNextLayer)\n",
    "\n",
    "inputToNextLayer = Dropout(p=0.25)(inputToNextLayer)\n",
    "\n",
    "inputToNextLayer = Flatten()(inputToNextLayer)\n",
    "\n",
    "inputToNextLayer = Dense(output_dim=256, activation='relu')(inputToNextLayer)\n",
    "\n",
    "inputToNextLayer = Dropout(p=0.25)(inputToNextLayer)\n",
    "\n",
    "prediction = Dense(output_dim=10, activation='softmax')(inputToNextLayer)\n",
    "\n",
    "model = Model(input=inputs, output=prediction)"
   ]
  },
  {
   "cell_type": "code",
   "execution_count": 86,
   "metadata": {},
   "outputs": [
    {
     "data": {
      "text/plain": [
       "[<keras.engine.topology.InputLayer at 0x2a1a62d2470>,\n",
       " <keras.layers.convolutional.Convolution2D at 0x2a1a62d25f8>,\n",
       " <keras.layers.convolutional.Convolution2D at 0x2a1a5a98f98>,\n",
       " <keras.layers.pooling.MaxPooling2D at 0x2a1a5b68668>,\n",
       " <keras.layers.core.Dropout at 0x2a1a5958470>,\n",
       " <keras.layers.convolutional.Convolution2D at 0x2a1a58e4fd0>,\n",
       " <keras.layers.convolutional.Convolution2D at 0x2a1a62dda20>,\n",
       " <keras.layers.pooling.MaxPooling2D at 0x2a1a5ad5390>,\n",
       " <keras.layers.core.Dropout at 0x2a1a6024eb8>,\n",
       " <keras.layers.core.Flatten at 0x2a1a5922da0>,\n",
       " <keras.layers.core.Dense at 0x2a1a62d39e8>,\n",
       " <keras.layers.core.Dropout at 0x2a1a595a0f0>,\n",
       " <keras.layers.core.Dense at 0x2a1a5b9bd30>]"
      ]
     },
     "execution_count": 86,
     "metadata": {},
     "output_type": "execute_result"
    }
   ],
   "source": [
    "model.layers"
   ]
  },
  {
   "cell_type": "code",
   "execution_count": 87,
   "metadata": {},
   "outputs": [
    {
     "data": {
      "text/plain": [
       "13"
      ]
     },
     "execution_count": 87,
     "metadata": {},
     "output_type": "execute_result"
    }
   ],
   "source": [
    "len(model.layers)"
   ]
  },
  {
   "cell_type": "markdown",
   "metadata": {},
   "source": [
    "The loss function is a measure on how good our model is at achieving the given objective.\n",
    "\n",
    "An optimizer is used to minimize the loss(objective) function by updating the weights using the gradients."
   ]
  },
  {
   "cell_type": "code",
   "execution_count": 90,
   "metadata": {},
   "outputs": [
    {
     "name": "stdout",
     "output_type": "stream",
     "text": [
      "WARNING:tensorflow:From C:\\Users\\nirmal.silwal\\AppData\\Local\\Continuum\\anaconda3\\envs\\learningmate\\lib\\site-packages\\keras\\backend\\tensorflow_backend.py:2385: calling reduce_sum_v1 (from tensorflow.python.ops.math_ops) with keep_dims is deprecated and will be removed in a future version.\n",
      "Instructions for updating:\n",
      "keep_dims is deprecated, use keepdims instead\n"
     ]
    }
   ],
   "source": [
    "model.compile(loss='categorical_crossentropy', optimizer='adam', metrics=['accuracy'])"
   ]
  },
  {
   "cell_type": "code",
   "execution_count": 91,
   "metadata": {},
   "outputs": [],
   "source": [
    "from keras.preprocessing.image import ImageDataGenerator"
   ]
  },
  {
   "cell_type": "code",
   "execution_count": 92,
   "metadata": {},
   "outputs": [],
   "source": [
    "datagen = ImageDataGenerator(rotation_range=10,\n",
    "                            zoom_range=0.1,\n",
    "                            width_shift_range=0.1,\n",
    "                            height_shift_range=0.1)"
   ]
  },
  {
   "cell_type": "code",
   "execution_count": 96,
   "metadata": {},
   "outputs": [
    {
     "name": "stdout",
     "output_type": "stream",
     "text": [
      "WARNING:tensorflow:From C:\\Users\\nirmal.silwal\\AppData\\Local\\Continuum\\anaconda3\\envs\\learningmate\\lib\\site-packages\\tensorflow\\python\\ops\\math_ops.py:3066: to_int32 (from tensorflow.python.ops.math_ops) is deprecated and will be removed in a future version.\n",
      "Instructions for updating:\n",
      "Use tf.cast instead.\n",
      "Epoch 1/2\n",
      "1856/1875 [============================>.] - ETA: 0s - loss: 1.9952 - acc: 0.2829"
     ]
    },
    {
     "name": "stderr",
     "output_type": "stream",
     "text": [
      "C:\\Users\\nirmal.silwal\\AppData\\Local\\Continuum\\anaconda3\\envs\\learningmate\\lib\\site-packages\\keras\\engine\\training.py:1573: UserWarning: Epoch comprised more than `samples_per_epoch` samples, which might affect learning results. Set `samples_per_epoch` correctly to avoid this warning.\n",
      "  warnings.warn('Epoch comprised more than '\n"
     ]
    },
    {
     "name": "stdout",
     "output_type": "stream",
     "text": [
      "1888/1875 [==============================] - 15s - loss: 1.9852 - acc: 0.2865 - val_loss: 0.8985 - val_acc: 0.7412\n",
      "Epoch 2/2\n",
      "1888/1875 [==============================] - 13s - loss: 1.1298 - acc: 0.6271 - val_loss: 0.3116 - val_acc: 0.9098\n"
     ]
    },
    {
     "data": {
      "text/plain": [
       "<keras.callbacks.History at 0x2a19633dcc0>"
      ]
     },
     "execution_count": 96,
     "metadata": {},
     "output_type": "execute_result"
    }
   ],
   "source": [
    "epoch = 2\n",
    "batch_size = 32\n",
    "\n",
    "model.fit_generator(datagen.flow(x_train,y_train,batch_size=batch_size),nb_epoch=epoch, validation_data=(x_test,y_test),\n",
    "                   samples_per_epoch=x_train.shape[0]//batch_size)"
   ]
  },
  {
   "cell_type": "code",
   "execution_count": 97,
   "metadata": {},
   "outputs": [
    {
     "name": "stdout",
     "output_type": "stream",
     "text": [
      "Epoch 1/3\n",
      "1888/1875 [==============================] - 12s - loss: 0.7520 - acc: 0.7564 - val_loss: 0.2103 - val_acc: 0.9431\n",
      "Epoch 2/3\n",
      "1888/1875 [==============================] - 13s - loss: 0.5332 - acc: 0.8400 - val_loss: 0.1480 - val_acc: 0.9554\n",
      "Epoch 3/3\n",
      "1888/1875 [==============================] - 13s - loss: 0.4654 - acc: 0.8623 - val_loss: 0.1482 - val_acc: 0.9599\n"
     ]
    },
    {
     "data": {
      "text/plain": [
       "<keras.callbacks.History at 0x2a1a516c240>"
      ]
     },
     "execution_count": 97,
     "metadata": {},
     "output_type": "execute_result"
    }
   ],
   "source": [
    "epoch = 3\n",
    "batch_size = 32\n",
    "\n",
    "model.fit_generator(datagen.flow(x_train,y_train,batch_size=batch_size),nb_epoch=epoch, validation_data=(x_test,y_test),\n",
    "                   samples_per_epoch=x_train.shape[0]//batch_size)"
   ]
  },
  {
   "cell_type": "code",
   "execution_count": 98,
   "metadata": {},
   "outputs": [
    {
     "name": "stdout",
     "output_type": "stream",
     "text": [
      "Epoch 1/3\n",
      "1888/1875 [==============================] - 13s - loss: 0.3599 - acc: 0.8845 - val_loss: 0.0965 - val_acc: 0.9684\n",
      "Epoch 2/3\n",
      "1888/1875 [==============================] - 12s - loss: 0.3552 - acc: 0.8888 - val_loss: 0.1017 - val_acc: 0.9683\n",
      "Epoch 3/3\n",
      "1888/1875 [==============================] - 13s - loss: 0.3288 - acc: 0.9010 - val_loss: 0.0733 - val_acc: 0.9766\n"
     ]
    },
    {
     "data": {
      "text/plain": [
       "<keras.callbacks.History at 0x2a1a573b0f0>"
      ]
     },
     "execution_count": 98,
     "metadata": {},
     "output_type": "execute_result"
    }
   ],
   "source": [
    "epoch = 3\n",
    "batch_size = 32\n",
    "\n",
    "model.fit_generator(datagen.flow(x_train,y_train,batch_size=batch_size),nb_epoch=epoch, validation_data=(x_test,y_test),\n",
    "                   samples_per_epoch=x_train.shape[0]//batch_size)"
   ]
  },
  {
   "cell_type": "code",
   "execution_count": 99,
   "metadata": {},
   "outputs": [
    {
     "name": "stdout",
     "output_type": "stream",
     "text": [
      "Epoch 1/10\n",
      "1888/1875 [==============================] - 13s - loss: 0.3031 - acc: 0.9094 - val_loss: 0.0923 - val_acc: 0.9721\n",
      "Epoch 2/10\n",
      "1888/1875 [==============================] - 12s - loss: 0.2478 - acc: 0.9206 - val_loss: 0.0790 - val_acc: 0.9764\n",
      "Epoch 3/10\n",
      "1888/1875 [==============================] - 13s - loss: 0.2200 - acc: 0.9354 - val_loss: 0.0649 - val_acc: 0.9805\n",
      "Epoch 4/10\n",
      "1888/1875 [==============================] - 12s - loss: 0.2596 - acc: 0.9211 - val_loss: 0.0728 - val_acc: 0.9773\n",
      "Epoch 5/10\n",
      "1888/1875 [==============================] - 13s - loss: 0.2311 - acc: 0.9290 - val_loss: 0.0745 - val_acc: 0.9766\n",
      "Epoch 6/10\n",
      "1888/1875 [==============================] - 13s - loss: 0.2032 - acc: 0.9401 - val_loss: 0.0592 - val_acc: 0.9809\n",
      "Epoch 7/10\n",
      "1888/1875 [==============================] - 13s - loss: 0.2065 - acc: 0.9333 - val_loss: 0.0658 - val_acc: 0.9793\n",
      "Epoch 8/10\n",
      "1888/1875 [==============================] - 12s - loss: 0.2265 - acc: 0.9317 - val_loss: 0.0560 - val_acc: 0.9806\n",
      "Epoch 9/10\n",
      "1888/1875 [==============================] - 13s - loss: 0.2033 - acc: 0.9359 - val_loss: 0.0554 - val_acc: 0.9825\n",
      "Epoch 10/10\n",
      "1888/1875 [==============================] - 13s - loss: 0.1861 - acc: 0.9492 - val_loss: 0.0593 - val_acc: 0.9813\n"
     ]
    },
    {
     "data": {
      "text/plain": [
       "<keras.callbacks.History at 0x2a1a572c7f0>"
      ]
     },
     "execution_count": 99,
     "metadata": {},
     "output_type": "execute_result"
    }
   ],
   "source": [
    "epoch = 10\n",
    "batch_size = 32\n",
    "\n",
    "model.fit_generator(datagen.flow(x_train,y_train,batch_size=batch_size),nb_epoch=epoch, validation_data=(x_test,y_test),\n",
    "                   samples_per_epoch=x_train.shape[0]//batch_size)"
   ]
  },
  {
   "cell_type": "code",
   "execution_count": 100,
   "metadata": {},
   "outputs": [
    {
     "name": "stdout",
     "output_type": "stream",
     "text": [
      "Epoch 1/5\n",
      "1888/1875 [==============================] - 13s - loss: 0.1598 - acc: 0.9470 - val_loss: 0.0397 - val_acc: 0.9865\n",
      "Epoch 2/5\n",
      "1888/1875 [==============================] - 13s - loss: 0.1480 - acc: 0.9492 - val_loss: 0.0545 - val_acc: 0.9827\n",
      "Epoch 3/5\n",
      "1888/1875 [==============================] - 13s - loss: 0.1896 - acc: 0.9370 - val_loss: 0.0468 - val_acc: 0.9852\n",
      "Epoch 4/5\n",
      "1888/1875 [==============================] - 13s - loss: 0.1307 - acc: 0.9645 - val_loss: 0.0654 - val_acc: 0.9790\n",
      "Epoch 5/5\n",
      "1888/1875 [==============================] - 14s - loss: 0.1474 - acc: 0.9502 - val_loss: 0.0664 - val_acc: 0.9798\n"
     ]
    },
    {
     "data": {
      "text/plain": [
       "<keras.callbacks.History at 0x2a1a5720f60>"
      ]
     },
     "execution_count": 100,
     "metadata": {},
     "output_type": "execute_result"
    }
   ],
   "source": [
    "epoch = 5\n",
    "batch_size = 32\n",
    "\n",
    "model.fit_generator(datagen.flow(x_train,y_train,batch_size=batch_size),nb_epoch=epoch, validation_data=(x_test,y_test),\n",
    "                   samples_per_epoch=x_train.shape[0]//batch_size)"
   ]
  },
  {
   "cell_type": "code",
   "execution_count": null,
   "metadata": {},
   "outputs": [],
   "source": []
  }
 ],
 "metadata": {
  "kernelspec": {
   "display_name": "Python 3",
   "language": "python",
   "name": "python3"
  },
  "language_info": {
   "codemirror_mode": {
    "name": "ipython",
    "version": 3
   },
   "file_extension": ".py",
   "mimetype": "text/x-python",
   "name": "python",
   "nbconvert_exporter": "python",
   "pygments_lexer": "ipython3",
   "version": "3.6.8"
  }
 },
 "nbformat": 4,
 "nbformat_minor": 2
}
