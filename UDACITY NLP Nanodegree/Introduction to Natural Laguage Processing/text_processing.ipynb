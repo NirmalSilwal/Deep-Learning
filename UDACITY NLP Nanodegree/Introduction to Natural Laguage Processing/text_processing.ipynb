{
 "cells": [
  {
   "cell_type": "markdown",
   "metadata": {},
   "source": [
    "# Text Processing\n",
    "\n",
    "## Capturing Text Data\n",
    "\n",
    "### Plain Text"
   ]
  },
  {
   "cell_type": "code",
   "execution_count": 6,
   "metadata": {},
   "outputs": [
    {
     "name": "stdout",
     "output_type": "stream",
     "text": [
      "apple.txt        hieroglyph.txt            kingfisher.txt\r\n",
      "game-theory.txt  house-with-chimaeras.txt  news.csv\r\n"
     ]
    }
   ],
   "source": [
    "ls data/"
   ]
  },
  {
   "cell_type": "code",
   "execution_count": 7,
   "metadata": {},
   "outputs": [
    {
     "name": "stdout",
     "output_type": "stream",
     "text": [
      "Hieroglyphic writing dates from c. 3000 BC, and is composed of hundreds of symbols. A hieroglyph can represent a word, a sound, or a silent determinative; and the same symbol can serve different purposes in different contexts. Hieroglyphs were a formal script, used on stone monuments and in tombs, that could be as detailed as individual works of art.\n",
      "\n"
     ]
    }
   ],
   "source": [
    "import os\n",
    "with open(os.path.join('data', 'hieroglyph.txt'),'r') as f:\n",
    "    text = f.read()\n",
    "    print(text)"
   ]
  },
  {
   "cell_type": "code",
   "execution_count": 8,
   "metadata": {},
   "outputs": [
    {
     "name": "stdout",
     "output_type": "stream",
     "text": [
      "Hieroglyphic writing dates from c. 3000 BC, and is composed of hundreds of symbols. A hieroglyph can represent a word, a sound, or a silent determinative; and the same symbol can serve different purposes in different contexts. Hieroglyphs were a formal script, used on stone monuments and in tombs, that could be as detailed as individual works of art.\n",
      "\n"
     ]
    }
   ],
   "source": [
    "import os\n",
    "\n",
    "# Read in a plain text file\n",
    "with open(os.path.join(\"data\", \"hieroglyph.txt\"), \"r\") as f:\n",
    "    text = f.read()\n",
    "    print(text)"
   ]
  },
  {
   "cell_type": "markdown",
   "metadata": {},
   "source": [
    "### Tabular Data"
   ]
  },
  {
   "cell_type": "code",
   "execution_count": null,
   "metadata": {
    "scrolled": true
   },
   "outputs": [],
   "source": [
    "# import pandas as pd\n",
    "\n",
    "# # Extract text column from a dataframe\n",
    "# df = pd.read_csv(os.path.join(\"data\", \"news.csv\"))\n",
    "# df.head()[['publisher', 'title']]\n",
    "\n",
    "# # Convert text column to lowercase\n",
    "# df['title'] = df['title'].str.lower()\n",
    "# df.head()[['publisher', 'title']]"
   ]
  },
  {
   "cell_type": "code",
   "execution_count": 20,
   "metadata": {},
   "outputs": [
    {
     "data": {
      "text/html": [
       "<div>\n",
       "<style scoped>\n",
       "    .dataframe tbody tr th:only-of-type {\n",
       "        vertical-align: middle;\n",
       "    }\n",
       "\n",
       "    .dataframe tbody tr th {\n",
       "        vertical-align: top;\n",
       "    }\n",
       "\n",
       "    .dataframe thead th {\n",
       "        text-align: right;\n",
       "    }\n",
       "</style>\n",
       "<table border=\"1\" class=\"dataframe\">\n",
       "  <thead>\n",
       "    <tr style=\"text-align: right;\">\n",
       "      <th></th>\n",
       "      <th>id</th>\n",
       "      <th>title</th>\n",
       "      <th>url</th>\n",
       "      <th>publisher</th>\n",
       "      <th>category</th>\n",
       "      <th>story</th>\n",
       "      <th>hostname</th>\n",
       "      <th>timestamp</th>\n",
       "    </tr>\n",
       "  </thead>\n",
       "  <tbody>\n",
       "    <tr>\n",
       "      <th>0</th>\n",
       "      <td>2</td>\n",
       "      <td>Fed's Charles Plosser sees high bar for change...</td>\n",
       "      <td>http://www.livemint.com/Politics/H2EvwJSK2VE6O...</td>\n",
       "      <td>Livemint</td>\n",
       "      <td>b</td>\n",
       "      <td>ddUyU0VZz0BRneMioxUPQVP6sIxvM</td>\n",
       "      <td>www.livemint.com</td>\n",
       "      <td>1394470371207</td>\n",
       "    </tr>\n",
       "    <tr>\n",
       "      <th>1</th>\n",
       "      <td>3</td>\n",
       "      <td>US open: Stocks fall after Fed official hints ...</td>\n",
       "      <td>http://www.ifamagazine.com/news/us-open-stocks...</td>\n",
       "      <td>IFA Magazine</td>\n",
       "      <td>b</td>\n",
       "      <td>ddUyU0VZz0BRneMioxUPQVP6sIxvM</td>\n",
       "      <td>www.ifamagazine.com</td>\n",
       "      <td>1394470371550</td>\n",
       "    </tr>\n",
       "  </tbody>\n",
       "</table>\n",
       "</div>"
      ],
      "text/plain": [
       "   id                                              title  \\\n",
       "0   2  Fed's Charles Plosser sees high bar for change...   \n",
       "1   3  US open: Stocks fall after Fed official hints ...   \n",
       "\n",
       "                                                 url     publisher category  \\\n",
       "0  http://www.livemint.com/Politics/H2EvwJSK2VE6O...      Livemint        b   \n",
       "1  http://www.ifamagazine.com/news/us-open-stocks...  IFA Magazine        b   \n",
       "\n",
       "                           story             hostname      timestamp  \n",
       "0  ddUyU0VZz0BRneMioxUPQVP6sIxvM     www.livemint.com  1394470371207  \n",
       "1  ddUyU0VZz0BRneMioxUPQVP6sIxvM  www.ifamagazine.com  1394470371550  "
      ]
     },
     "execution_count": 20,
     "metadata": {},
     "output_type": "execute_result"
    }
   ],
   "source": [
    "import pandas as pd\n",
    "df = pd.read_csv(os.path.join('data', 'news.csv'))\n",
    "df.head(2)"
   ]
  },
  {
   "cell_type": "code",
   "execution_count": 11,
   "metadata": {},
   "outputs": [
    {
     "data": {
      "text/plain": [
       "Index(['id', 'title', 'url', 'publisher', 'category', 'story', 'hostname',\n",
       "       'timestamp'],\n",
       "      dtype='object')"
      ]
     },
     "execution_count": 11,
     "metadata": {},
     "output_type": "execute_result"
    }
   ],
   "source": [
    "df.columns"
   ]
  },
  {
   "cell_type": "code",
   "execution_count": 21,
   "metadata": {},
   "outputs": [
    {
     "data": {
      "text/html": [
       "<div>\n",
       "<style scoped>\n",
       "    .dataframe tbody tr th:only-of-type {\n",
       "        vertical-align: middle;\n",
       "    }\n",
       "\n",
       "    .dataframe tbody tr th {\n",
       "        vertical-align: top;\n",
       "    }\n",
       "\n",
       "    .dataframe thead th {\n",
       "        text-align: right;\n",
       "    }\n",
       "</style>\n",
       "<table border=\"1\" class=\"dataframe\">\n",
       "  <thead>\n",
       "    <tr style=\"text-align: right;\">\n",
       "      <th></th>\n",
       "      <th>publisher</th>\n",
       "      <th>title</th>\n",
       "    </tr>\n",
       "  </thead>\n",
       "  <tbody>\n",
       "    <tr>\n",
       "      <th>0</th>\n",
       "      <td>Livemint</td>\n",
       "      <td>Fed's Charles Plosser sees high bar for change...</td>\n",
       "    </tr>\n",
       "    <tr>\n",
       "      <th>1</th>\n",
       "      <td>IFA Magazine</td>\n",
       "      <td>US open: Stocks fall after Fed official hints ...</td>\n",
       "    </tr>\n",
       "    <tr>\n",
       "      <th>2</th>\n",
       "      <td>IFA Magazine</td>\n",
       "      <td>Fed risks falling 'behind the curve', Charles ...</td>\n",
       "    </tr>\n",
       "    <tr>\n",
       "      <th>3</th>\n",
       "      <td>Moneynews</td>\n",
       "      <td>Fed's Plosser: Nasty Weather Has Curbed Job Gr...</td>\n",
       "    </tr>\n",
       "    <tr>\n",
       "      <th>4</th>\n",
       "      <td>NASDAQ</td>\n",
       "      <td>Plosser: Fed May Have to Accelerate Tapering Pace</td>\n",
       "    </tr>\n",
       "  </tbody>\n",
       "</table>\n",
       "</div>"
      ],
      "text/plain": [
       "      publisher                                              title\n",
       "0      Livemint  Fed's Charles Plosser sees high bar for change...\n",
       "1  IFA Magazine  US open: Stocks fall after Fed official hints ...\n",
       "2  IFA Magazine  Fed risks falling 'behind the curve', Charles ...\n",
       "3     Moneynews  Fed's Plosser: Nasty Weather Has Curbed Job Gr...\n",
       "4        NASDAQ  Plosser: Fed May Have to Accelerate Tapering Pace"
      ]
     },
     "execution_count": 21,
     "metadata": {},
     "output_type": "execute_result"
    }
   ],
   "source": [
    "df.head()[['publisher','title']]"
   ]
  },
  {
   "cell_type": "code",
   "execution_count": 22,
   "metadata": {},
   "outputs": [
    {
     "data": {
      "text/plain": [
       "0    fed's charles plosser sees high bar for change...\n",
       "1    us open: stocks fall after fed official hints ...\n",
       "2    fed risks falling 'behind the curve', charles ...\n",
       "3    fed's plosser: nasty weather has curbed job gr...\n",
       "4    plosser: fed may have to accelerate tapering pace\n",
       "Name: title, dtype: object"
      ]
     },
     "execution_count": 22,
     "metadata": {},
     "output_type": "execute_result"
    }
   ],
   "source": [
    "df['title'].head().str.lower()"
   ]
  },
  {
   "cell_type": "code",
   "execution_count": 23,
   "metadata": {},
   "outputs": [
    {
     "data": {
      "text/html": [
       "<div>\n",
       "<style scoped>\n",
       "    .dataframe tbody tr th:only-of-type {\n",
       "        vertical-align: middle;\n",
       "    }\n",
       "\n",
       "    .dataframe tbody tr th {\n",
       "        vertical-align: top;\n",
       "    }\n",
       "\n",
       "    .dataframe thead th {\n",
       "        text-align: right;\n",
       "    }\n",
       "</style>\n",
       "<table border=\"1\" class=\"dataframe\">\n",
       "  <thead>\n",
       "    <tr style=\"text-align: right;\">\n",
       "      <th></th>\n",
       "      <th>publisher</th>\n",
       "      <th>title</th>\n",
       "    </tr>\n",
       "  </thead>\n",
       "  <tbody>\n",
       "    <tr>\n",
       "      <th>0</th>\n",
       "      <td>Livemint</td>\n",
       "      <td>fed's charles plosser sees high bar for change...</td>\n",
       "    </tr>\n",
       "    <tr>\n",
       "      <th>1</th>\n",
       "      <td>IFA Magazine</td>\n",
       "      <td>us open: stocks fall after fed official hints ...</td>\n",
       "    </tr>\n",
       "    <tr>\n",
       "      <th>2</th>\n",
       "      <td>IFA Magazine</td>\n",
       "      <td>fed risks falling 'behind the curve', charles ...</td>\n",
       "    </tr>\n",
       "    <tr>\n",
       "      <th>3</th>\n",
       "      <td>Moneynews</td>\n",
       "      <td>fed's plosser: nasty weather has curbed job gr...</td>\n",
       "    </tr>\n",
       "    <tr>\n",
       "      <th>4</th>\n",
       "      <td>NASDAQ</td>\n",
       "      <td>plosser: fed may have to accelerate tapering pace</td>\n",
       "    </tr>\n",
       "  </tbody>\n",
       "</table>\n",
       "</div>"
      ],
      "text/plain": [
       "      publisher                                              title\n",
       "0      Livemint  fed's charles plosser sees high bar for change...\n",
       "1  IFA Magazine  us open: stocks fall after fed official hints ...\n",
       "2  IFA Magazine  fed risks falling 'behind the curve', charles ...\n",
       "3     Moneynews  fed's plosser: nasty weather has curbed job gr...\n",
       "4        NASDAQ  plosser: fed may have to accelerate tapering pace"
      ]
     },
     "execution_count": 23,
     "metadata": {},
     "output_type": "execute_result"
    }
   ],
   "source": [
    "df['title'] = df['title'].head().str.lower()\n",
    "df.head()[['publisher','title']]"
   ]
  },
  {
   "cell_type": "markdown",
   "metadata": {},
   "source": [
    "### Online Resource"
   ]
  },
  {
   "cell_type": "code",
   "execution_count": null,
   "metadata": {
    "scrolled": true
   },
   "outputs": [],
   "source": [
    "# import requests\n",
    "# import json\n",
    "\n",
    "# # Fetch data from a REST API\n",
    "# r = requests.get(\n",
    "#     \"https://quotes.rest/qod.json\")\n",
    "# res = r.json()\n",
    "# print(json.dumps(res, indent=4))\n",
    "\n",
    "# # Extract relevant object and field\n",
    "# q = res[\"contents\"][\"quotes\"][0]\n",
    "# print(q[\"quote\"], \"\\n--\", q[\"author\"])"
   ]
  },
  {
   "cell_type": "code",
   "execution_count": 25,
   "metadata": {},
   "outputs": [
    {
     "name": "stdout",
     "output_type": "stream",
     "text": [
      "<Response [200]>\n"
     ]
    }
   ],
   "source": [
    "import requests, json\n",
    "\n",
    "r = requests.get(\"https://quotes.rest/qod.json\")\n",
    "print(r)"
   ]
  },
  {
   "cell_type": "code",
   "execution_count": 33,
   "metadata": {},
   "outputs": [
    {
     "data": {
      "text/plain": [
       "requests.models.Response"
      ]
     },
     "execution_count": 33,
     "metadata": {},
     "output_type": "execute_result"
    }
   ],
   "source": [
    "type(r)"
   ]
  },
  {
   "cell_type": "code",
   "execution_count": 26,
   "metadata": {},
   "outputs": [
    {
     "data": {
      "text/plain": [
       "{'success': {'total': 1},\n",
       " 'contents': {'quotes': [{'quote': 'Vulnerability is not winning or losing; it’s having the courage to show up and be seen when we have no control over the outcome.',\n",
       "    'length': '128',\n",
       "    'author': 'Brene Brown',\n",
       "    'tags': {'0': 'inspire', '2': 'vulnerability'},\n",
       "    'category': 'inspire',\n",
       "    'language': 'en',\n",
       "    'date': '2020-05-11',\n",
       "    'permalink': 'https://theysaidso.com/quote/brene-brown-vulnerability-is-not-winning-or-losing-its-having-the-courage-to-sho',\n",
       "    'id': '2RtB_9exZs1JGG4vW1peHgeF',\n",
       "    'background': 'https://theysaidso.com/img/qod/qod-inspire.jpg',\n",
       "    'title': 'Inspiring Quote of the day'}]},\n",
       " 'baseurl': 'https://theysaidso.com',\n",
       " 'copyright': {'year': 2022, 'url': 'https://theysaidso.com'}}"
      ]
     },
     "execution_count": 26,
     "metadata": {},
     "output_type": "execute_result"
    }
   ],
   "source": [
    "r.json()"
   ]
  },
  {
   "cell_type": "code",
   "execution_count": 39,
   "metadata": {},
   "outputs": [
    {
     "data": {
      "text/plain": [
       "'vulnerability'"
      ]
     },
     "execution_count": 39,
     "metadata": {},
     "output_type": "execute_result"
    }
   ],
   "source": [
    "r.json()['contents']['quotes'][0]['tags']['2']"
   ]
  },
  {
   "cell_type": "code",
   "execution_count": 28,
   "metadata": {},
   "outputs": [
    {
     "data": {
      "text/plain": [
       "[{'quote': 'Vulnerability is not winning or losing; it’s having the courage to show up and be seen when we have no control over the outcome.',\n",
       "  'length': '128',\n",
       "  'author': 'Brene Brown',\n",
       "  'tags': {'0': 'inspire', '2': 'vulnerability'},\n",
       "  'category': 'inspire',\n",
       "  'language': 'en',\n",
       "  'date': '2020-05-11',\n",
       "  'permalink': 'https://theysaidso.com/quote/brene-brown-vulnerability-is-not-winning-or-losing-its-having-the-courage-to-sho',\n",
       "  'id': '2RtB_9exZs1JGG4vW1peHgeF',\n",
       "  'background': 'https://theysaidso.com/img/qod/qod-inspire.jpg',\n",
       "  'title': 'Inspiring Quote of the day'}]"
      ]
     },
     "execution_count": 28,
     "metadata": {},
     "output_type": "execute_result"
    }
   ],
   "source": [
    "res = r.json()\n",
    "res['contents']['quotes']"
   ]
  },
  {
   "cell_type": "code",
   "execution_count": 31,
   "metadata": {},
   "outputs": [
    {
     "data": {
      "text/plain": [
       "'Vulnerability is not winning or losing; it’s having the courage to show up and be seen when we have no control over the outcome.'"
      ]
     },
     "execution_count": 31,
     "metadata": {},
     "output_type": "execute_result"
    }
   ],
   "source": [
    "res = r.json()\n",
    "res['contents']['quotes'][0]['quote']"
   ]
  },
  {
   "cell_type": "code",
   "execution_count": 32,
   "metadata": {},
   "outputs": [
    {
     "data": {
      "text/plain": [
       "'Brene Brown'"
      ]
     },
     "execution_count": 32,
     "metadata": {},
     "output_type": "execute_result"
    }
   ],
   "source": [
    "res['contents']['quotes'][0]['author']"
   ]
  },
  {
   "cell_type": "markdown",
   "metadata": {},
   "source": [
    "## Cleaning"
   ]
  },
  {
   "cell_type": "code",
   "execution_count": 45,
   "metadata": {
    "scrolled": true
   },
   "outputs": [
    {
     "name": "stdout",
     "output_type": "stream",
     "text": [
      "<html lang=\"en\" op=\"news\"><head><meta name=\"referrer\" content=\"origin\"><meta name=\"viewport\" content=\"width=device-width, initial-scale=1.0\"><link rel=\"stylesheet\" type=\"text/css\" href=\"news.css?qgmUawbBF6R5AeIXHTFL\">\n",
      "        <link rel=\"shortcut icon\" href=\"favicon.ico\">\n",
      "          <link rel=\"alternate\" type=\"application/rss+xml\" title=\"RSS\" href=\"rss\">\n",
      "        <title>Hacker News</title></head><body><center><table id=\"hnmain\" border=\"0\" cellpadding=\"0\" cellspacing=\"0\" width=\"85%\" bgcolor=\"#f6f6ef\">\n",
      "        <tr><td bgcolor=\"#ff6600\"><table border=\"0\" cellpadding=\"0\" cellspacing=\"0\" width=\"100%\" style=\"padding:2px\"><tr><td style=\"width:18px;padding-right:4px\"><a href=\"https://news.ycombinator.com\"><img src=\"y18.gif\" width=\"18\" height=\"18\" style=\"border:1px white solid;\"></a></td>\n",
      "                  <td style=\"line-height:12pt; height:10px;\"><span class=\"pagetop\"><b class=\"hnname\"><a href=\"news\">Hacker News</a></b>\n",
      "              <a href=\"newest\">new</a> | <a href=\"front\">past</a> | <a href=\"newcomments\">comments</a> | <a href=\"ask\">ask</a> | <a href=\"show\">show</a> | <a href=\"jobs\">jobs</a> | <a href=\"submit\">submit</a>            </span></td><td style=\"text-align:right;padding-right:4px;\"><span class=\"pagetop\">\n",
      "                              <a href=\"login?goto=news\">login</a>\n",
      "                          </span></td>\n",
      "              </tr></table></td></tr>\n",
      "<tr id=\"pagespace\" title=\"\" style=\"height:10px\"></tr><tr><td><table border=\"0\" cellpadding=\"0\" cellspacing=\"0\" class=\"itemlist\">\n",
      "              <tr class='athing' id='23144450'>\n",
      "      <td align=\"right\" valign=\"top\" class=\"title\"><span class=\"rank\">1.</span></td>      <td valign=\"top\" class=\"votelinks\"><center><a id='up_23144450' href='vote?id=23144450&amp;how=up&amp;goto=news'><div class='votearrow' title='upvote'></div></a></center></td><td class=\"title\"><a href=\"http://nifi.apache.org/index.html\" class=\"storylink\">Apache NiFi</a><span class=\"sitebit comhead\"> (<a href=\"from?site=apache.org\"><span class=\"sitestr\">apache.org</span></a>)</span></td></tr><tr><td colspan=\"2\"></td><td class=\"subtext\">\n",
      "        <span class=\"score\" id=\"score_23144450\">84 points</span> by <a href=\"user?id=boredgamer2\" class=\"hnuser\">boredgamer2</a> <span class=\"age\"><a href=\"item?id=23144450\">2 hours ago</a></span> <span id=\"unv_23144450\"></span> | <a href=\"hide?id=23144450&amp;goto=news\">hide</a> | <a href=\"item?id=23144450\">29&nbsp;comments</a>              </td></tr>\n",
      "      <tr class=\"spacer\" style=\"height:5px\"></tr>\n",
      "                <tr class='athing' id='23143888'>\n",
      "      <td align=\"right\" valign=\"top\" class=\"title\"><span class=\"rank\">2.</span></td>      <td valign=\"top\" class=\"votelinks\"><center><a id='up_23143888' href='vote?id=23143888&amp;how=up&amp;goto=news'><div class='votearrow' title='upvote'></div></a></center></td><td class=\"title\"><a href=\"https://www.pjrc.com/store/teensy41.html\" class=\"storylink\">Teensy 4.1 Development Board</a><span class=\"sitebit comhead\"> (<a href=\"from?site=pjrc.com\"><span class=\"sitestr\">pjrc.com</span></a>)</span></td></tr><tr><td colspan=\"2\"></td><td class=\"subtext\">\n",
      "        <span class=\"score\" id=\"score_23143888\">158 points</span> by <a href=\"user?id=milo_im\" class=\"hnuser\">milo_im</a> <span class=\"age\"><a href=\"item?id=23143888\">2 hours ago</a></span> <span id=\"unv_23143888\"></span> | <a href=\"hide?id=23143888&amp;goto=news\">hide</a> | <a href=\"item?id=23143888\">78&nbsp;comments</a>              </td></tr>\n",
      "      <tr class=\"spacer\" style=\"height:5px\"></tr>\n",
      "                <tr class='athing' id='23144273'>\n",
      "      <td align=\"right\" valign=\"top\" class=\"title\"><span class=\"rank\">3.</span></td>      <td valign=\"top\" class=\"votelinks\"><center><a id='up_23144273' href='vote?id=23144273&amp;how=up&amp;goto=news'><div class='votearrow' title='upvote'></div></a></center></td><td class=\"title\"><a href=\"https://webrecorder.io/\" class=\"storylink\">Webrecorder: Make an interactive copy of any web page that you browse</a><span class=\"sitebit comhead\"> (<a href=\"from?site=webrecorder.io\"><span class=\"sitestr\">webrecorder.io</span></a>)</span></td></tr><tr><td colspan=\"2\"></td><td class=\"subtext\">\n",
      "        <span class=\"score\" id=\"score_23144273\">98 points</span> by <a href=\"user?id=pcr910303\" class=\"hnuser\">pcr910303</a> <span class=\"age\"><a href=\"item?id=23144273\">2 hours ago</a></span> <span id=\"unv_23144273\"></span> | <a href=\"hide?id=23144273&amp;goto=news\">hide</a> | <a href=\"item?id=23144273\">22&nbsp;comments</a>              </td></tr>\n",
      "      <tr class=\"spacer\" style=\"height:5px\"></tr>\n",
      "                <tr class='athing' id='23145164'>\n",
      "      <td align=\"right\" valign=\"top\" class=\"title\"><span class=\"rank\">4.</span></td>      <td valign=\"top\" class=\"votelinks\"><center><a id='up_23145164' href='vote?id=23145164&amp;how=up&amp;goto=news'><div class='votearrow' title='upvote'></div></a></center></td><td class=\"title\"><a href=\"https://marker.medium.com/the-office-is-dead-16be89f25d01\" class=\"storylink\">The Office Is Dead</a><span class=\"sitebit comhead\"> (<a href=\"from?site=marker.medium.com\"><span class=\"sitestr\">marker.medium.com</span></a>)</span></td></tr><tr><td colspan=\"2\"></td><td class=\"subtext\">\n",
      "        <span class=\"score\" id=\"score_23145164\">35 points</span> by <a href=\"user?id=BobbieG\" class=\"hnuser\">BobbieG</a> <span class=\"age\"><a href=\"item?id=23145164\">1 hour ago</a></span> <span id=\"unv_23145164\"></span> | <a href=\"hide?id=23145164&amp;goto=news\">hide</a> | <a href=\"item?id=23145164\">30&nbsp;comments</a>              </td></tr>\n",
      "      <tr class=\"spacer\" style=\"height:5px\"></tr>\n",
      "                <tr class='athing' id='23144380'>\n",
      "      <td align=\"right\" valign=\"top\" class=\"title\"><span class=\"rank\">5.</span></td>      <td valign=\"top\" class=\"votelinks\"><center><a id='up_23144380' href='vote?id=23144380&amp;how=up&amp;goto=news'><div class='votearrow' title='upvote'></div></a></center></td><td class=\"title\"><a href=\"https://saagarjha.com/blog/2020/05/10/why-we-at-famous-company-switched-to-hyped-technology/\" class=\"storylink\">We at $Famous_company switched to $Hyped_technology</a><span class=\"sitebit comhead\"> (<a href=\"from?site=saagarjha.com\"><span class=\"sitestr\">saagarjha.com</span></a>)</span></td></tr><tr><td colspan=\"2\"></td><td class=\"subtext\">\n",
      "        <span class=\"score\" id=\"score_23144380\">441 points</span> by <a href=\"user?id=gok\" class=\"hnuser\">gok</a> <span class=\"age\"><a href=\"item?id=23144380\">2 hours ago</a></span> <span id=\"unv_23144380\"></span> | <a href=\"hide?id=23144380&amp;goto=news\">hide</a> | <a href=\"item?id=23144380\">78&nbsp;comments</a>              </td></tr>\n",
      "      <tr class=\"spacer\" style=\"height:5px\"></tr>\n",
      "                <tr class='athing' id='23141353'>\n",
      "      <td align=\"right\" valign=\"top\" class=\"title\"><span class=\"rank\">6.</span></td>      <td valign=\"top\" class=\"votelinks\"><center><a id='up_23141353' href='vote?id=23141353&amp;how=up&amp;goto=news'><div class='votearrow' title='upvote'></div></a></center></td><td class=\"title\"><a href=\"https://www.mcls.io/blog/encouraging-a-culture-of-written-communication\" class=\"storylink\">Encouraging a Culture of Written Communication</a><span class=\"sitebit comhead\"> (<a href=\"from?site=mcls.io\"><span class=\"sitestr\">mcls.io</span></a>)</span></td></tr><tr><td colspan=\"2\"></td><td class=\"subtext\">\n",
      "        <span class=\"score\" id=\"score_23141353\">281 points</span> by <a href=\"user?id=quintencls\" class=\"hnuser\">quintencls</a> <span class=\"age\"><a href=\"item?id=23141353\">6 hours ago</a></span> <span id=\"unv_23141353\"></span> | <a href=\"hide?id=23141353&amp;goto=news\">hide</a> | <a href=\"item?id=23141353\">129&nbsp;comments</a>              </td></tr>\n",
      "      <tr class=\"spacer\" style=\"height:5px\"></tr>\n",
      "                <tr class='athing' id='23130247'>\n",
      "      <td align=\"right\" valign=\"top\" class=\"title\"><span class=\"rank\">7.</span></td>      <td valign=\"top\" class=\"votelinks\"><center><a id='up_23130247' href='vote?id=23130247&amp;how=up&amp;goto=news'><div class='votearrow' title='upvote'></div></a></center></td><td class=\"title\"><a href=\"https://scattered-thoughts.net/writing/pinephone-first-steps/\" class=\"storylink\">Pinephone first steps</a><span class=\"sitebit comhead\"> (<a href=\"from?site=scattered-thoughts.net\"><span class=\"sitestr\">scattered-thoughts.net</span></a>)</span></td></tr><tr><td colspan=\"2\"></td><td class=\"subtext\">\n",
      "        <span class=\"score\" id=\"score_23130247\">66 points</span> by <a href=\"user?id=todsacerdoti\" class=\"hnuser\">todsacerdoti</a> <span class=\"age\"><a href=\"item?id=23130247\">2 hours ago</a></span> <span id=\"unv_23130247\"></span> | <a href=\"hide?id=23130247&amp;goto=news\">hide</a> | <a href=\"item?id=23130247\">16&nbsp;comments</a>              </td></tr>\n",
      "      <tr class=\"spacer\" style=\"height:5px\"></tr>\n",
      "                <tr class='athing' id='23142220'>\n",
      "      <td align=\"right\" valign=\"top\" class=\"title\"><span class=\"rank\">8.</span></td>      <td valign=\"top\" class=\"votelinks\"><center><a id='up_23142220' href='vote?id=23142220&amp;how=up&amp;goto=news'><div class='votearrow' title='upvote'></div></a></center></td><td class=\"title\"><a href=\"https://www.benawad.com/scraping-recipe-websites/\" class=\"storylink\">Scraping Recipe Websites</a><span class=\"sitebit comhead\"> (<a href=\"from?site=benawad.com\"><span class=\"sitestr\">benawad.com</span></a>)</span></td></tr><tr><td colspan=\"2\"></td><td class=\"subtext\">\n",
      "        <span class=\"score\" id=\"score_23142220\">188 points</span> by <a href=\"user?id=benawad\" class=\"hnuser\">benawad</a> <span class=\"age\"><a href=\"item?id=23142220\">5 hours ago</a></span> <span id=\"unv_23142220\"></span> | <a href=\"hide?id=23142220&amp;goto=news\">hide</a> | <a href=\"item?id=23142220\">115&nbsp;comments</a>              </td></tr>\n",
      "      <tr class=\"spacer\" style=\"height:5px\"></tr>\n",
      "                <tr class='athing' id='23143061'>\n",
      "      <td align=\"right\" valign=\"top\" class=\"title\"><span class=\"rank\">9.</span></td>      <td valign=\"top\" class=\"votelinks\"><center><a id='up_23143061' href='vote?id=23143061&amp;how=up&amp;goto=news'><div class='votearrow' title='upvote'></div></a></center></td><td class=\"title\"><a href=\"https://blog.jldc.me/posts/ryan-air?ref=hnm20\" class=\"storylink\">Ryanair, Hamiltonian Cycles, and using graph theory to find cheap flights (2018)</a><span class=\"sitebit comhead\"> (<a href=\"from?site=jldc.me\"><span class=\"sitestr\">jldc.me</span></a>)</span></td></tr><tr><td colspan=\"2\"></td><td class=\"subtext\">\n",
      "        <span class=\"score\" id=\"score_23143061\">81 points</span> by <a href=\"user?id=jonluca\" class=\"hnuser\">jonluca</a> <span class=\"age\"><a href=\"item?id=23143061\">3 hours ago</a></span> <span id=\"unv_23143061\"></span> | <a href=\"hide?id=23143061&amp;goto=news\">hide</a> | <a href=\"item?id=23143061\">44&nbsp;comments</a>              </td></tr>\n",
      "      <tr class=\"spacer\" style=\"height:5px\"></tr>\n",
      "                <tr class='athing' id='23143224'>\n",
      "      <td align=\"right\" valign=\"top\" class=\"title\"><span class=\"rank\">10.</span></td>      <td valign=\"top\" class=\"votelinks\"><center><a id='up_23143224' href='vote?id=23143224&amp;how=up&amp;goto=news'><div class='votearrow' title='upvote'></div></a></center></td><td class=\"title\"><a href=\"https://jcm.asm.org/content/early/2020/05/07/JCM.00941-20\" class=\"storylink\">New Abbott SARS-CoV-2 antibody test has 99.90% specificity and 100% sensitivity</a><span class=\"sitebit comhead\"> (<a href=\"from?site=asm.org\"><span class=\"sitestr\">asm.org</span></a>)</span></td></tr><tr><td colspan=\"2\"></td><td class=\"subtext\">\n",
      "        <span class=\"score\" id=\"score_23143224\">202 points</span> by <a href=\"user?id=bookofjoe\" class=\"hnuser\">bookofjoe</a> <span class=\"age\"><a href=\"item?id=23143224\">3 hours ago</a></span> <span id=\"unv_23143224\"></span> | <a href=\"hide?id=23143224&amp;goto=news\">hide</a> | <a href=\"item?id=23143224\">79&nbsp;comments</a>              </td></tr>\n",
      "      <tr class=\"spacer\" style=\"height:5px\"></tr>\n",
      "                <tr class='athing' id='23143315'>\n",
      "      <td align=\"right\" valign=\"top\" class=\"title\"><span class=\"rank\">11.</span></td>      <td valign=\"top\" class=\"votelinks\"><center><a id='up_23143315' href='vote?id=23143315&amp;how=up&amp;goto=news'><div class='votearrow' title='upvote'></div></a></center></td><td class=\"title\"><a href=\"https://eslint.org/blog/2020/05/eslint-v7.0.0-released\" class=\"storylink\">ESLint v7.0.0 Released</a><span class=\"sitebit comhead\"> (<a href=\"from?site=eslint.org\"><span class=\"sitestr\">eslint.org</span></a>)</span></td></tr><tr><td colspan=\"2\"></td><td class=\"subtext\">\n",
      "        <span class=\"score\" id=\"score_23143315\">100 points</span> by <a href=\"user?id=himynameisdave\" class=\"hnuser\">himynameisdave</a> <span class=\"age\"><a href=\"item?id=23143315\">3 hours ago</a></span> <span id=\"unv_23143315\"></span> | <a href=\"hide?id=23143315&amp;goto=news\">hide</a> | <a href=\"item?id=23143315\">23&nbsp;comments</a>              </td></tr>\n",
      "      <tr class=\"spacer\" style=\"height:5px\"></tr>\n",
      "                <tr class='athing' id='23141191'>\n",
      "      <td align=\"right\" valign=\"top\" class=\"title\"><span class=\"rank\">12.</span></td>      <td valign=\"top\" class=\"votelinks\"><center><a id='up_23141191' href='vote?id=23141191&amp;how=up&amp;goto=news'><div class='votearrow' title='upvote'></div></a></center></td><td class=\"title\"><a href=\"https://teddykoker.com/2020/05/deep-learning-for-guitar-effect-emulation/\" class=\"storylink\">Deep Learning for Guitar Effect Emulation</a><span class=\"sitebit comhead\"> (<a href=\"from?site=teddykoker.com\"><span class=\"sitestr\">teddykoker.com</span></a>)</span></td></tr><tr><td colspan=\"2\"></td><td class=\"subtext\">\n",
      "        <span class=\"score\" id=\"score_23141191\">249 points</span> by <a href=\"user?id=teddykoker\" class=\"hnuser\">teddykoker</a> <span class=\"age\"><a href=\"item?id=23141191\">7 hours ago</a></span> <span id=\"unv_23141191\"></span> | <a href=\"hide?id=23141191&amp;goto=news\">hide</a> | <a href=\"item?id=23141191\">128&nbsp;comments</a>              </td></tr>\n",
      "      <tr class=\"spacer\" style=\"height:5px\"></tr>\n",
      "                <tr class='athing' id='23143437'>\n",
      "      <td align=\"right\" valign=\"top\" class=\"title\"><span class=\"rank\">13.</span></td>      <td valign=\"top\" class=\"votelinks\"><center><a id='up_23143437' href='vote?id=23143437&amp;how=up&amp;goto=news'><div class='votearrow' title='upvote'></div></a></center></td><td class=\"title\"><a href=\"https://nextjs.org/blog/next-9-4\" class=\"storylink\">Next.js 9.4 – Fast Refresh, Incremental Static Regeneration</a><span class=\"sitebit comhead\"> (<a href=\"from?site=nextjs.org\"><span class=\"sitestr\">nextjs.org</span></a>)</span></td></tr><tr><td colspan=\"2\"></td><td class=\"subtext\">\n",
      "        <span class=\"score\" id=\"score_23143437\">204 points</span> by <a href=\"user?id=STRiDEX\" class=\"hnuser\">STRiDEX</a> <span class=\"age\"><a href=\"item?id=23143437\">3 hours ago</a></span> <span id=\"unv_23143437\"></span> | <a href=\"hide?id=23143437&amp;goto=news\">hide</a> | <a href=\"item?id=23143437\">125&nbsp;comments</a>              </td></tr>\n",
      "      <tr class=\"spacer\" style=\"height:5px\"></tr>\n",
      "                <tr class='athing' id='23142831'>\n",
      "      <td align=\"right\" valign=\"top\" class=\"title\"><span class=\"rank\">14.</span></td>      <td valign=\"top\" class=\"votelinks\"><center><a id='up_23142831' href='vote?id=23142831&amp;how=up&amp;goto=news'><div class='votearrow' title='upvote'></div></a></center></td><td class=\"title\"><a href=\"item?id=23142831\" class=\"storylink\">Launch HN: Data Mechanics (YC S19) – The Simplest Way to Run Apache Spark</a></td></tr><tr><td colspan=\"2\"></td><td class=\"subtext\">\n",
      "        <span class=\"score\" id=\"score_23142831\">72 points</span> by <a href=\"user?id=jstephan\" class=\"hnuser\">jstephan</a> <span class=\"age\"><a href=\"item?id=23142831\">4 hours ago</a></span> <span id=\"unv_23142831\"></span> | <a href=\"hide?id=23142831&amp;goto=news\">hide</a> | <a href=\"item?id=23142831\">15&nbsp;comments</a>              </td></tr>\n",
      "      <tr class=\"spacer\" style=\"height:5px\"></tr>\n",
      "                <tr class='athing' id='23144308'>\n",
      "      <td align=\"right\" valign=\"top\" class=\"title\"><span class=\"rank\">15.</span></td>      <td valign=\"top\" class=\"votelinks\"><center><a id='up_23144308' href='vote?id=23144308&amp;how=up&amp;goto=news'><div class='votearrow' title='upvote'></div></a></center></td><td class=\"title\"><a href=\"https://demystifyingscience.com/blog/how-to-visualize-electricity\" class=\"storylink\">Visualizing Electricity</a><span class=\"sitebit comhead\"> (<a href=\"from?site=demystifyingscience.com\"><span class=\"sitestr\">demystifyingscience.com</span></a>)</span></td></tr><tr><td colspan=\"2\"></td><td class=\"subtext\">\n",
      "        <span class=\"score\" id=\"score_23144308\">32 points</span> by <a href=\"user?id=mickfaraday\" class=\"hnuser\">mickfaraday</a> <span class=\"age\"><a href=\"item?id=23144308\">2 hours ago</a></span> <span id=\"unv_23144308\"></span> | <a href=\"hide?id=23144308&amp;goto=news\">hide</a> | <a href=\"item?id=23144308\">20&nbsp;comments</a>              </td></tr>\n",
      "      <tr class=\"spacer\" style=\"height:5px\"></tr>\n",
      "                <tr class='athing' id='23145130'>\n",
      "      <td align=\"right\" valign=\"top\" class=\"title\"><span class=\"rank\">16.</span></td>      <td valign=\"top\" class=\"votelinks\"><center><a id='up_23145130' href='vote?id=23145130&amp;how=up&amp;goto=news'><div class='votearrow' title='upvote'></div></a></center></td><td class=\"title\"><a href=\"https://fl7b8.csb.app/\" class=\"storylink\">Flight Instruments in Snap SVG and JavaScript</a><span class=\"sitebit comhead\"> (<a href=\"from?site=csb.app\"><span class=\"sitestr\">csb.app</span></a>)</span></td></tr><tr><td colspan=\"2\"></td><td class=\"subtext\">\n",
      "        <span class=\"score\" id=\"score_23145130\">19 points</span> by <a href=\"user?id=duncanmeech\" class=\"hnuser\">duncanmeech</a> <span class=\"age\"><a href=\"item?id=23145130\">1 hour ago</a></span> <span id=\"unv_23145130\"></span> | <a href=\"hide?id=23145130&amp;goto=news\">hide</a> | <a href=\"item?id=23145130\">3&nbsp;comments</a>              </td></tr>\n",
      "      <tr class=\"spacer\" style=\"height:5px\"></tr>\n",
      "                <tr class='athing' id='23143059'>\n",
      "      <td align=\"right\" valign=\"top\" class=\"title\"><span class=\"rank\">17.</span></td>      <td valign=\"top\" class=\"votelinks\"><center><a id='up_23143059' href='vote?id=23143059&amp;how=up&amp;goto=news'><div class='votearrow' title='upvote'></div></a></center></td><td class=\"title\"><a href=\"https://www.quantamagazine.org/black-holes-prove-that-anti-de-sitter-space-time-is-unstable-20200511/\" class=\"storylink\">New Math Proves That a Special Kind of Space-Time Is Unstable</a><span class=\"sitebit comhead\"> (<a href=\"from?site=quantamagazine.org\"><span class=\"sitestr\">quantamagazine.org</span></a>)</span></td></tr><tr><td colspan=\"2\"></td><td class=\"subtext\">\n",
      "        <span class=\"score\" id=\"score_23143059\">61 points</span> by <a href=\"user?id=furcyd\" class=\"hnuser\">furcyd</a> <span class=\"age\"><a href=\"item?id=23143059\">3 hours ago</a></span> <span id=\"unv_23143059\"></span> | <a href=\"hide?id=23143059&amp;goto=news\">hide</a> | <a href=\"item?id=23143059\">19&nbsp;comments</a>              </td></tr>\n",
      "      <tr class=\"spacer\" style=\"height:5px\"></tr>\n",
      "                <tr class='athing' id='23142322'>\n",
      "      <td align=\"right\" valign=\"top\" class=\"title\"><span class=\"rank\">18.</span></td>      <td valign=\"top\" class=\"votelinks\"><center><a id='up_23142322' href='vote?id=23142322&amp;how=up&amp;goto=news'><div class='votearrow' title='upvote'></div></a></center></td><td class=\"title\"><a href=\"https://www.infoq.com/presentations/power-144-chip/\" class=\"storylink\">Programming a 144-computer Chip to Minimize Power</a><span class=\"sitebit comhead\"> (<a href=\"from?site=infoq.com\"><span class=\"sitestr\">infoq.com</span></a>)</span></td></tr><tr><td colspan=\"2\"></td><td class=\"subtext\">\n",
      "        <span class=\"score\" id=\"score_23142322\">82 points</span> by <a href=\"user?id=colinprince\" class=\"hnuser\">colinprince</a> <span class=\"age\"><a href=\"item?id=23142322\">5 hours ago</a></span> <span id=\"unv_23142322\"></span> | <a href=\"hide?id=23142322&amp;goto=news\">hide</a> | <a href=\"item?id=23142322\">23&nbsp;comments</a>              </td></tr>\n",
      "      <tr class=\"spacer\" style=\"height:5px\"></tr>\n",
      "                <tr class='athing' id='23142300'>\n",
      "      <td align=\"right\" valign=\"top\" class=\"title\"><span class=\"rank\">19.</span></td>      <td valign=\"top\" class=\"votelinks\"><center><a id='up_23142300' href='vote?id=23142300&amp;how=up&amp;goto=news'><div class='votearrow' title='upvote'></div></a></center></td><td class=\"title\"><a href=\"https://leontrolski.github.io/dom-syntax.html\" class=\"storylink\">What if we'd had better HTML-in-JS syntax all along?</a><span class=\"sitebit comhead\"> (<a href=\"from?site=leontrolski.github.io\"><span class=\"sitestr\">leontrolski.github.io</span></a>)</span></td></tr><tr><td colspan=\"2\"></td><td class=\"subtext\">\n",
      "        <span class=\"score\" id=\"score_23142300\">74 points</span> by <a href=\"user?id=zdw\" class=\"hnuser\">zdw</a> <span class=\"age\"><a href=\"item?id=23142300\">5 hours ago</a></span> <span id=\"unv_23142300\"></span> | <a href=\"hide?id=23142300&amp;goto=news\">hide</a> | <a href=\"item?id=23142300\">77&nbsp;comments</a>              </td></tr>\n",
      "      <tr class=\"spacer\" style=\"height:5px\"></tr>\n",
      "                <tr class='athing' id='23144744'>\n",
      "      <td align=\"right\" valign=\"top\" class=\"title\"><span class=\"rank\">20.</span></td>      <td valign=\"top\" class=\"votelinks\"><center><a id='up_23144744' href='vote?id=23144744&amp;how=up&amp;goto=news'><div class='votearrow' title='upvote'></div></a></center></td><td class=\"title\"><a href=\"https://www.neurable.com/technology\" class=\"storylink\">Neurable Technology</a><span class=\"sitebit comhead\"> (<a href=\"from?site=neurable.com\"><span class=\"sitestr\">neurable.com</span></a>)</span></td></tr><tr><td colspan=\"2\"></td><td class=\"subtext\">\n",
      "        <span class=\"score\" id=\"score_23144744\">12 points</span> by <a href=\"user?id=boredgamer2\" class=\"hnuser\">boredgamer2</a> <span class=\"age\"><a href=\"item?id=23144744\">1 hour ago</a></span> <span id=\"unv_23144744\"></span> | <a href=\"hide?id=23144744&amp;goto=news\">hide</a> | <a href=\"item?id=23144744\">2&nbsp;comments</a>              </td></tr>\n",
      "      <tr class=\"spacer\" style=\"height:5px\"></tr>\n",
      "                <tr class='athing' id='23142232'>\n",
      "      <td align=\"right\" valign=\"top\" class=\"title\"><span class=\"rank\">21.</span></td>      <td valign=\"top\" class=\"votelinks\"><center><a id='up_23142232' href='vote?id=23142232&amp;how=up&amp;goto=news'><div class='votearrow' title='upvote'></div></a></center></td><td class=\"title\"><a href=\"http://raganwald.com/2020/05/03/fractran.html\" class=\"storylink\">Remembering John Conway's FRACTRAN</a><span class=\"sitebit comhead\"> (<a href=\"from?site=raganwald.com\"><span class=\"sitestr\">raganwald.com</span></a>)</span></td></tr><tr><td colspan=\"2\"></td><td class=\"subtext\">\n",
      "        <span class=\"score\" id=\"score_23142232\">22 points</span> by <a href=\"user?id=braythwayt\" class=\"hnuser\">braythwayt</a> <span class=\"age\"><a href=\"item?id=23142232\">2 hours ago</a></span> <span id=\"unv_23142232\"></span> | <a href=\"hide?id=23142232&amp;goto=news\">hide</a> | <a href=\"item?id=23142232\">8&nbsp;comments</a>              </td></tr>\n",
      "      <tr class=\"spacer\" style=\"height:5px\"></tr>\n",
      "                <tr class='athing' id='23144469'>\n",
      "      <td align=\"right\" valign=\"top\" class=\"title\"><span class=\"rank\">22.</span></td>      <td valign=\"top\" class=\"votelinks\"><center><a id='up_23144469' href='vote?id=23144469&amp;how=up&amp;goto=news'><div class='votearrow' title='upvote'></div></a></center></td><td class=\"title\"><a href=\"https://online.ucpress.edu/jsmg/article/1/1/44/2337/The-1-Bit-InstrumentThe-Fundamentals-of-1-Bit\" class=\"storylink\" rel=\"nofollow\">The 1-Bit Instrument</a><span class=\"sitebit comhead\"> (<a href=\"from?site=ucpress.edu\"><span class=\"sitestr\">ucpress.edu</span></a>)</span></td></tr><tr><td colspan=\"2\"></td><td class=\"subtext\">\n",
      "        <span class=\"score\" id=\"score_23144469\">9 points</span> by <a href=\"user?id=todsacerdoti\" class=\"hnuser\">todsacerdoti</a> <span class=\"age\"><a href=\"item?id=23144469\">1 hour ago</a></span> <span id=\"unv_23144469\"></span> | <a href=\"hide?id=23144469&amp;goto=news\">hide</a> | <a href=\"item?id=23144469\">4&nbsp;comments</a>              </td></tr>\n",
      "      <tr class=\"spacer\" style=\"height:5px\"></tr>\n",
      "                <tr class='athing' id='23139974'>\n",
      "      <td align=\"right\" valign=\"top\" class=\"title\"><span class=\"rank\">23.</span></td>      <td valign=\"top\" class=\"votelinks\"><center><a id='up_23139974' href='vote?id=23139974&amp;how=up&amp;goto=news'><div class='votearrow' title='upvote'></div></a></center></td><td class=\"title\"><a href=\"https://www.forbes.com/sites/mattgardner1/2020/05/11/its-25-years-since-sega-of-america-made-its-biggest-ever-mistake/\" class=\"storylink\">It’s 25 years since Sega of America made its biggest mistake</a><span class=\"sitebit comhead\"> (<a href=\"from?site=forbes.com\"><span class=\"sitestr\">forbes.com</span></a>)</span></td></tr><tr><td colspan=\"2\"></td><td class=\"subtext\">\n",
      "        <span class=\"score\" id=\"score_23139974\">76 points</span> by <a href=\"user?id=raudaschl\" class=\"hnuser\">raudaschl</a> <span class=\"age\"><a href=\"item?id=23139974\">4 hours ago</a></span> <span id=\"unv_23139974\"></span> | <a href=\"hide?id=23139974&amp;goto=news\">hide</a> | <a href=\"item?id=23139974\">60&nbsp;comments</a>              </td></tr>\n",
      "      <tr class=\"spacer\" style=\"height:5px\"></tr>\n",
      "                <tr class='athing' id='23138570'>\n",
      "      <td align=\"right\" valign=\"top\" class=\"title\"><span class=\"rank\">24.</span></td>      <td valign=\"top\" class=\"votelinks\"><center><a id='up_23138570' href='vote?id=23138570&amp;how=up&amp;goto=news'><div class='votearrow' title='upvote'></div></a></center></td><td class=\"title\"><a href=\"https://www.newyorker.com/culture/culture-desk/the-reinventions-of-genesis-breyer-p-orridge\" class=\"storylink\">The Reinventions of Genesis Breyer P-Orridge (2016)</a><span class=\"sitebit comhead\"> (<a href=\"from?site=newyorker.com\"><span class=\"sitestr\">newyorker.com</span></a>)</span></td></tr><tr><td colspan=\"2\"></td><td class=\"subtext\">\n",
      "        <span class=\"score\" id=\"score_23138570\">9 points</span> by <a href=\"user?id=apollinaire\" class=\"hnuser\">apollinaire</a> <span class=\"age\"><a href=\"item?id=23138570\">1 hour ago</a></span> <span id=\"unv_23138570\"></span> | <a href=\"hide?id=23138570&amp;goto=news\">hide</a> | <a href=\"item?id=23138570\">discuss</a>              </td></tr>\n",
      "      <tr class=\"spacer\" style=\"height:5px\"></tr>\n",
      "                <tr class='athing' id='23141148'>\n",
      "      <td align=\"right\" valign=\"top\" class=\"title\"><span class=\"rank\">25.</span></td>      <td valign=\"top\" class=\"votelinks\"><center><a id='up_23141148' href='vote?id=23141148&amp;how=up&amp;goto=news'><div class='votearrow' title='upvote'></div></a></center></td><td class=\"title\"><a href=\"https://showcase.metamate.io/hackernews-user-activity\" class=\"storylink\">Show HN: Visualize your HackerNews Activity</a><span class=\"sitebit comhead\"> (<a href=\"from?site=metamate.io\"><span class=\"sitestr\">metamate.io</span></a>)</span></td></tr><tr><td colspan=\"2\"></td><td class=\"subtext\">\n",
      "        <span class=\"score\" id=\"score_23141148\">89 points</span> by <a href=\"user?id=21stio\" class=\"hnuser\">21stio</a> <span class=\"age\"><a href=\"item?id=23141148\">7 hours ago</a></span> <span id=\"unv_23141148\"></span> | <a href=\"hide?id=23141148&amp;goto=news\">hide</a> | <a href=\"item?id=23141148\">45&nbsp;comments</a>              </td></tr>\n",
      "      <tr class=\"spacer\" style=\"height:5px\"></tr>\n",
      "                <tr class='athing' id='23141392'>\n",
      "      <td align=\"right\" valign=\"top\" class=\"title\"><span class=\"rank\">26.</span></td>      <td valign=\"top\" class=\"votelinks\"><center><a id='up_23141392' href='vote?id=23141392&amp;how=up&amp;goto=news'><div class='votearrow' title='upvote'></div></a></center></td><td class=\"title\"><a href=\"https://www.youtube.com/channel/UCFFeNyzCEQDS4KCecugmotg/videos\" class=\"storylink\">The Power of Prolog [video]</a><span class=\"sitebit comhead\"> (<a href=\"from?site=youtube.com\"><span class=\"sitestr\">youtube.com</span></a>)</span></td></tr><tr><td colspan=\"2\"></td><td class=\"subtext\">\n",
      "        <span class=\"score\" id=\"score_23141392\">93 points</span> by <a href=\"user?id=lelf\" class=\"hnuser\">lelf</a> <span class=\"age\"><a href=\"item?id=23141392\">6 hours ago</a></span> <span id=\"unv_23141392\"></span> | <a href=\"hide?id=23141392&amp;goto=news\">hide</a> | <a href=\"item?id=23141392\">10&nbsp;comments</a>              </td></tr>\n",
      "      <tr class=\"spacer\" style=\"height:5px\"></tr>\n",
      "                <tr class='athing' id='23140334'>\n",
      "      <td align=\"right\" valign=\"top\" class=\"title\"><span class=\"rank\">27.</span></td>      <td valign=\"top\" class=\"votelinks\"><center><a id='up_23140334' href='vote?id=23140334&amp;how=up&amp;goto=news'><div class='votearrow' title='upvote'></div></a></center></td><td class=\"title\"><a href=\"https://onlinelibrary.wiley.com/doi/10.1002/andp.202000033\" class=\"storylink\">If you overlay all atomic spectra, you get a Planck distribution</a><span class=\"sitebit comhead\"> (<a href=\"from?site=wiley.com\"><span class=\"sitestr\">wiley.com</span></a>)</span></td></tr><tr><td colspan=\"2\"></td><td class=\"subtext\">\n",
      "        <span class=\"score\" id=\"score_23140334\">115 points</span> by <a href=\"user?id=hakmem\" class=\"hnuser\">hakmem</a> <span class=\"age\"><a href=\"item?id=23140334\">9 hours ago</a></span> <span id=\"unv_23140334\"></span> | <a href=\"hide?id=23140334&amp;goto=news\">hide</a> | <a href=\"item?id=23140334\">47&nbsp;comments</a>              </td></tr>\n",
      "      <tr class=\"spacer\" style=\"height:5px\"></tr>\n",
      "                <tr class='athing' id='23140780'>\n",
      "      <td align=\"right\" valign=\"top\" class=\"title\"><span class=\"rank\">28.</span></td>      <td valign=\"top\" class=\"votelinks\"><center><a id='up_23140780' href='vote?id=23140780&amp;how=up&amp;goto=news'><div class='votearrow' title='upvote'></div></a></center></td><td class=\"title\"><a href=\"https://news.developer.nvidia.com/ray-tracing-essentials-part-7-denoising-for-ray-tracing/\" class=\"storylink\">Ray Tracing Essentials Part 7: Denoising for Ray Tracing</a><span class=\"sitebit comhead\"> (<a href=\"from?site=nvidia.com\"><span class=\"sitestr\">nvidia.com</span></a>)</span></td></tr><tr><td colspan=\"2\"></td><td class=\"subtext\">\n",
      "        <span class=\"score\" id=\"score_23140780\">108 points</span> by <a href=\"user?id=ibobev\" class=\"hnuser\">ibobev</a> <span class=\"age\"><a href=\"item?id=23140780\">8 hours ago</a></span> <span id=\"unv_23140780\"></span> | <a href=\"hide?id=23140780&amp;goto=news\">hide</a> | <a href=\"item?id=23140780\">70&nbsp;comments</a>              </td></tr>\n",
      "      <tr class=\"spacer\" style=\"height:5px\"></tr>\n",
      "                <tr class='athing' id='23141346'>\n",
      "      <td align=\"right\" valign=\"top\" class=\"title\"><span class=\"rank\">29.</span></td>      <td valign=\"top\" class=\"votelinks\"><center><a id='up_23141346' href='vote?id=23141346&amp;how=up&amp;goto=news'><div class='votearrow' title='upvote'></div></a></center></td><td class=\"title\"><a href=\"https://www.ezralafleur.com/programming-steve-reichs-piano-phase-in-supercollider/\" class=\"storylink\">Programming Steve Reich’s Piano Phase in SuperCollider</a><span class=\"sitebit comhead\"> (<a href=\"from?site=ezralafleur.com\"><span class=\"sitestr\">ezralafleur.com</span></a>)</span></td></tr><tr><td colspan=\"2\"></td><td class=\"subtext\">\n",
      "        <span class=\"score\" id=\"score_23141346\">56 points</span> by <a href=\"user?id=ezralafleur\" class=\"hnuser\">ezralafleur</a> <span class=\"age\"><a href=\"item?id=23141346\">6 hours ago</a></span> <span id=\"unv_23141346\"></span> | <a href=\"hide?id=23141346&amp;goto=news\">hide</a> | <a href=\"item?id=23141346\">10&nbsp;comments</a>              </td></tr>\n",
      "      <tr class=\"spacer\" style=\"height:5px\"></tr>\n",
      "                <tr class='athing' id='23143509'>\n",
      "      <td align=\"right\" valign=\"top\" class=\"title\"><span class=\"rank\">30.</span></td>      <td></td><td class=\"title\"><a href=\"https://mux.com/jobs/\" class=\"storylink\" rel=\"nofollow\">Mux (YC W16, video for developers) is hiring senior Go engineers, SREs, more</a><span class=\"sitebit comhead\"> (<a href=\"from?site=mux.com\"><span class=\"sitestr\">mux.com</span></a>)</span></td></tr><tr><td colspan=\"2\"></td><td class=\"subtext\">\n",
      "        <span class=\"age\"><a href=\"item?id=23143509\">3 hours ago</a></span> | <a href=\"hide?id=23143509&amp;goto=news\">hide</a>      </td></tr>\n",
      "      <tr class=\"spacer\" style=\"height:5px\"></tr>\n",
      "            <tr class=\"morespace\" style=\"height:10px\"></tr><tr><td colspan=\"2\"></td><td class=\"title\"><a href=\"news?p=2\" class=\"morelink\" rel=\"next\">More</a></td></tr>\n",
      "  </table>\n",
      "</td></tr>\n",
      "<tr><td><img src=\"s.gif\" height=\"10\" width=\"0\"><table width=\"100%\" cellspacing=\"0\" cellpadding=\"1\"><tr><td bgcolor=\"#ff6600\"></td></tr></table><br><center><span class=\"yclinks\"><a href=\"newsguidelines.html\">Guidelines</a>\n",
      "        | <a href=\"newsfaq.html\">FAQ</a>\n",
      "        | <a href=\"mailto:hn@ycombinator.com\">Support</a>\n",
      "        | <a href=\"https://github.com/HackerNews/API\">API</a>\n",
      "        | <a href=\"security.html\">Security</a>\n",
      "        | <a href=\"lists\">Lists</a>\n",
      "        | <a href=\"bookmarklet.html\" rel=\"nofollow\">Bookmarklet</a>\n",
      "        | <a href=\"http://www.ycombinator.com/legal/\">Legal</a>\n",
      "        | <a href=\"http://www.ycombinator.com/apply/\">Apply to YC</a>\n",
      "        | <a href=\"mailto:hn@ycombinator.com\">Contact</a></span><br><br><form method=\"get\" action=\"//hn.algolia.com/\">Search:\n",
      "          <input type=\"text\" name=\"q\" value=\"\" size=\"17\" autocorrect=\"off\" spellcheck=\"false\" autocapitalize=\"off\" autocomplete=\"false\"></form>\n",
      "            </center></td></tr>\n",
      "      </table></center></body><script type='text/javascript' src='hn.js?qgmUawbBF6R5AeIXHTFL'></script></html>\n",
      "\n"
     ]
    }
   ],
   "source": [
    "import requests\n",
    "\n",
    "# Fetch a web page\n",
    "r = requests.get(\"https://news.ycombinator.com\")\n",
    "print(r.text)"
   ]
  },
  {
   "cell_type": "code",
   "execution_count": 46,
   "metadata": {
    "scrolled": true
   },
   "outputs": [
    {
     "name": "stdout",
     "output_type": "stream",
     "text": [
      "\n",
      "        \n",
      "          \n",
      "        Hacker News\n",
      "        \n",
      "                  Hacker News\n",
      "              new | past | comments | ask | show | jobs | submit            \n",
      "                              login\n",
      "                          \n",
      "              \n",
      "\n",
      "              \n",
      "      1.      Apache NiFi (apache.org)\n",
      "        84 points by boredgamer2 2 hours ago  | hide | 29&nbsp;comments              \n",
      "      \n",
      "                \n",
      "      2.      Teensy 4.1 Development Board (pjrc.com)\n",
      "        158 points by milo_im 2 hours ago  | hide | 78&nbsp;comments              \n",
      "      \n",
      "                \n",
      "      3.      Webrecorder: Make an interactive copy of any web page that you browse (webrecorder.io)\n",
      "        98 points by pcr910303 2 hours ago  | hide | 22&nbsp;comments              \n",
      "      \n",
      "                \n",
      "      4.      The Office Is Dead (marker.medium.com)\n",
      "        35 points by BobbieG 1 hour ago  | hide | 30&nbsp;comments              \n",
      "      \n",
      "                \n",
      "      5.      We at $Famous_company switched to $Hyped_technology (saagarjha.com)\n",
      "        441 points by gok 2 hours ago  | hide | 78&nbsp;comments              \n",
      "      \n",
      "                \n",
      "      6.      Encouraging a Culture of Written Communication (mcls.io)\n",
      "        281 points by quintencls 6 hours ago  | hide | 129&nbsp;comments              \n",
      "      \n",
      "                \n",
      "      7.      Pinephone first steps (scattered-thoughts.net)\n",
      "        66 points by todsacerdoti 2 hours ago  | hide | 16&nbsp;comments              \n",
      "      \n",
      "                \n",
      "      8.      Scraping Recipe Websites (benawad.com)\n",
      "        188 points by benawad 5 hours ago  | hide | 115&nbsp;comments              \n",
      "      \n",
      "                \n",
      "      9.      Ryanair, Hamiltonian Cycles, and using graph theory to find cheap flights (2018) (jldc.me)\n",
      "        81 points by jonluca 3 hours ago  | hide | 44&nbsp;comments              \n",
      "      \n",
      "                \n",
      "      10.      New Abbott SARS-CoV-2 antibody test has 99.90% specificity and 100% sensitivity (asm.org)\n",
      "        202 points by bookofjoe 3 hours ago  | hide | 79&nbsp;comments              \n",
      "      \n",
      "                \n",
      "      11.      ESLint v7.0.0 Released (eslint.org)\n",
      "        100 points by himynameisdave 3 hours ago  | hide | 23&nbsp;comments              \n",
      "      \n",
      "                \n",
      "      12.      Deep Learning for Guitar Effect Emulation (teddykoker.com)\n",
      "        249 points by teddykoker 7 hours ago  | hide | 128&nbsp;comments              \n",
      "      \n",
      "                \n",
      "      13.      Next.js 9.4 – Fast Refresh, Incremental Static Regeneration (nextjs.org)\n",
      "        204 points by STRiDEX 3 hours ago  | hide | 125&nbsp;comments              \n",
      "      \n",
      "                \n",
      "      14.      Launch HN: Data Mechanics (YC S19) – The Simplest Way to Run Apache Spark\n",
      "        72 points by jstephan 4 hours ago  | hide | 15&nbsp;comments              \n",
      "      \n",
      "                \n",
      "      15.      Visualizing Electricity (demystifyingscience.com)\n",
      "        32 points by mickfaraday 2 hours ago  | hide | 20&nbsp;comments              \n",
      "      \n",
      "                \n",
      "      16.      Flight Instruments in Snap SVG and JavaScript (csb.app)\n",
      "        19 points by duncanmeech 1 hour ago  | hide | 3&nbsp;comments              \n",
      "      \n",
      "                \n",
      "      17.      New Math Proves That a Special Kind of Space-Time Is Unstable (quantamagazine.org)\n",
      "        61 points by furcyd 3 hours ago  | hide | 19&nbsp;comments              \n",
      "      \n",
      "                \n",
      "      18.      Programming a 144-computer Chip to Minimize Power (infoq.com)\n",
      "        82 points by colinprince 5 hours ago  | hide | 23&nbsp;comments              \n",
      "      \n",
      "                \n",
      "      19.      What if we'd had better HTML-in-JS syntax all along? (leontrolski.github.io)\n",
      "        74 points by zdw 5 hours ago  | hide | 77&nbsp;comments              \n",
      "      \n",
      "                \n",
      "      20.      Neurable Technology (neurable.com)\n",
      "        12 points by boredgamer2 1 hour ago  | hide | 2&nbsp;comments              \n",
      "      \n",
      "                \n",
      "      21.      Remembering John Conway's FRACTRAN (raganwald.com)\n",
      "        22 points by braythwayt 2 hours ago  | hide | 8&nbsp;comments              \n",
      "      \n",
      "                \n",
      "      22.      The 1-Bit Instrument (ucpress.edu)\n",
      "        9 points by todsacerdoti 1 hour ago  | hide | 4&nbsp;comments              \n",
      "      \n",
      "                \n",
      "      23.      It’s 25 years since Sega of America made its biggest mistake (forbes.com)\n",
      "        76 points by raudaschl 4 hours ago  | hide | 60&nbsp;comments              \n",
      "      \n",
      "                \n",
      "      24.      The Reinventions of Genesis Breyer P-Orridge (2016) (newyorker.com)\n",
      "        9 points by apollinaire 1 hour ago  | hide | discuss              \n",
      "      \n",
      "                \n",
      "      25.      Show HN: Visualize your HackerNews Activity (metamate.io)\n",
      "        89 points by 21stio 7 hours ago  | hide | 45&nbsp;comments              \n",
      "      \n",
      "                \n",
      "      26.      The Power of Prolog [video] (youtube.com)\n",
      "        93 points by lelf 6 hours ago  | hide | 10&nbsp;comments              \n",
      "      \n",
      "                \n",
      "      27.      If you overlay all atomic spectra, you get a Planck distribution (wiley.com)\n",
      "        115 points by hakmem 9 hours ago  | hide | 47&nbsp;comments              \n",
      "      \n",
      "                \n",
      "      28.      Ray Tracing Essentials Part 7: Denoising for Ray Tracing (nvidia.com)\n",
      "        108 points by ibobev 8 hours ago  | hide | 70&nbsp;comments              \n",
      "      \n",
      "                \n",
      "      29.      Programming Steve Reich’s Piano Phase in SuperCollider (ezralafleur.com)\n",
      "        56 points by ezralafleur 6 hours ago  | hide | 10&nbsp;comments              \n",
      "      \n",
      "                \n",
      "      30.      Mux (YC W16, video for developers) is hiring senior Go engineers, SREs, more (mux.com)\n",
      "        3 hours ago | hide      \n",
      "      \n",
      "            More\n",
      "  \n",
      "\n",
      "Guidelines\n",
      "        | FAQ\n",
      "        | Support\n",
      "        | API\n",
      "        | Security\n",
      "        | Lists\n",
      "        | Bookmarklet\n",
      "        | Legal\n",
      "        | Apply to YC\n",
      "        | ContactSearch:\n",
      "          \n",
      "            \n",
      "      \n",
      "\n"
     ]
    }
   ],
   "source": [
    "import re\n",
    "\n",
    "# Remove HTML tags using RegEx\n",
    "pattern = re.compile(r'<.*?>')  # tags look like <...>\n",
    "print(pattern.sub('', r.text))  # replace them with blank"
   ]
  },
  {
   "cell_type": "code",
   "execution_count": null,
   "metadata": {},
   "outputs": [],
   "source": [
    "# from bs4 import BeautifulSoup\n",
    "\n",
    "# # Remove HTML tags using Beautiful Soup library\n",
    "# soup = BeautifulSoup(r.text, \"html5lib\")\n",
    "# print(soup.get_text())"
   ]
  },
  {
   "cell_type": "code",
   "execution_count": 65,
   "metadata": {},
   "outputs": [
    {
     "data": {
      "text/plain": [
       "<html lang=\"en\" op=\"news\"><head><meta content=\"origin\" name=\"referrer\"/><meta content=\"width=device-width, initial-scale=1.0\" name=\"viewport\"/><link href=\"news.css?qgmUawbBF6R5AeIXHTFL\" rel=\"stylesheet\" type=\"text/css\"/>\n",
       "        <link href=\"favicon.ico\" rel=\"shortcut icon\"/>\n",
       "          <link href=\"rss\" rel=\"alternate\" title=\"RSS\" type=\"application/rss+xml\"/>\n",
       "        <title>Hacker News</title></head><body><center><table bgcolor=\"#f6f6ef\" border=\"0\" cellpadding=\"0\" cellspacing=\"0\" id=\"hnmain\" width=\"85%\">\n",
       "        <tbody><tr><td bgcolor=\"#ff6600\"><table border=\"0\" cellpadding=\"0\" cellspacing=\"0\" style=\"padding:2px\" width=\"100%\"><tbody><tr><td style=\"width:18px;padding-right:4px\"><a href=\"https://news.ycombinator.com\"><img height=\"18\" src=\"y18.gif\" style=\"border:1px white solid;\" width=\"18\"/></a></td>\n",
       "                  <td style=\"line-height:12pt; height:10px;\"><span class=\"pagetop\"><b class=\"hnname\"><a href=\"news\">Hacker News</a></b>\n",
       "              <a href=\"newest\">new</a> | <a href=\"front\">past</a> | <a href=\"newcomments\">comments</a> | <a href=\"ask\">ask</a> | <a href=\"show\">show</a> | <a href=\"jobs\">jobs</a> | <a href=\"submit\">submit</a>            </span></td><td style=\"text-align:right;padding-right:4px;\"><span class=\"pagetop\">\n",
       "                              <a href=\"login?goto=news\">login</a>\n",
       "                          </span></td>\n",
       "              </tr></tbody></table></td></tr>\n",
       "<tr id=\"pagespace\" style=\"height:10px\" title=\"\"></tr><tr><td><table border=\"0\" cellpadding=\"0\" cellspacing=\"0\" class=\"itemlist\">\n",
       "              <tbody><tr class=\"athing\" id=\"23144450\">\n",
       "      <td align=\"right\" class=\"title\" valign=\"top\"><span class=\"rank\">1.</span></td>      <td class=\"votelinks\" valign=\"top\"><center><a href=\"vote?id=23144450&amp;how=up&amp;goto=news\" id=\"up_23144450\"><div class=\"votearrow\" title=\"upvote\"></div></a></center></td><td class=\"title\"><a class=\"storylink\" href=\"http://nifi.apache.org/index.html\">Apache NiFi</a><span class=\"sitebit comhead\"> (<a href=\"from?site=apache.org\"><span class=\"sitestr\">apache.org</span></a>)</span></td></tr><tr><td colspan=\"2\"></td><td class=\"subtext\">\n",
       "        <span class=\"score\" id=\"score_23144450\">84 points</span> by <a class=\"hnuser\" href=\"user?id=boredgamer2\">boredgamer2</a> <span class=\"age\"><a href=\"item?id=23144450\">2 hours ago</a></span> <span id=\"unv_23144450\"></span> | <a href=\"hide?id=23144450&amp;goto=news\">hide</a> | <a href=\"item?id=23144450\">29 comments</a>              </td></tr>\n",
       "      <tr class=\"spacer\" style=\"height:5px\"></tr>\n",
       "                <tr class=\"athing\" id=\"23143888\">\n",
       "      <td align=\"right\" class=\"title\" valign=\"top\"><span class=\"rank\">2.</span></td>      <td class=\"votelinks\" valign=\"top\"><center><a href=\"vote?id=23143888&amp;how=up&amp;goto=news\" id=\"up_23143888\"><div class=\"votearrow\" title=\"upvote\"></div></a></center></td><td class=\"title\"><a class=\"storylink\" href=\"https://www.pjrc.com/store/teensy41.html\">Teensy 4.1 Development Board</a><span class=\"sitebit comhead\"> (<a href=\"from?site=pjrc.com\"><span class=\"sitestr\">pjrc.com</span></a>)</span></td></tr><tr><td colspan=\"2\"></td><td class=\"subtext\">\n",
       "        <span class=\"score\" id=\"score_23143888\">158 points</span> by <a class=\"hnuser\" href=\"user?id=milo_im\">milo_im</a> <span class=\"age\"><a href=\"item?id=23143888\">2 hours ago</a></span> <span id=\"unv_23143888\"></span> | <a href=\"hide?id=23143888&amp;goto=news\">hide</a> | <a href=\"item?id=23143888\">78 comments</a>              </td></tr>\n",
       "      <tr class=\"spacer\" style=\"height:5px\"></tr>\n",
       "                <tr class=\"athing\" id=\"23144273\">\n",
       "      <td align=\"right\" class=\"title\" valign=\"top\"><span class=\"rank\">3.</span></td>      <td class=\"votelinks\" valign=\"top\"><center><a href=\"vote?id=23144273&amp;how=up&amp;goto=news\" id=\"up_23144273\"><div class=\"votearrow\" title=\"upvote\"></div></a></center></td><td class=\"title\"><a class=\"storylink\" href=\"https://webrecorder.io/\">Webrecorder: Make an interactive copy of any web page that you browse</a><span class=\"sitebit comhead\"> (<a href=\"from?site=webrecorder.io\"><span class=\"sitestr\">webrecorder.io</span></a>)</span></td></tr><tr><td colspan=\"2\"></td><td class=\"subtext\">\n",
       "        <span class=\"score\" id=\"score_23144273\">98 points</span> by <a class=\"hnuser\" href=\"user?id=pcr910303\">pcr910303</a> <span class=\"age\"><a href=\"item?id=23144273\">2 hours ago</a></span> <span id=\"unv_23144273\"></span> | <a href=\"hide?id=23144273&amp;goto=news\">hide</a> | <a href=\"item?id=23144273\">22 comments</a>              </td></tr>\n",
       "      <tr class=\"spacer\" style=\"height:5px\"></tr>\n",
       "                <tr class=\"athing\" id=\"23145164\">\n",
       "      <td align=\"right\" class=\"title\" valign=\"top\"><span class=\"rank\">4.</span></td>      <td class=\"votelinks\" valign=\"top\"><center><a href=\"vote?id=23145164&amp;how=up&amp;goto=news\" id=\"up_23145164\"><div class=\"votearrow\" title=\"upvote\"></div></a></center></td><td class=\"title\"><a class=\"storylink\" href=\"https://marker.medium.com/the-office-is-dead-16be89f25d01\">The Office Is Dead</a><span class=\"sitebit comhead\"> (<a href=\"from?site=marker.medium.com\"><span class=\"sitestr\">marker.medium.com</span></a>)</span></td></tr><tr><td colspan=\"2\"></td><td class=\"subtext\">\n",
       "        <span class=\"score\" id=\"score_23145164\">35 points</span> by <a class=\"hnuser\" href=\"user?id=BobbieG\">BobbieG</a> <span class=\"age\"><a href=\"item?id=23145164\">1 hour ago</a></span> <span id=\"unv_23145164\"></span> | <a href=\"hide?id=23145164&amp;goto=news\">hide</a> | <a href=\"item?id=23145164\">30 comments</a>              </td></tr>\n",
       "      <tr class=\"spacer\" style=\"height:5px\"></tr>\n",
       "                <tr class=\"athing\" id=\"23144380\">\n",
       "      <td align=\"right\" class=\"title\" valign=\"top\"><span class=\"rank\">5.</span></td>      <td class=\"votelinks\" valign=\"top\"><center><a href=\"vote?id=23144380&amp;how=up&amp;goto=news\" id=\"up_23144380\"><div class=\"votearrow\" title=\"upvote\"></div></a></center></td><td class=\"title\"><a class=\"storylink\" href=\"https://saagarjha.com/blog/2020/05/10/why-we-at-famous-company-switched-to-hyped-technology/\">We at $Famous_company switched to $Hyped_technology</a><span class=\"sitebit comhead\"> (<a href=\"from?site=saagarjha.com\"><span class=\"sitestr\">saagarjha.com</span></a>)</span></td></tr><tr><td colspan=\"2\"></td><td class=\"subtext\">\n",
       "        <span class=\"score\" id=\"score_23144380\">441 points</span> by <a class=\"hnuser\" href=\"user?id=gok\">gok</a> <span class=\"age\"><a href=\"item?id=23144380\">2 hours ago</a></span> <span id=\"unv_23144380\"></span> | <a href=\"hide?id=23144380&amp;goto=news\">hide</a> | <a href=\"item?id=23144380\">78 comments</a>              </td></tr>\n",
       "      <tr class=\"spacer\" style=\"height:5px\"></tr>\n",
       "                <tr class=\"athing\" id=\"23141353\">\n",
       "      <td align=\"right\" class=\"title\" valign=\"top\"><span class=\"rank\">6.</span></td>      <td class=\"votelinks\" valign=\"top\"><center><a href=\"vote?id=23141353&amp;how=up&amp;goto=news\" id=\"up_23141353\"><div class=\"votearrow\" title=\"upvote\"></div></a></center></td><td class=\"title\"><a class=\"storylink\" href=\"https://www.mcls.io/blog/encouraging-a-culture-of-written-communication\">Encouraging a Culture of Written Communication</a><span class=\"sitebit comhead\"> (<a href=\"from?site=mcls.io\"><span class=\"sitestr\">mcls.io</span></a>)</span></td></tr><tr><td colspan=\"2\"></td><td class=\"subtext\">\n",
       "        <span class=\"score\" id=\"score_23141353\">281 points</span> by <a class=\"hnuser\" href=\"user?id=quintencls\">quintencls</a> <span class=\"age\"><a href=\"item?id=23141353\">6 hours ago</a></span> <span id=\"unv_23141353\"></span> | <a href=\"hide?id=23141353&amp;goto=news\">hide</a> | <a href=\"item?id=23141353\">129 comments</a>              </td></tr>\n",
       "      <tr class=\"spacer\" style=\"height:5px\"></tr>\n",
       "                <tr class=\"athing\" id=\"23130247\">\n",
       "      <td align=\"right\" class=\"title\" valign=\"top\"><span class=\"rank\">7.</span></td>      <td class=\"votelinks\" valign=\"top\"><center><a href=\"vote?id=23130247&amp;how=up&amp;goto=news\" id=\"up_23130247\"><div class=\"votearrow\" title=\"upvote\"></div></a></center></td><td class=\"title\"><a class=\"storylink\" href=\"https://scattered-thoughts.net/writing/pinephone-first-steps/\">Pinephone first steps</a><span class=\"sitebit comhead\"> (<a href=\"from?site=scattered-thoughts.net\"><span class=\"sitestr\">scattered-thoughts.net</span></a>)</span></td></tr><tr><td colspan=\"2\"></td><td class=\"subtext\">\n",
       "        <span class=\"score\" id=\"score_23130247\">66 points</span> by <a class=\"hnuser\" href=\"user?id=todsacerdoti\">todsacerdoti</a> <span class=\"age\"><a href=\"item?id=23130247\">2 hours ago</a></span> <span id=\"unv_23130247\"></span> | <a href=\"hide?id=23130247&amp;goto=news\">hide</a> | <a href=\"item?id=23130247\">16 comments</a>              </td></tr>\n",
       "      <tr class=\"spacer\" style=\"height:5px\"></tr>\n",
       "                <tr class=\"athing\" id=\"23142220\">\n",
       "      <td align=\"right\" class=\"title\" valign=\"top\"><span class=\"rank\">8.</span></td>      <td class=\"votelinks\" valign=\"top\"><center><a href=\"vote?id=23142220&amp;how=up&amp;goto=news\" id=\"up_23142220\"><div class=\"votearrow\" title=\"upvote\"></div></a></center></td><td class=\"title\"><a class=\"storylink\" href=\"https://www.benawad.com/scraping-recipe-websites/\">Scraping Recipe Websites</a><span class=\"sitebit comhead\"> (<a href=\"from?site=benawad.com\"><span class=\"sitestr\">benawad.com</span></a>)</span></td></tr><tr><td colspan=\"2\"></td><td class=\"subtext\">\n",
       "        <span class=\"score\" id=\"score_23142220\">188 points</span> by <a class=\"hnuser\" href=\"user?id=benawad\">benawad</a> <span class=\"age\"><a href=\"item?id=23142220\">5 hours ago</a></span> <span id=\"unv_23142220\"></span> | <a href=\"hide?id=23142220&amp;goto=news\">hide</a> | <a href=\"item?id=23142220\">115 comments</a>              </td></tr>\n",
       "      <tr class=\"spacer\" style=\"height:5px\"></tr>\n",
       "                <tr class=\"athing\" id=\"23143061\">\n",
       "      <td align=\"right\" class=\"title\" valign=\"top\"><span class=\"rank\">9.</span></td>      <td class=\"votelinks\" valign=\"top\"><center><a href=\"vote?id=23143061&amp;how=up&amp;goto=news\" id=\"up_23143061\"><div class=\"votearrow\" title=\"upvote\"></div></a></center></td><td class=\"title\"><a class=\"storylink\" href=\"https://blog.jldc.me/posts/ryan-air?ref=hnm20\">Ryanair, Hamiltonian Cycles, and using graph theory to find cheap flights (2018)</a><span class=\"sitebit comhead\"> (<a href=\"from?site=jldc.me\"><span class=\"sitestr\">jldc.me</span></a>)</span></td></tr><tr><td colspan=\"2\"></td><td class=\"subtext\">\n",
       "        <span class=\"score\" id=\"score_23143061\">81 points</span> by <a class=\"hnuser\" href=\"user?id=jonluca\">jonluca</a> <span class=\"age\"><a href=\"item?id=23143061\">3 hours ago</a></span> <span id=\"unv_23143061\"></span> | <a href=\"hide?id=23143061&amp;goto=news\">hide</a> | <a href=\"item?id=23143061\">44 comments</a>              </td></tr>\n",
       "      <tr class=\"spacer\" style=\"height:5px\"></tr>\n",
       "                <tr class=\"athing\" id=\"23143224\">\n",
       "      <td align=\"right\" class=\"title\" valign=\"top\"><span class=\"rank\">10.</span></td>      <td class=\"votelinks\" valign=\"top\"><center><a href=\"vote?id=23143224&amp;how=up&amp;goto=news\" id=\"up_23143224\"><div class=\"votearrow\" title=\"upvote\"></div></a></center></td><td class=\"title\"><a class=\"storylink\" href=\"https://jcm.asm.org/content/early/2020/05/07/JCM.00941-20\">New Abbott SARS-CoV-2 antibody test has 99.90% specificity and 100% sensitivity</a><span class=\"sitebit comhead\"> (<a href=\"from?site=asm.org\"><span class=\"sitestr\">asm.org</span></a>)</span></td></tr><tr><td colspan=\"2\"></td><td class=\"subtext\">\n",
       "        <span class=\"score\" id=\"score_23143224\">202 points</span> by <a class=\"hnuser\" href=\"user?id=bookofjoe\">bookofjoe</a> <span class=\"age\"><a href=\"item?id=23143224\">3 hours ago</a></span> <span id=\"unv_23143224\"></span> | <a href=\"hide?id=23143224&amp;goto=news\">hide</a> | <a href=\"item?id=23143224\">79 comments</a>              </td></tr>\n",
       "      <tr class=\"spacer\" style=\"height:5px\"></tr>\n",
       "                <tr class=\"athing\" id=\"23143315\">\n",
       "      <td align=\"right\" class=\"title\" valign=\"top\"><span class=\"rank\">11.</span></td>      <td class=\"votelinks\" valign=\"top\"><center><a href=\"vote?id=23143315&amp;how=up&amp;goto=news\" id=\"up_23143315\"><div class=\"votearrow\" title=\"upvote\"></div></a></center></td><td class=\"title\"><a class=\"storylink\" href=\"https://eslint.org/blog/2020/05/eslint-v7.0.0-released\">ESLint v7.0.0 Released</a><span class=\"sitebit comhead\"> (<a href=\"from?site=eslint.org\"><span class=\"sitestr\">eslint.org</span></a>)</span></td></tr><tr><td colspan=\"2\"></td><td class=\"subtext\">\n",
       "        <span class=\"score\" id=\"score_23143315\">100 points</span> by <a class=\"hnuser\" href=\"user?id=himynameisdave\">himynameisdave</a> <span class=\"age\"><a href=\"item?id=23143315\">3 hours ago</a></span> <span id=\"unv_23143315\"></span> | <a href=\"hide?id=23143315&amp;goto=news\">hide</a> | <a href=\"item?id=23143315\">23 comments</a>              </td></tr>\n",
       "      <tr class=\"spacer\" style=\"height:5px\"></tr>\n",
       "                <tr class=\"athing\" id=\"23141191\">\n",
       "      <td align=\"right\" class=\"title\" valign=\"top\"><span class=\"rank\">12.</span></td>      <td class=\"votelinks\" valign=\"top\"><center><a href=\"vote?id=23141191&amp;how=up&amp;goto=news\" id=\"up_23141191\"><div class=\"votearrow\" title=\"upvote\"></div></a></center></td><td class=\"title\"><a class=\"storylink\" href=\"https://teddykoker.com/2020/05/deep-learning-for-guitar-effect-emulation/\">Deep Learning for Guitar Effect Emulation</a><span class=\"sitebit comhead\"> (<a href=\"from?site=teddykoker.com\"><span class=\"sitestr\">teddykoker.com</span></a>)</span></td></tr><tr><td colspan=\"2\"></td><td class=\"subtext\">\n",
       "        <span class=\"score\" id=\"score_23141191\">249 points</span> by <a class=\"hnuser\" href=\"user?id=teddykoker\">teddykoker</a> <span class=\"age\"><a href=\"item?id=23141191\">7 hours ago</a></span> <span id=\"unv_23141191\"></span> | <a href=\"hide?id=23141191&amp;goto=news\">hide</a> | <a href=\"item?id=23141191\">128 comments</a>              </td></tr>\n",
       "      <tr class=\"spacer\" style=\"height:5px\"></tr>\n",
       "                <tr class=\"athing\" id=\"23143437\">\n",
       "      <td align=\"right\" class=\"title\" valign=\"top\"><span class=\"rank\">13.</span></td>      <td class=\"votelinks\" valign=\"top\"><center><a href=\"vote?id=23143437&amp;how=up&amp;goto=news\" id=\"up_23143437\"><div class=\"votearrow\" title=\"upvote\"></div></a></center></td><td class=\"title\"><a class=\"storylink\" href=\"https://nextjs.org/blog/next-9-4\">Next.js 9.4 – Fast Refresh, Incremental Static Regeneration</a><span class=\"sitebit comhead\"> (<a href=\"from?site=nextjs.org\"><span class=\"sitestr\">nextjs.org</span></a>)</span></td></tr><tr><td colspan=\"2\"></td><td class=\"subtext\">\n",
       "        <span class=\"score\" id=\"score_23143437\">204 points</span> by <a class=\"hnuser\" href=\"user?id=STRiDEX\">STRiDEX</a> <span class=\"age\"><a href=\"item?id=23143437\">3 hours ago</a></span> <span id=\"unv_23143437\"></span> | <a href=\"hide?id=23143437&amp;goto=news\">hide</a> | <a href=\"item?id=23143437\">125 comments</a>              </td></tr>\n",
       "      <tr class=\"spacer\" style=\"height:5px\"></tr>\n",
       "                <tr class=\"athing\" id=\"23142831\">\n",
       "      <td align=\"right\" class=\"title\" valign=\"top\"><span class=\"rank\">14.</span></td>      <td class=\"votelinks\" valign=\"top\"><center><a href=\"vote?id=23142831&amp;how=up&amp;goto=news\" id=\"up_23142831\"><div class=\"votearrow\" title=\"upvote\"></div></a></center></td><td class=\"title\"><a class=\"storylink\" href=\"item?id=23142831\">Launch HN: Data Mechanics (YC S19) – The Simplest Way to Run Apache Spark</a></td></tr><tr><td colspan=\"2\"></td><td class=\"subtext\">\n",
       "        <span class=\"score\" id=\"score_23142831\">72 points</span> by <a class=\"hnuser\" href=\"user?id=jstephan\">jstephan</a> <span class=\"age\"><a href=\"item?id=23142831\">4 hours ago</a></span> <span id=\"unv_23142831\"></span> | <a href=\"hide?id=23142831&amp;goto=news\">hide</a> | <a href=\"item?id=23142831\">15 comments</a>              </td></tr>\n",
       "      <tr class=\"spacer\" style=\"height:5px\"></tr>\n",
       "                <tr class=\"athing\" id=\"23144308\">\n",
       "      <td align=\"right\" class=\"title\" valign=\"top\"><span class=\"rank\">15.</span></td>      <td class=\"votelinks\" valign=\"top\"><center><a href=\"vote?id=23144308&amp;how=up&amp;goto=news\" id=\"up_23144308\"><div class=\"votearrow\" title=\"upvote\"></div></a></center></td><td class=\"title\"><a class=\"storylink\" href=\"https://demystifyingscience.com/blog/how-to-visualize-electricity\">Visualizing Electricity</a><span class=\"sitebit comhead\"> (<a href=\"from?site=demystifyingscience.com\"><span class=\"sitestr\">demystifyingscience.com</span></a>)</span></td></tr><tr><td colspan=\"2\"></td><td class=\"subtext\">\n",
       "        <span class=\"score\" id=\"score_23144308\">32 points</span> by <a class=\"hnuser\" href=\"user?id=mickfaraday\">mickfaraday</a> <span class=\"age\"><a href=\"item?id=23144308\">2 hours ago</a></span> <span id=\"unv_23144308\"></span> | <a href=\"hide?id=23144308&amp;goto=news\">hide</a> | <a href=\"item?id=23144308\">20 comments</a>              </td></tr>\n",
       "      <tr class=\"spacer\" style=\"height:5px\"></tr>\n",
       "                <tr class=\"athing\" id=\"23145130\">\n",
       "      <td align=\"right\" class=\"title\" valign=\"top\"><span class=\"rank\">16.</span></td>      <td class=\"votelinks\" valign=\"top\"><center><a href=\"vote?id=23145130&amp;how=up&amp;goto=news\" id=\"up_23145130\"><div class=\"votearrow\" title=\"upvote\"></div></a></center></td><td class=\"title\"><a class=\"storylink\" href=\"https://fl7b8.csb.app/\">Flight Instruments in Snap SVG and JavaScript</a><span class=\"sitebit comhead\"> (<a href=\"from?site=csb.app\"><span class=\"sitestr\">csb.app</span></a>)</span></td></tr><tr><td colspan=\"2\"></td><td class=\"subtext\">\n",
       "        <span class=\"score\" id=\"score_23145130\">19 points</span> by <a class=\"hnuser\" href=\"user?id=duncanmeech\">duncanmeech</a> <span class=\"age\"><a href=\"item?id=23145130\">1 hour ago</a></span> <span id=\"unv_23145130\"></span> | <a href=\"hide?id=23145130&amp;goto=news\">hide</a> | <a href=\"item?id=23145130\">3 comments</a>              </td></tr>\n",
       "      <tr class=\"spacer\" style=\"height:5px\"></tr>\n",
       "                <tr class=\"athing\" id=\"23143059\">\n",
       "      <td align=\"right\" class=\"title\" valign=\"top\"><span class=\"rank\">17.</span></td>      <td class=\"votelinks\" valign=\"top\"><center><a href=\"vote?id=23143059&amp;how=up&amp;goto=news\" id=\"up_23143059\"><div class=\"votearrow\" title=\"upvote\"></div></a></center></td><td class=\"title\"><a class=\"storylink\" href=\"https://www.quantamagazine.org/black-holes-prove-that-anti-de-sitter-space-time-is-unstable-20200511/\">New Math Proves That a Special Kind of Space-Time Is Unstable</a><span class=\"sitebit comhead\"> (<a href=\"from?site=quantamagazine.org\"><span class=\"sitestr\">quantamagazine.org</span></a>)</span></td></tr><tr><td colspan=\"2\"></td><td class=\"subtext\">\n",
       "        <span class=\"score\" id=\"score_23143059\">61 points</span> by <a class=\"hnuser\" href=\"user?id=furcyd\">furcyd</a> <span class=\"age\"><a href=\"item?id=23143059\">3 hours ago</a></span> <span id=\"unv_23143059\"></span> | <a href=\"hide?id=23143059&amp;goto=news\">hide</a> | <a href=\"item?id=23143059\">19 comments</a>              </td></tr>\n",
       "      <tr class=\"spacer\" style=\"height:5px\"></tr>\n",
       "                <tr class=\"athing\" id=\"23142322\">\n",
       "      <td align=\"right\" class=\"title\" valign=\"top\"><span class=\"rank\">18.</span></td>      <td class=\"votelinks\" valign=\"top\"><center><a href=\"vote?id=23142322&amp;how=up&amp;goto=news\" id=\"up_23142322\"><div class=\"votearrow\" title=\"upvote\"></div></a></center></td><td class=\"title\"><a class=\"storylink\" href=\"https://www.infoq.com/presentations/power-144-chip/\">Programming a 144-computer Chip to Minimize Power</a><span class=\"sitebit comhead\"> (<a href=\"from?site=infoq.com\"><span class=\"sitestr\">infoq.com</span></a>)</span></td></tr><tr><td colspan=\"2\"></td><td class=\"subtext\">\n",
       "        <span class=\"score\" id=\"score_23142322\">82 points</span> by <a class=\"hnuser\" href=\"user?id=colinprince\">colinprince</a> <span class=\"age\"><a href=\"item?id=23142322\">5 hours ago</a></span> <span id=\"unv_23142322\"></span> | <a href=\"hide?id=23142322&amp;goto=news\">hide</a> | <a href=\"item?id=23142322\">23 comments</a>              </td></tr>\n",
       "      <tr class=\"spacer\" style=\"height:5px\"></tr>\n",
       "                <tr class=\"athing\" id=\"23142300\">\n",
       "      <td align=\"right\" class=\"title\" valign=\"top\"><span class=\"rank\">19.</span></td>      <td class=\"votelinks\" valign=\"top\"><center><a href=\"vote?id=23142300&amp;how=up&amp;goto=news\" id=\"up_23142300\"><div class=\"votearrow\" title=\"upvote\"></div></a></center></td><td class=\"title\"><a class=\"storylink\" href=\"https://leontrolski.github.io/dom-syntax.html\">What if we'd had better HTML-in-JS syntax all along?</a><span class=\"sitebit comhead\"> (<a href=\"from?site=leontrolski.github.io\"><span class=\"sitestr\">leontrolski.github.io</span></a>)</span></td></tr><tr><td colspan=\"2\"></td><td class=\"subtext\">\n",
       "        <span class=\"score\" id=\"score_23142300\">74 points</span> by <a class=\"hnuser\" href=\"user?id=zdw\">zdw</a> <span class=\"age\"><a href=\"item?id=23142300\">5 hours ago</a></span> <span id=\"unv_23142300\"></span> | <a href=\"hide?id=23142300&amp;goto=news\">hide</a> | <a href=\"item?id=23142300\">77 comments</a>              </td></tr>\n",
       "      <tr class=\"spacer\" style=\"height:5px\"></tr>\n",
       "                <tr class=\"athing\" id=\"23144744\">\n",
       "      <td align=\"right\" class=\"title\" valign=\"top\"><span class=\"rank\">20.</span></td>      <td class=\"votelinks\" valign=\"top\"><center><a href=\"vote?id=23144744&amp;how=up&amp;goto=news\" id=\"up_23144744\"><div class=\"votearrow\" title=\"upvote\"></div></a></center></td><td class=\"title\"><a class=\"storylink\" href=\"https://www.neurable.com/technology\">Neurable Technology</a><span class=\"sitebit comhead\"> (<a href=\"from?site=neurable.com\"><span class=\"sitestr\">neurable.com</span></a>)</span></td></tr><tr><td colspan=\"2\"></td><td class=\"subtext\">\n",
       "        <span class=\"score\" id=\"score_23144744\">12 points</span> by <a class=\"hnuser\" href=\"user?id=boredgamer2\">boredgamer2</a> <span class=\"age\"><a href=\"item?id=23144744\">1 hour ago</a></span> <span id=\"unv_23144744\"></span> | <a href=\"hide?id=23144744&amp;goto=news\">hide</a> | <a href=\"item?id=23144744\">2 comments</a>              </td></tr>\n",
       "      <tr class=\"spacer\" style=\"height:5px\"></tr>\n",
       "                <tr class=\"athing\" id=\"23142232\">\n",
       "      <td align=\"right\" class=\"title\" valign=\"top\"><span class=\"rank\">21.</span></td>      <td class=\"votelinks\" valign=\"top\"><center><a href=\"vote?id=23142232&amp;how=up&amp;goto=news\" id=\"up_23142232\"><div class=\"votearrow\" title=\"upvote\"></div></a></center></td><td class=\"title\"><a class=\"storylink\" href=\"http://raganwald.com/2020/05/03/fractran.html\">Remembering John Conway's FRACTRAN</a><span class=\"sitebit comhead\"> (<a href=\"from?site=raganwald.com\"><span class=\"sitestr\">raganwald.com</span></a>)</span></td></tr><tr><td colspan=\"2\"></td><td class=\"subtext\">\n",
       "        <span class=\"score\" id=\"score_23142232\">22 points</span> by <a class=\"hnuser\" href=\"user?id=braythwayt\">braythwayt</a> <span class=\"age\"><a href=\"item?id=23142232\">2 hours ago</a></span> <span id=\"unv_23142232\"></span> | <a href=\"hide?id=23142232&amp;goto=news\">hide</a> | <a href=\"item?id=23142232\">8 comments</a>              </td></tr>\n",
       "      <tr class=\"spacer\" style=\"height:5px\"></tr>\n",
       "                <tr class=\"athing\" id=\"23144469\">\n",
       "      <td align=\"right\" class=\"title\" valign=\"top\"><span class=\"rank\">22.</span></td>      <td class=\"votelinks\" valign=\"top\"><center><a href=\"vote?id=23144469&amp;how=up&amp;goto=news\" id=\"up_23144469\"><div class=\"votearrow\" title=\"upvote\"></div></a></center></td><td class=\"title\"><a class=\"storylink\" href=\"https://online.ucpress.edu/jsmg/article/1/1/44/2337/The-1-Bit-InstrumentThe-Fundamentals-of-1-Bit\" rel=\"nofollow\">The 1-Bit Instrument</a><span class=\"sitebit comhead\"> (<a href=\"from?site=ucpress.edu\"><span class=\"sitestr\">ucpress.edu</span></a>)</span></td></tr><tr><td colspan=\"2\"></td><td class=\"subtext\">\n",
       "        <span class=\"score\" id=\"score_23144469\">9 points</span> by <a class=\"hnuser\" href=\"user?id=todsacerdoti\">todsacerdoti</a> <span class=\"age\"><a href=\"item?id=23144469\">1 hour ago</a></span> <span id=\"unv_23144469\"></span> | <a href=\"hide?id=23144469&amp;goto=news\">hide</a> | <a href=\"item?id=23144469\">4 comments</a>              </td></tr>\n",
       "      <tr class=\"spacer\" style=\"height:5px\"></tr>\n",
       "                <tr class=\"athing\" id=\"23139974\">\n",
       "      <td align=\"right\" class=\"title\" valign=\"top\"><span class=\"rank\">23.</span></td>      <td class=\"votelinks\" valign=\"top\"><center><a href=\"vote?id=23139974&amp;how=up&amp;goto=news\" id=\"up_23139974\"><div class=\"votearrow\" title=\"upvote\"></div></a></center></td><td class=\"title\"><a class=\"storylink\" href=\"https://www.forbes.com/sites/mattgardner1/2020/05/11/its-25-years-since-sega-of-america-made-its-biggest-ever-mistake/\">It’s 25 years since Sega of America made its biggest mistake</a><span class=\"sitebit comhead\"> (<a href=\"from?site=forbes.com\"><span class=\"sitestr\">forbes.com</span></a>)</span></td></tr><tr><td colspan=\"2\"></td><td class=\"subtext\">\n",
       "        <span class=\"score\" id=\"score_23139974\">76 points</span> by <a class=\"hnuser\" href=\"user?id=raudaschl\">raudaschl</a> <span class=\"age\"><a href=\"item?id=23139974\">4 hours ago</a></span> <span id=\"unv_23139974\"></span> | <a href=\"hide?id=23139974&amp;goto=news\">hide</a> | <a href=\"item?id=23139974\">60 comments</a>              </td></tr>\n",
       "      <tr class=\"spacer\" style=\"height:5px\"></tr>\n",
       "                <tr class=\"athing\" id=\"23138570\">\n",
       "      <td align=\"right\" class=\"title\" valign=\"top\"><span class=\"rank\">24.</span></td>      <td class=\"votelinks\" valign=\"top\"><center><a href=\"vote?id=23138570&amp;how=up&amp;goto=news\" id=\"up_23138570\"><div class=\"votearrow\" title=\"upvote\"></div></a></center></td><td class=\"title\"><a class=\"storylink\" href=\"https://www.newyorker.com/culture/culture-desk/the-reinventions-of-genesis-breyer-p-orridge\">The Reinventions of Genesis Breyer P-Orridge (2016)</a><span class=\"sitebit comhead\"> (<a href=\"from?site=newyorker.com\"><span class=\"sitestr\">newyorker.com</span></a>)</span></td></tr><tr><td colspan=\"2\"></td><td class=\"subtext\">\n",
       "        <span class=\"score\" id=\"score_23138570\">9 points</span> by <a class=\"hnuser\" href=\"user?id=apollinaire\">apollinaire</a> <span class=\"age\"><a href=\"item?id=23138570\">1 hour ago</a></span> <span id=\"unv_23138570\"></span> | <a href=\"hide?id=23138570&amp;goto=news\">hide</a> | <a href=\"item?id=23138570\">discuss</a>              </td></tr>\n",
       "      <tr class=\"spacer\" style=\"height:5px\"></tr>\n",
       "                <tr class=\"athing\" id=\"23141148\">\n",
       "      <td align=\"right\" class=\"title\" valign=\"top\"><span class=\"rank\">25.</span></td>      <td class=\"votelinks\" valign=\"top\"><center><a href=\"vote?id=23141148&amp;how=up&amp;goto=news\" id=\"up_23141148\"><div class=\"votearrow\" title=\"upvote\"></div></a></center></td><td class=\"title\"><a class=\"storylink\" href=\"https://showcase.metamate.io/hackernews-user-activity\">Show HN: Visualize your HackerNews Activity</a><span class=\"sitebit comhead\"> (<a href=\"from?site=metamate.io\"><span class=\"sitestr\">metamate.io</span></a>)</span></td></tr><tr><td colspan=\"2\"></td><td class=\"subtext\">\n",
       "        <span class=\"score\" id=\"score_23141148\">89 points</span> by <a class=\"hnuser\" href=\"user?id=21stio\">21stio</a> <span class=\"age\"><a href=\"item?id=23141148\">7 hours ago</a></span> <span id=\"unv_23141148\"></span> | <a href=\"hide?id=23141148&amp;goto=news\">hide</a> | <a href=\"item?id=23141148\">45 comments</a>              </td></tr>\n",
       "      <tr class=\"spacer\" style=\"height:5px\"></tr>\n",
       "                <tr class=\"athing\" id=\"23141392\">\n",
       "      <td align=\"right\" class=\"title\" valign=\"top\"><span class=\"rank\">26.</span></td>      <td class=\"votelinks\" valign=\"top\"><center><a href=\"vote?id=23141392&amp;how=up&amp;goto=news\" id=\"up_23141392\"><div class=\"votearrow\" title=\"upvote\"></div></a></center></td><td class=\"title\"><a class=\"storylink\" href=\"https://www.youtube.com/channel/UCFFeNyzCEQDS4KCecugmotg/videos\">The Power of Prolog [video]</a><span class=\"sitebit comhead\"> (<a href=\"from?site=youtube.com\"><span class=\"sitestr\">youtube.com</span></a>)</span></td></tr><tr><td colspan=\"2\"></td><td class=\"subtext\">\n",
       "        <span class=\"score\" id=\"score_23141392\">93 points</span> by <a class=\"hnuser\" href=\"user?id=lelf\">lelf</a> <span class=\"age\"><a href=\"item?id=23141392\">6 hours ago</a></span> <span id=\"unv_23141392\"></span> | <a href=\"hide?id=23141392&amp;goto=news\">hide</a> | <a href=\"item?id=23141392\">10 comments</a>              </td></tr>\n",
       "      <tr class=\"spacer\" style=\"height:5px\"></tr>\n",
       "                <tr class=\"athing\" id=\"23140334\">\n",
       "      <td align=\"right\" class=\"title\" valign=\"top\"><span class=\"rank\">27.</span></td>      <td class=\"votelinks\" valign=\"top\"><center><a href=\"vote?id=23140334&amp;how=up&amp;goto=news\" id=\"up_23140334\"><div class=\"votearrow\" title=\"upvote\"></div></a></center></td><td class=\"title\"><a class=\"storylink\" href=\"https://onlinelibrary.wiley.com/doi/10.1002/andp.202000033\">If you overlay all atomic spectra, you get a Planck distribution</a><span class=\"sitebit comhead\"> (<a href=\"from?site=wiley.com\"><span class=\"sitestr\">wiley.com</span></a>)</span></td></tr><tr><td colspan=\"2\"></td><td class=\"subtext\">\n",
       "        <span class=\"score\" id=\"score_23140334\">115 points</span> by <a class=\"hnuser\" href=\"user?id=hakmem\">hakmem</a> <span class=\"age\"><a href=\"item?id=23140334\">9 hours ago</a></span> <span id=\"unv_23140334\"></span> | <a href=\"hide?id=23140334&amp;goto=news\">hide</a> | <a href=\"item?id=23140334\">47 comments</a>              </td></tr>\n",
       "      <tr class=\"spacer\" style=\"height:5px\"></tr>\n",
       "                <tr class=\"athing\" id=\"23140780\">\n",
       "      <td align=\"right\" class=\"title\" valign=\"top\"><span class=\"rank\">28.</span></td>      <td class=\"votelinks\" valign=\"top\"><center><a href=\"vote?id=23140780&amp;how=up&amp;goto=news\" id=\"up_23140780\"><div class=\"votearrow\" title=\"upvote\"></div></a></center></td><td class=\"title\"><a class=\"storylink\" href=\"https://news.developer.nvidia.com/ray-tracing-essentials-part-7-denoising-for-ray-tracing/\">Ray Tracing Essentials Part 7: Denoising for Ray Tracing</a><span class=\"sitebit comhead\"> (<a href=\"from?site=nvidia.com\"><span class=\"sitestr\">nvidia.com</span></a>)</span></td></tr><tr><td colspan=\"2\"></td><td class=\"subtext\">\n",
       "        <span class=\"score\" id=\"score_23140780\">108 points</span> by <a class=\"hnuser\" href=\"user?id=ibobev\">ibobev</a> <span class=\"age\"><a href=\"item?id=23140780\">8 hours ago</a></span> <span id=\"unv_23140780\"></span> | <a href=\"hide?id=23140780&amp;goto=news\">hide</a> | <a href=\"item?id=23140780\">70 comments</a>              </td></tr>\n",
       "      <tr class=\"spacer\" style=\"height:5px\"></tr>\n",
       "                <tr class=\"athing\" id=\"23141346\">\n",
       "      <td align=\"right\" class=\"title\" valign=\"top\"><span class=\"rank\">29.</span></td>      <td class=\"votelinks\" valign=\"top\"><center><a href=\"vote?id=23141346&amp;how=up&amp;goto=news\" id=\"up_23141346\"><div class=\"votearrow\" title=\"upvote\"></div></a></center></td><td class=\"title\"><a class=\"storylink\" href=\"https://www.ezralafleur.com/programming-steve-reichs-piano-phase-in-supercollider/\">Programming Steve Reich’s Piano Phase in SuperCollider</a><span class=\"sitebit comhead\"> (<a href=\"from?site=ezralafleur.com\"><span class=\"sitestr\">ezralafleur.com</span></a>)</span></td></tr><tr><td colspan=\"2\"></td><td class=\"subtext\">\n",
       "        <span class=\"score\" id=\"score_23141346\">56 points</span> by <a class=\"hnuser\" href=\"user?id=ezralafleur\">ezralafleur</a> <span class=\"age\"><a href=\"item?id=23141346\">6 hours ago</a></span> <span id=\"unv_23141346\"></span> | <a href=\"hide?id=23141346&amp;goto=news\">hide</a> | <a href=\"item?id=23141346\">10 comments</a>              </td></tr>\n",
       "      <tr class=\"spacer\" style=\"height:5px\"></tr>\n",
       "                <tr class=\"athing\" id=\"23143509\">\n",
       "      <td align=\"right\" class=\"title\" valign=\"top\"><span class=\"rank\">30.</span></td>      <td></td><td class=\"title\"><a class=\"storylink\" href=\"https://mux.com/jobs/\" rel=\"nofollow\">Mux (YC W16, video for developers) is hiring senior Go engineers, SREs, more</a><span class=\"sitebit comhead\"> (<a href=\"from?site=mux.com\"><span class=\"sitestr\">mux.com</span></a>)</span></td></tr><tr><td colspan=\"2\"></td><td class=\"subtext\">\n",
       "        <span class=\"age\"><a href=\"item?id=23143509\">3 hours ago</a></span> | <a href=\"hide?id=23143509&amp;goto=news\">hide</a>      </td></tr>\n",
       "      <tr class=\"spacer\" style=\"height:5px\"></tr>\n",
       "            <tr class=\"morespace\" style=\"height:10px\"></tr><tr><td colspan=\"2\"></td><td class=\"title\"><a class=\"morelink\" href=\"news?p=2\" rel=\"next\">More</a></td></tr>\n",
       "  </tbody></table>\n",
       "</td></tr>\n",
       "<tr><td><img height=\"10\" src=\"s.gif\" width=\"0\"/><table cellpadding=\"1\" cellspacing=\"0\" width=\"100%\"><tbody><tr><td bgcolor=\"#ff6600\"></td></tr></tbody></table><br/><center><span class=\"yclinks\"><a href=\"newsguidelines.html\">Guidelines</a>\n",
       "        | <a href=\"newsfaq.html\">FAQ</a>\n",
       "        | <a href=\"mailto:hn@ycombinator.com\">Support</a>\n",
       "        | <a href=\"https://github.com/HackerNews/API\">API</a>\n",
       "        | <a href=\"security.html\">Security</a>\n",
       "        | <a href=\"lists\">Lists</a>\n",
       "        | <a href=\"bookmarklet.html\" rel=\"nofollow\">Bookmarklet</a>\n",
       "        | <a href=\"http://www.ycombinator.com/legal/\">Legal</a>\n",
       "        | <a href=\"http://www.ycombinator.com/apply/\">Apply to YC</a>\n",
       "        | <a href=\"mailto:hn@ycombinator.com\">Contact</a></span><br/><br/><form action=\"//hn.algolia.com/\" method=\"get\">Search:\n",
       "          <input autocapitalize=\"off\" autocomplete=\"false\" autocorrect=\"off\" name=\"q\" size=\"17\" spellcheck=\"false\" type=\"text\" value=\"\"/></form>\n",
       "            </center></td></tr>\n",
       "      </tbody></table></center><script src=\"hn.js?qgmUawbBF6R5AeIXHTFL\" type=\"text/javascript\"></script>\n",
       "</body></html>"
      ]
     },
     "execution_count": 65,
     "metadata": {},
     "output_type": "execute_result"
    }
   ],
   "source": [
    "from bs4 import BeautifulSoup\n",
    "soup = BeautifulSoup(r.text, 'html5lib')\n",
    "soup"
   ]
  },
  {
   "cell_type": "code",
   "execution_count": 52,
   "metadata": {
    "scrolled": true
   },
   "outputs": [
    {
     "data": {
      "text/plain": [
       "\"\\n        \\n          \\n        Hacker News\\n        \\n                  Hacker News\\n              new | past | comments | ask | show | jobs | submit            \\n                              login\\n                          \\n              \\n\\n              \\n      1.      Apache NiFi (apache.org)\\n        84 points by boredgamer2 2 hours ago  | hide | 29\\xa0comments              \\n      \\n                \\n      2.      Teensy 4.1 Development Board (pjrc.com)\\n        158 points by milo_im 2 hours ago  | hide | 78\\xa0comments              \\n      \\n                \\n      3.      Webrecorder: Make an interactive copy of any web page that you browse (webrecorder.io)\\n        98 points by pcr910303 2 hours ago  | hide | 22\\xa0comments              \\n      \\n                \\n      4.      The Office Is Dead (marker.medium.com)\\n        35 points by BobbieG 1 hour ago  | hide | 30\\xa0comments              \\n      \\n                \\n      5.      We at $Famous_company switched to $Hyped_technology (saagarjha.com)\\n        441 points by gok 2 hours ago  | hide | 78\\xa0comments              \\n      \\n                \\n      6.      Encouraging a Culture of Written Communication (mcls.io)\\n        281 points by quintencls 6 hours ago  | hide | 129\\xa0comments              \\n      \\n                \\n      7.      Pinephone first steps (scattered-thoughts.net)\\n        66 points by todsacerdoti 2 hours ago  | hide | 16\\xa0comments              \\n      \\n                \\n      8.      Scraping Recipe Websites (benawad.com)\\n        188 points by benawad 5 hours ago  | hide | 115\\xa0comments              \\n      \\n                \\n      9.      Ryanair, Hamiltonian Cycles, and using graph theory to find cheap flights (2018) (jldc.me)\\n        81 points by jonluca 3 hours ago  | hide | 44\\xa0comments              \\n      \\n                \\n      10.      New Abbott SARS-CoV-2 antibody test has 99.90% specificity and 100% sensitivity (asm.org)\\n        202 points by bookofjoe 3 hours ago  | hide | 79\\xa0comments              \\n      \\n                \\n      11.      ESLint v7.0.0 Released (eslint.org)\\n        100 points by himynameisdave 3 hours ago  | hide | 23\\xa0comments              \\n      \\n                \\n      12.      Deep Learning for Guitar Effect Emulation (teddykoker.com)\\n        249 points by teddykoker 7 hours ago  | hide | 128\\xa0comments              \\n      \\n                \\n      13.      Next.js 9.4 – Fast Refresh, Incremental Static Regeneration (nextjs.org)\\n        204 points by STRiDEX 3 hours ago  | hide | 125\\xa0comments              \\n      \\n                \\n      14.      Launch HN: Data Mechanics (YC S19) – The Simplest Way to Run Apache Spark\\n        72 points by jstephan 4 hours ago  | hide | 15\\xa0comments              \\n      \\n                \\n      15.      Visualizing Electricity (demystifyingscience.com)\\n        32 points by mickfaraday 2 hours ago  | hide | 20\\xa0comments              \\n      \\n                \\n      16.      Flight Instruments in Snap SVG and JavaScript (csb.app)\\n        19 points by duncanmeech 1 hour ago  | hide | 3\\xa0comments              \\n      \\n                \\n      17.      New Math Proves That a Special Kind of Space-Time Is Unstable (quantamagazine.org)\\n        61 points by furcyd 3 hours ago  | hide | 19\\xa0comments              \\n      \\n                \\n      18.      Programming a 144-computer Chip to Minimize Power (infoq.com)\\n        82 points by colinprince 5 hours ago  | hide | 23\\xa0comments              \\n      \\n                \\n      19.      What if we'd had better HTML-in-JS syntax all along? (leontrolski.github.io)\\n        74 points by zdw 5 hours ago  | hide | 77\\xa0comments              \\n      \\n                \\n      20.      Neurable Technology (neurable.com)\\n        12 points by boredgamer2 1 hour ago  | hide | 2\\xa0comments              \\n      \\n                \\n      21.      Remembering John Conway's FRACTRAN (raganwald.com)\\n        22 points by braythwayt 2 hours ago  | hide | 8\\xa0comments              \\n      \\n                \\n      22.      The 1-Bit Instrument (ucpress.edu)\\n        9 points by todsacerdoti 1 hour ago  | hide | 4\\xa0comments              \\n      \\n                \\n      23.      It’s 25 years since Sega of America made its biggest mistake (forbes.com)\\n        76 points by raudaschl 4 hours ago  | hide | 60\\xa0comments              \\n      \\n                \\n      24.      The Reinventions of Genesis Breyer P-Orridge (2016) (newyorker.com)\\n        9 points by apollinaire 1 hour ago  | hide | discuss              \\n      \\n                \\n      25.      Show HN: Visualize your HackerNews Activity (metamate.io)\\n        89 points by 21stio 7 hours ago  | hide | 45\\xa0comments              \\n      \\n                \\n      26.      The Power of Prolog [video] (youtube.com)\\n        93 points by lelf 6 hours ago  | hide | 10\\xa0comments              \\n      \\n                \\n      27.      If you overlay all atomic spectra, you get a Planck distribution (wiley.com)\\n        115 points by hakmem 9 hours ago  | hide | 47\\xa0comments              \\n      \\n                \\n      28.      Ray Tracing Essentials Part 7: Denoising for Ray Tracing (nvidia.com)\\n        108 points by ibobev 8 hours ago  | hide | 70\\xa0comments              \\n      \\n                \\n      29.      Programming Steve Reich’s Piano Phase in SuperCollider (ezralafleur.com)\\n        56 points by ezralafleur 6 hours ago  | hide | 10\\xa0comments              \\n      \\n                \\n      30.      Mux (YC W16, video for developers) is hiring senior Go engineers, SREs, more (mux.com)\\n        3 hours ago | hide      \\n      \\n            More\\n  \\n\\nGuidelines\\n        | FAQ\\n        | Support\\n        | API\\n        | Security\\n        | Lists\\n        | Bookmarklet\\n        | Legal\\n        | Apply to YC\\n        | ContactSearch:\\n          \\n            \\n      \\n\""
      ]
     },
     "execution_count": 52,
     "metadata": {},
     "output_type": "execute_result"
    }
   ],
   "source": [
    "soup.get_text()"
   ]
  },
  {
   "cell_type": "code",
   "execution_count": 56,
   "metadata": {},
   "outputs": [],
   "source": [
    "# soup.find_all('tr')"
   ]
  },
  {
   "cell_type": "code",
   "execution_count": 54,
   "metadata": {
    "scrolled": true
   },
   "outputs": [
    {
     "data": {
      "text/plain": [
       "<tr class=\"athing\" id=\"23144450\">\n",
       "      <td align=\"right\" class=\"title\" valign=\"top\"><span class=\"rank\">1.</span></td>      <td class=\"votelinks\" valign=\"top\"><center><a href=\"vote?id=23144450&amp;how=up&amp;goto=news\" id=\"up_23144450\"><div class=\"votearrow\" title=\"upvote\"></div></a></center></td><td class=\"title\"><a class=\"storylink\" href=\"http://nifi.apache.org/index.html\">Apache NiFi</a><span class=\"sitebit comhead\"> (<a href=\"from?site=apache.org\"><span class=\"sitestr\">apache.org</span></a>)</span></td></tr>"
      ]
     },
     "execution_count": 54,
     "metadata": {},
     "output_type": "execute_result"
    }
   ],
   "source": [
    "# Find all articles\n",
    "summaries = soup.find_all(\"tr\", class_=\"athing\")\n",
    "summaries[0]"
   ]
  },
  {
   "cell_type": "code",
   "execution_count": 55,
   "metadata": {},
   "outputs": [
    {
     "data": {
      "text/plain": [
       "'Apache NiFi'"
      ]
     },
     "execution_count": 55,
     "metadata": {},
     "output_type": "execute_result"
    }
   ],
   "source": [
    "# Extract title\n",
    "summaries[0].find(\"a\", class_=\"storylink\").get_text().strip()"
   ]
  },
  {
   "cell_type": "code",
   "execution_count": 73,
   "metadata": {},
   "outputs": [
    {
     "name": "stdout",
     "output_type": "stream",
     "text": [
      "30\n"
     ]
    },
    {
     "data": {
      "text/plain": [
       "'Apache NiFi'"
      ]
     },
     "execution_count": 73,
     "metadata": {},
     "output_type": "execute_result"
    }
   ],
   "source": [
    "print(len(soup.find_all('tr', class_='athing')))\n",
    "x=soup.find_all('tr', class_='athing')[0]\n",
    "x.find('a',class_='storylink').get_text()"
   ]
  },
  {
   "cell_type": "code",
   "execution_count": 74,
   "metadata": {},
   "outputs": [
    {
     "name": "stdout",
     "output_type": "stream",
     "text": [
      "30 Article summaries found. Sample:\n",
      "Apache NiFi\n"
     ]
    }
   ],
   "source": [
    "# Find all articles, extract titles\n",
    "articles = []\n",
    "summaries = soup.find_all(\"tr\", class_=\"athing\")\n",
    "for summary in summaries:\n",
    "    title = summary.find(\"a\", class_=\"storylink\").get_text().strip()\n",
    "    articles.append((title))\n",
    "\n",
    "print(len(articles), \"Article summaries found. Sample:\")\n",
    "print(articles[0])"
   ]
  },
  {
   "cell_type": "code",
   "execution_count": 78,
   "metadata": {},
   "outputs": [
    {
     "name": "stdout",
     "output_type": "stream",
     "text": [
      "<a class=\"storylink\" href=\"http://nifi.apache.org/index.html\">Apache NiFi</a>\n",
      "Apache NiFi\n"
     ]
    }
   ],
   "source": [
    "summaries = soup.find_all('tr', class_='athing')\n",
    "for summary in summaries:\n",
    "    title = summary.find('a', class_='storylink')\n",
    "    print(title)\n",
    "    print(title.get_text())\n",
    "    break"
   ]
  },
  {
   "cell_type": "markdown",
   "metadata": {
    "collapsed": true
   },
   "source": [
    "## Normalization"
   ]
  },
  {
   "cell_type": "markdown",
   "metadata": {},
   "source": [
    "### Case Normalization"
   ]
  },
  {
   "cell_type": "code",
   "execution_count": 79,
   "metadata": {},
   "outputs": [
    {
     "name": "stdout",
     "output_type": "stream",
     "text": [
      "The first time you see The Second Renaissance it may look boring. Look at it at least twice and definitely watch part 2. It will change your view of the matrix. Are the human people the ones who started the war ? Is AI a bad thing ?\n"
     ]
    }
   ],
   "source": [
    "# Sample text\n",
    "text = \"The first time you see The Second Renaissance it may look boring. Look at it at least twice and definitely watch part 2. It will change your view of the matrix. Are the human people the ones who started the war ? Is AI a bad thing ?\"\n",
    "print(text)"
   ]
  },
  {
   "cell_type": "code",
   "execution_count": 80,
   "metadata": {},
   "outputs": [
    {
     "name": "stdout",
     "output_type": "stream",
     "text": [
      "the first time you see the second renaissance it may look boring. look at it at least twice and definitely watch part 2. it will change your view of the matrix. are the human people the ones who started the war ? is ai a bad thing ?\n"
     ]
    }
   ],
   "source": [
    "# Convert to lowercase\n",
    "text = text.lower() \n",
    "print(text)"
   ]
  },
  {
   "cell_type": "markdown",
   "metadata": {},
   "source": [
    "### Punctuation Removal"
   ]
  },
  {
   "cell_type": "code",
   "execution_count": 81,
   "metadata": {},
   "outputs": [
    {
     "name": "stdout",
     "output_type": "stream",
     "text": [
      "the first time you see the second renaissance it may look boring  look at it at least twice and definitely watch part 2  it will change your view of the matrix  are the human people the ones who started the war   is ai a bad thing  \n"
     ]
    }
   ],
   "source": [
    "import re\n",
    "\n",
    "# Remove punctuation characters\n",
    "text = re.sub(r\"[^a-zA-Z0-9]\", \" \", text) \n",
    "print(text)"
   ]
  },
  {
   "cell_type": "markdown",
   "metadata": {},
   "source": [
    "## Tokenization"
   ]
  },
  {
   "cell_type": "code",
   "execution_count": 82,
   "metadata": {},
   "outputs": [
    {
     "name": "stdout",
     "output_type": "stream",
     "text": [
      "['the', 'first', 'time', 'you', 'see', 'the', 'second', 'renaissance', 'it', 'may', 'look', 'boring', 'look', 'at', 'it', 'at', 'least', 'twice', 'and', 'definitely', 'watch', 'part', '2', 'it', 'will', 'change', 'your', 'view', 'of', 'the', 'matrix', 'are', 'the', 'human', 'people', 'the', 'ones', 'who', 'started', 'the', 'war', 'is', 'ai', 'a', 'bad', 'thing']\n"
     ]
    }
   ],
   "source": [
    "# Split text into tokens (words)\n",
    "words = text.split()\n",
    "print(words)"
   ]
  },
  {
   "cell_type": "markdown",
   "metadata": {},
   "source": [
    "### NLTK: Natural Language ToolKit"
   ]
  },
  {
   "cell_type": "code",
   "execution_count": 83,
   "metadata": {},
   "outputs": [],
   "source": [
    "import os\n",
    "import nltk\n",
    "nltk.data.path.append(os.path.join(os.getcwd(), \"nltk_data\"))"
   ]
  },
  {
   "cell_type": "code",
   "execution_count": 84,
   "metadata": {},
   "outputs": [
    {
     "name": "stdout",
     "output_type": "stream",
     "text": [
      "Dr. Smith graduated from the University of Washington. He later started an analytics firm called Lux, which catered to enterprise customers.\n"
     ]
    }
   ],
   "source": [
    "# Another sample text\n",
    "text = \"Dr. Smith graduated from the University of Washington. He later started an analytics firm called Lux, which catered to enterprise customers.\"\n",
    "print(text)"
   ]
  },
  {
   "cell_type": "code",
   "execution_count": 86,
   "metadata": {},
   "outputs": [
    {
     "name": "stdout",
     "output_type": "stream",
     "text": [
      "['Dr.', 'Smith', 'graduated', 'from', 'the', 'University', 'of', 'Washington', '.', 'He', 'later', 'started', 'an', 'analytics', 'firm', 'called', 'Lux', ',', 'which', 'catered', 'to', 'enterprise', 'customers', '.']\n"
     ]
    }
   ],
   "source": [
    "from nltk.tokenize import word_tokenize\n",
    "\n",
    "# Split text into words using NLTK\n",
    "words = word_tokenize(text)\n",
    "print(words)"
   ]
  },
  {
   "cell_type": "code",
   "execution_count": 89,
   "metadata": {},
   "outputs": [
    {
     "name": "stdout",
     "output_type": "stream",
     "text": [
      "['Dr. Smith graduated from the University of Washington.', 'He later started an analytics firm called Lux, which catered to enterprise customers.']\n"
     ]
    },
    {
     "data": {
      "text/plain": [
       "(None, 2)"
      ]
     },
     "execution_count": 89,
     "metadata": {},
     "output_type": "execute_result"
    }
   ],
   "source": [
    "from nltk.tokenize import sent_tokenize\n",
    "\n",
    "# Split text into sentences\n",
    "sentences = sent_tokenize(text)\n",
    "print(sentences),len(sentences)"
   ]
  },
  {
   "cell_type": "code",
   "execution_count": 91,
   "metadata": {},
   "outputs": [
    {
     "name": "stdout",
     "output_type": "stream",
     "text": [
      "['i', 'me', 'my', 'myself', 'we', 'our', 'ours', 'ourselves', 'you', \"you're\", \"you've\", \"you'll\", \"you'd\", 'your', 'yours', 'yourself', 'yourselves', 'he', 'him', 'his', 'himself', 'she', \"she's\", 'her', 'hers', 'herself', 'it', \"it's\", 'its', 'itself', 'they', 'them', 'their', 'theirs', 'themselves', 'what', 'which', 'who', 'whom', 'this', 'that', \"that'll\", 'these', 'those', 'am', 'is', 'are', 'was', 'were', 'be', 'been', 'being', 'have', 'has', 'had', 'having', 'do', 'does', 'did', 'doing', 'a', 'an', 'the', 'and', 'but', 'if', 'or', 'because', 'as', 'until', 'while', 'of', 'at', 'by', 'for', 'with', 'about', 'against', 'between', 'into', 'through', 'during', 'before', 'after', 'above', 'below', 'to', 'from', 'up', 'down', 'in', 'out', 'on', 'off', 'over', 'under', 'again', 'further', 'then', 'once', 'here', 'there', 'when', 'where', 'why', 'how', 'all', 'any', 'both', 'each', 'few', 'more', 'most', 'other', 'some', 'such', 'no', 'nor', 'not', 'only', 'own', 'same', 'so', 'than', 'too', 'very', 's', 't', 'can', 'will', 'just', 'don', \"don't\", 'should', \"should've\", 'now', 'd', 'll', 'm', 'o', 're', 've', 'y', 'ain', 'aren', \"aren't\", 'couldn', \"couldn't\", 'didn', \"didn't\", 'doesn', \"doesn't\", 'hadn', \"hadn't\", 'hasn', \"hasn't\", 'haven', \"haven't\", 'isn', \"isn't\", 'ma', 'mightn', \"mightn't\", 'mustn', \"mustn't\", 'needn', \"needn't\", 'shan', \"shan't\", 'shouldn', \"shouldn't\", 'wasn', \"wasn't\", 'weren', \"weren't\", 'won', \"won't\", 'wouldn', \"wouldn't\"]\n"
     ]
    }
   ],
   "source": [
    "# List stop words\n",
    "from nltk.corpus import stopwords\n",
    "print(stopwords.words(\"english\"))"
   ]
  },
  {
   "cell_type": "code",
   "execution_count": 94,
   "metadata": {},
   "outputs": [
    {
     "name": "stdout",
     "output_type": "stream",
     "text": [
      "['the', 'first', 'time', 'you', 'see', 'the', 'second', 'renaissance', 'it', 'may', 'look', 'boring', 'look', 'at', 'it', 'at', 'least', 'twice', 'and', 'definitely', 'watch', 'part', '2', 'it', 'will', 'change', 'your', 'view', 'of', 'the', 'matrix', 'are', 'the', 'human', 'people', 'the', 'ones', 'who', 'started', 'the', 'war', 'is', 'ai', 'a', 'bad', 'thing']\n"
     ]
    }
   ],
   "source": [
    "# Reset text\n",
    "text = \"The first time you see The Second Renaissance it may look boring. Look at it at least twice and definitely watch part 2. It will change your view of the matrix. Are the human people the ones who started the war ? Is AI a bad thing ?\"\n",
    "\n",
    "# Normalize it\n",
    "text = re.sub(r\"[^a-zA-Z0-9]\", \" \", text.lower())\n",
    "\n",
    "# Tokenize it\n",
    "words = text.split()\n",
    "print(words)"
   ]
  },
  {
   "cell_type": "code",
   "execution_count": 95,
   "metadata": {},
   "outputs": [
    {
     "name": "stdout",
     "output_type": "stream",
     "text": [
      "['first', 'time', 'see', 'second', 'renaissance', 'may', 'look', 'boring', 'look', 'least', 'twice', 'definitely', 'watch', 'part', '2', 'change', 'view', 'matrix', 'human', 'people', 'ones', 'started', 'war', 'ai', 'bad', 'thing']\n"
     ]
    }
   ],
   "source": [
    "# Remove stop words\n",
    "words = [w for w in words if w not in stopwords.words(\"english\")]\n",
    "print(words)"
   ]
  },
  {
   "cell_type": "markdown",
   "metadata": {},
   "source": [
    "### Sentence Parsing"
   ]
  },
  {
   "cell_type": "code",
   "execution_count": 103,
   "metadata": {},
   "outputs": [
    {
     "name": "stdout",
     "output_type": "stream",
     "text": [
      "(S\n",
      "  (NP I)\n",
      "  (VP\n",
      "    (VP (V shot) (NP (Det an) (N elephant)))\n",
      "    (PP (P in) (NP (Det my) (N pajamas)))))\n",
      "(S\n",
      "  (NP I)\n",
      "  (VP\n",
      "    (V shot)\n",
      "    (NP (Det an) (N elephant) (PP (P in) (NP (Det my) (N pajamas))))))\n"
     ]
    }
   ],
   "source": [
    "import nltk\n",
    "\n",
    "# Define a custom grammar\n",
    "my_grammar = nltk.CFG.fromstring(\"\"\"\n",
    "S -> NP VP\n",
    "PP -> P NP\n",
    "NP -> Det N | Det N PP | 'I'\n",
    "VP -> V NP | VP PP\n",
    "Det -> 'an' | 'my'\n",
    "N -> 'elephant' | 'pajamas'\n",
    "V -> 'shot'\n",
    "P -> 'in'\n",
    "\"\"\")\n",
    "parser = nltk.ChartParser(my_grammar)\n",
    "\n",
    "# Parse a sentence\n",
    "sentence = word_tokenize(\"I shot an elephant in my pajamas\")\n",
    "for tree in parser.parse(sentence):\n",
    "    print(tree)"
   ]
  },
  {
   "cell_type": "markdown",
   "metadata": {},
   "source": [
    "## Stemming & Lemmatization\n",
    "\n",
    "### Stemming"
   ]
  },
  {
   "cell_type": "code",
   "execution_count": 97,
   "metadata": {},
   "outputs": [
    {
     "name": "stdout",
     "output_type": "stream",
     "text": [
      "['first', 'time', 'see', 'second', 'renaissance', 'may', 'look', 'boring', 'look', 'least', 'twice', 'definitely', 'watch', 'part', '2', 'change', 'view', 'matrix', 'human', 'people', 'ones', 'started', 'war', 'ai', 'bad', 'thing']\n"
     ]
    }
   ],
   "source": [
    "print(words)"
   ]
  },
  {
   "cell_type": "code",
   "execution_count": 99,
   "metadata": {},
   "outputs": [
    {
     "name": "stdout",
     "output_type": "stream",
     "text": [
      "['first', 'time', 'see', 'second', 'renaiss', 'may', 'look', 'bore', 'look', 'least', 'twice', 'definit', 'watch', 'part', '2', 'chang', 'view', 'matrix', 'human', 'peopl', 'one', 'start', 'war', 'ai', 'bad', 'thing']\n"
     ]
    }
   ],
   "source": [
    "from nltk.stem.porter import PorterStemmer\n",
    "\n",
    "# Reduce words to their stems\n",
    "stemmed = [PorterStemmer().stem(w) for w in words]\n",
    "print(stemmed)"
   ]
  },
  {
   "cell_type": "markdown",
   "metadata": {},
   "source": [
    "### Lemmatization"
   ]
  },
  {
   "cell_type": "code",
   "execution_count": 101,
   "metadata": {},
   "outputs": [
    {
     "name": "stdout",
     "output_type": "stream",
     "text": [
      "['first', 'time', 'see', 'second', 'renaissance', 'may', 'look', 'boring', 'look', 'least', 'twice', 'definitely', 'watch', 'part', '2', 'change', 'view', 'matrix', 'human', 'people', 'one', 'started', 'war', 'ai', 'bad', 'thing']\n"
     ]
    }
   ],
   "source": [
    "from nltk.stem.wordnet import WordNetLemmatizer\n",
    "\n",
    "# Reduce words to their root form\n",
    "lemmed = [WordNetLemmatizer().lemmatize(w) for w in words]\n",
    "print(lemmed)"
   ]
  },
  {
   "cell_type": "code",
   "execution_count": 102,
   "metadata": {},
   "outputs": [
    {
     "name": "stdout",
     "output_type": "stream",
     "text": [
      "['first', 'time', 'see', 'second', 'renaissance', 'may', 'look', 'bore', 'look', 'least', 'twice', 'definitely', 'watch', 'part', '2', 'change', 'view', 'matrix', 'human', 'people', 'one', 'start', 'war', 'ai', 'bad', 'thing']\n"
     ]
    }
   ],
   "source": [
    "# Lemmatize verbs by specifying pos\n",
    "lemmed = [WordNetLemmatizer().lemmatize(w, pos='v') for w in lemmed]\n",
    "print(lemmed)"
   ]
  },
  {
   "cell_type": "code",
   "execution_count": null,
   "metadata": {},
   "outputs": [],
   "source": []
  }
 ],
 "metadata": {
  "kernelspec": {
   "display_name": "Python 3",
   "language": "python",
   "name": "python3"
  },
  "language_info": {
   "codemirror_mode": {
    "name": "ipython",
    "version": 3
   },
   "file_extension": ".py",
   "mimetype": "text/x-python",
   "name": "python",
   "nbconvert_exporter": "python",
   "pygments_lexer": "ipython3",
   "version": "3.6.3"
  }
 },
 "nbformat": 4,
 "nbformat_minor": 2
}
