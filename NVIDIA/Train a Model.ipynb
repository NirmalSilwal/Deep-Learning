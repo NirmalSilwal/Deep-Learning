{
 "cells": [
  {
   "cell_type": "markdown",
   "metadata": {},
   "source": [
    "<a href=\"https://www.nvidia.com/en-us/deep-learning-ai/education/\"> <img src=\"images/DLI Header.png\" alt=\"Header\" style=\"width: 400px;\"/> </a>"
   ]
  },
  {
   "cell_type": "markdown",
   "metadata": {
    "raw_mimetype": "text/markdown"
   },
   "source": [
    "# Expose a network to data"
   ]
  },
  {
   "cell_type": "markdown",
   "metadata": {},
   "source": [
    "Your instructions will live in this notebook, and your workspace will be in DIGITS. You'll need to go back and forth between the two tabs. Open DIGITS in a separate tab, here:\n",
    "\n",
    "### <a href=\"/digits/\">Open DIGITS</a>.\n",
    "\n",
    "If at any point DIGITS asks for a username, any username with lowercase letters will work. \n",
    "\n",
    "You will see the DIGITS home screen wherein you will create your first model. To do so, select \"Images\" -> \"Classification\" under \"New Model\" as shown below:\n",
    "\n",
    "![](images/NewClassificationModel.png) \n",
    "\n",
    "This is where you will set up the training session. While you can see that there are many options to choose from, we're going to start simple by selecting a dataset, an amount of training time, and a neural network.\n",
    "\n",
    "### Dataset \n",
    "\n",
    "To teach a neural network to understand the difference between Louie and other dogs, we'll need images for the network to learn from. We've pre-loaded 8 labeled images of Louie and 8 labeled images of other dogs into the dataset called \"Images of Beagles.\"\n",
    "\n",
    "Select it as shown below:"
   ]
  },
  {
   "cell_type": "markdown",
   "metadata": {},
   "source": [
    "![](images/selectdatasetbeagle.PNG)"
   ]
  },
  {
   "cell_type": "markdown",
   "metadata": {},
   "source": [
    "### Training Time\n",
    "\n",
    "Next, we'll tell DIGITS how many times to look through the images. Each trip through the data is called an **epoch.** Start with 2 by changing the number of \"Training epochs\" from 30. (2 epochs is the smallest amount of training time we can request while being able to show what we want in the next section). \n",
    "\n",
    "![](images/2epochs.png)"
   ]
  },
  {
   "cell_type": "markdown",
   "metadata": {},
   "source": [
    "Note that you have many other options you could change. We call these **hyperparameters** and they change the way your network is trained. Leave those as defaults and we'll dig deeper into them as we progress through this course.\n",
    "\n",
    "### Neural Network\n",
    "\n",
    "Select the **deep neural network** to train by selecting \"AlexNet\" from the list of \"Standard Networks\". \n",
    "\n",
    "![](images/choosenetwork.PNG)\n",
    "\n",
    "We'll discover the many rules that were set by this choice but you can see when you select it that:\n",
    "\n",
    "#### Rule #1: AlexNet is intended to be used with 256X256 (color) images."
   ]
  },
  {
   "cell_type": "markdown",
   "metadata": {},
   "source": [
    "Our dataset \"Images of Beagles\" meets that requirement. We will explore what about AlexNet sets that rule as we progress through this course by experimenting with **network selection and design.**\n",
    "\n",
    "For now, learn about the other rules that we have set by training AlexNet on the dataset \"Images of Beagles\". \n",
    "\n",
    "Once it has trained, we will have a **model**. Our last step is to give that **model** a name so we can find it. Let's call it \"Louie Classifier.\"\n",
    "\n",
    "Once named, begin training by selecting \"Create\". \n",
    "\n",
    "![](images/createmodel.PNG)"
   ]
  },
  {
   "cell_type": "markdown",
   "metadata": {},
   "source": [
    "Just as you did when attempting to identify Louie in your dataset, your model looked at each image once. Each time it saw an image, it generated an output, or prediction, about whether that image contains Louie or does not contain Louie. After each prediction, it learned the right answer, adjusted its model, and then tried again. Let's find out what it learned.\n",
    "\n",
    "As you scroll through the *model page*, you'll see two graphs without much information (yet), and then a section titled, \"Trained Models.\"\n",
    "\n",
    "This is where you will *test* your model. Under \"Test a single image,\" there is a field titled \"Image Path.\"\n",
    "\n",
    "Copy and paste the following path:\n",
    "<pre>/dli/data/BeagleImages/Louie/louie1.JPG</pre>\n",
    "and select \"Classify One.\"\n",
    "\n",
    "![](images/LouieTest1.PNG)"
   ]
  },
  {
   "cell_type": "markdown",
   "metadata": {},
   "source": [
    "The model then generates a prediction which doesn't look much better than chance:\n",
    "\n",
    "![](images/Louie1pred.PNG)\n",
    "\n",
    "Don't worry, we'll improve performance in the next section. At this point, the important takeaway is that the network understands the rules of the game, even though it isn't providing any useful information yet."
   ]
  },
  {
   "cell_type": "markdown",
   "metadata": {},
   "source": [
    "Let's try one more time. You likely thought you could classify Louie more accurately if you were able to see the data a few more times, possibly even memorizing whether each image contained Louie or not. While asking you to learn about this dog isn't the point of this course, teaching this network is, so let's try again with more epochs.\n",
    "\n",
    "This time, let's try 100. Return to DIGITS' Home screen by selecting \"DIGITS\" in the top left corner. Select the model you just trained, \"Louie Classifier.\"\n",
    "\n",
    "![](images/DIGITSHome.PNG)\n",
    "\n",
    "Select \"Clone Job\" on the right-hand side of the screen to access your training options again. Change the number \"Training epochs\" to 100.\n",
    "\n",
    "![](images/100epochs.PNG)"
   ]
  },
  {
   "cell_type": "markdown",
   "metadata": {},
   "source": [
    "Scroll to the bottom and give the model a new name:\n",
    "<pre>Louie Classifier after 100 Epochs</pre>\n",
    "and then \"Create\".\n",
    "\n",
    "![](images/Name100Epochs.PNG)\n",
    "\n",
    "Note: Because we *cloned* the *job*, all other settings we chose last time persist. We are still training AlexNet with our 16 images of beagles, this time only 100 times instead of 2."
   ]
  },
  {
   "cell_type": "markdown",
   "metadata": {},
   "source": [
    "This time, training will take a bit longer (between 3 and 4 minutes). While it trains, examine the two graphs that are generated. They highlight two key concepts that we will examine after this task:\n",
    "\n",
    "- **loss**\n",
    "- **learning rate**\n",
    "\n",
    "Once your model is trained, test the same image in the same way that you did after 2 epochs. Scroll to the bottom of the page to \"Trained Models\" and then \"Test a single image\". In the field titled, \"Image Path\", paste:\n",
    "<pre>/dli/data/BeagleImages/Louie/louie1.JPG</pre>\n",
    "and select \"Classify One\".\n",
    "\n",
    "![](images/TestLouie100.PNG)"
   ]
  },
  {
   "cell_type": "markdown",
   "metadata": {},
   "source": [
    "If everything went right, your model should have correctly classified the image with 100% confidence. \n",
    "\n",
    "![](images/correctclass.PNG)\n",
    "\n",
    "Congratulations. You have just trained a neural network model by exposing a neural network to data. Feel free to try some other images from the dataset by returning to DIGITS' Home page (selecting the DIGITS logo in the top left corner) and selecting either model. \n",
    "\n",
    "When satisfied, you may close all tabs with DIGITS and this Jupyter Notebook and return to your course.\n",
    "\n",
    "The images of Louie can be tested from the paths:\n",
    "<pre>/dli/data/BeagleImages/Louie/louie1.JPG\n",
    "/dli/data/BeagleImages/Louie/louie1.JPG\n",
    "/dli/data/BeagleImages/Louie/louie2.JPG\n",
    "/dli/data/BeagleImages/Louie/louie3.JPG\n",
    "/dli/data/BeagleImages/Louie/louie4.JPG\n",
    "/dli/data/BeagleImages/Louie/louie5.JPG\n",
    "/dli/data/BeagleImages/Louie/louie6.JPG\n",
    "/dli/data/BeagleImages/Louie/louie7.JPG\n",
    "/dli/data/BeagleImages/Louie/louie8.JPG</pre>\n",
    "\n",
    "The images of Not Louie can be tested from the paths:\n",
    "<pre>/dli/data/BeagleImages/Not Louie/notlouie1.JPG\n",
    "/dli/data/BeagleImages/Not Louie/notlouie2.jpg\n",
    "/dli/data/BeagleImages/Not Louie/notlouie3.JPG\n",
    "/dli/data/BeagleImages/Not Louie/notlouie4.JPG\n",
    "/dli/data/BeagleImages/Not Louie/notlouie5.JPG\n",
    "/dli/data/BeagleImages/Not Louie/notlouie6.JPG\n",
    "/dli/data/BeagleImages/Not Louie/notlouie7.JPG\n",
    "/dli/data/BeagleImages/Not Louie/notlouie8.JPG</pre>\n",
    "\n"
   ]
  },
  {
   "cell_type": "markdown",
   "metadata": {},
   "source": [
    "<a href=\"https://www.nvidia.com/en-us/deep-learning-ai/education/\"> <img src=\"images/DLI Header.png\" alt=\"Header\" style=\"width: 400px;\"/> </a>"
   ]
  }
 ],
 "metadata": {
  "celltoolbar": "Raw Cell Format",
  "kernelspec": {
   "display_name": "Python 2",
   "language": "python",
   "name": "python2"
  },
  "language_info": {
   "codemirror_mode": {
    "name": "ipython",
    "version": 2
   },
   "file_extension": ".py",
   "mimetype": "text/x-python",
   "name": "python",
   "nbconvert_exporter": "python",
   "pygments_lexer": "ipython2",
   "version": "2.7.12"
  }
 },
 "nbformat": 4,
 "nbformat_minor": 1
}
