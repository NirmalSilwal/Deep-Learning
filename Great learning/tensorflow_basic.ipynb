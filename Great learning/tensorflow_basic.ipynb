{
  "nbformat": 4,
  "nbformat_minor": 0,
  "metadata": {
    "colab": {
      "name": "tensorflow_basic.ipynb",
      "provenance": []
    },
    "kernelspec": {
      "name": "python3",
      "display_name": "Python 3"
    }
  },
  "cells": [
    {
      "cell_type": "markdown",
      "metadata": {
        "id": "54QYZHiAYju8",
        "colab_type": "text"
      },
      "source": [
        "Load tensorflow"
      ]
    },
    {
      "cell_type": "code",
      "metadata": {
        "id": "8_H-PcQlo1Ze",
        "colab_type": "code",
        "outputId": "6ff57dae-4a66-46f7-f39a-b26735d50362",
        "colab": {
          "base_uri": "https://localhost:8080/",
          "height": 34
        }
      },
      "source": [
        "import tensorflow as tf\n",
        "tf.__version__"
      ],
      "execution_count": 0,
      "outputs": [
        {
          "output_type": "execute_result",
          "data": {
            "text/plain": [
              "'1.15.0'"
            ]
          },
          "metadata": {
            "tags": []
          },
          "execution_count": 2
        }
      ]
    },
    {
      "cell_type": "markdown",
      "metadata": {
        "id": "48lH5E6jYcog",
        "colab_type": "text"
      },
      "source": [
        "creating constant"
      ]
    },
    {
      "cell_type": "code",
      "metadata": {
        "id": "7QW7O3UnYK1n",
        "colab_type": "code",
        "colab": {}
      },
      "source": [
        "hello =  tf.constant('hello world')"
      ],
      "execution_count": 0,
      "outputs": []
    },
    {
      "cell_type": "code",
      "metadata": {
        "id": "35DeBrQ2o4XZ",
        "colab_type": "code",
        "outputId": "08e19406-bcfd-416a-860b-a723a43ef4d9",
        "colab": {
          "base_uri": "https://localhost:8080/",
          "height": 34
        }
      },
      "source": [
        "print(hello)"
      ],
      "execution_count": 0,
      "outputs": [
        {
          "output_type": "stream",
          "text": [
            "Tensor(\"Const:0\", shape=(), dtype=string)\n"
          ],
          "name": "stdout"
        }
      ]
    },
    {
      "cell_type": "markdown",
      "metadata": {
        "id": "RaepdYGlZQxS",
        "colab_type": "text"
      },
      "source": [
        "note:  N dimensional data is called tensors"
      ]
    },
    {
      "cell_type": "markdown",
      "metadata": {
        "id": "RpaR7U0caxSF",
        "colab_type": "text"
      },
      "source": [
        "**Defining a shape**"
      ]
    },
    {
      "cell_type": "code",
      "metadata": {
        "id": "mvDRYcsyo88W",
        "colab_type": "code",
        "outputId": "3548bbf7-281c-4e1b-c3ba-7441f794791c",
        "colab": {
          "base_uri": "https://localhost:8080/",
          "height": 34
        }
      },
      "source": [
        "greeting = tf.constant('hello world', name='nirmal', shape=[6,2])\n",
        "print(greeting)"
      ],
      "execution_count": 0,
      "outputs": [
        {
          "output_type": "stream",
          "text": [
            "Tensor(\"nirmal:0\", shape=(6, 2), dtype=string)\n"
          ],
          "name": "stdout"
        }
      ]
    },
    {
      "cell_type": "code",
      "metadata": {
        "id": "zJBTSBzmqbav",
        "colab_type": "code",
        "outputId": "2f9b688f-02bf-4b4c-fe2a-44e216f420aa",
        "colab": {
          "base_uri": "https://localhost:8080/",
          "height": 34
        }
      },
      "source": [
        "greeting2 = tf.constant('tensorflow learning',name='nirmal')\n",
        "print(greeting2)"
      ],
      "execution_count": 0,
      "outputs": [
        {
          "output_type": "stream",
          "text": [
            "Tensor(\"nirmal_1:0\", shape=(), dtype=string)\n"
          ],
          "name": "stdout"
        }
      ]
    },
    {
      "cell_type": "markdown",
      "metadata": {
        "id": "246q3Qs1bnZA",
        "colab_type": "text"
      },
      "source": [
        "observe how tensorflow is tracking name of different tensor, see first parameter in tensor"
      ]
    },
    {
      "cell_type": "code",
      "metadata": {
        "id": "ya7irikqFzaZ",
        "colab_type": "code",
        "outputId": "4b4f5100-8feb-4f8e-f8b9-2f351fc15555",
        "colab": {
          "base_uri": "https://localhost:8080/",
          "height": 34
        }
      },
      "source": [
        "greeting3 = tf.constant('tracking tensor',name='jpt')\n",
        "print(greeting3)"
      ],
      "execution_count": 0,
      "outputs": [
        {
          "output_type": "stream",
          "text": [
            "Tensor(\"jpt:0\", shape=(), dtype=string)\n"
          ],
          "name": "stdout"
        }
      ]
    },
    {
      "cell_type": "code",
      "metadata": {
        "id": "ZoGmMcf1cMZP",
        "colab_type": "code",
        "colab": {}
      },
      "source": [
        ""
      ],
      "execution_count": 0,
      "outputs": []
    }
  ]
}