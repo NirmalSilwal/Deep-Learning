{
  "nbformat": 4,
  "nbformat_minor": 0,
  "metadata": {
    "colab": {
      "name": "Keras demo using Boston housing price prediction.ipynb",
      "provenance": []
    },
    "kernelspec": {
      "name": "python3",
      "display_name": "Python 3"
    }
  },
  "cells": [
    {
      "cell_type": "code",
      "metadata": {
        "id": "6P1FIjQvePZQ",
        "colab_type": "code",
        "colab": {}
      },
      "source": [
        "import tensorflow as tf\n",
        "tf.reset_default_graph()"
      ],
      "execution_count": 0,
      "outputs": []
    },
    {
      "cell_type": "code",
      "metadata": {
        "id": "QZE_hyp3eh1F",
        "colab_type": "code",
        "colab": {
          "base_uri": "https://localhost:8080/",
          "height": 34
        },
        "outputId": "8b9f9ba6-33e8-46be-d15a-31a6ce3752bd"
      },
      "source": [
        "tf.__version__"
      ],
      "execution_count": 12,
      "outputs": [
        {
          "output_type": "execute_result",
          "data": {
            "text/plain": [
              "'1.15.0'"
            ]
          },
          "metadata": {
            "tags": []
          },
          "execution_count": 12
        }
      ]
    },
    {
      "cell_type": "code",
      "metadata": {
        "id": "rzyJgqDPfj2g",
        "colab_type": "code",
        "colab": {
          "base_uri": "https://localhost:8080/",
          "height": 34
        },
        "outputId": "5e441c61-261d-487a-fd61-e0d478afb25f"
      },
      "source": [
        "tf.keras.__version__"
      ],
      "execution_count": 13,
      "outputs": [
        {
          "output_type": "execute_result",
          "data": {
            "text/plain": [
              "'2.2.4-tf'"
            ]
          },
          "metadata": {
            "tags": []
          },
          "execution_count": 13
        }
      ]
    },
    {
      "cell_type": "code",
      "metadata": {
        "id": "_aM-cGhJfov7",
        "colab_type": "code",
        "colab": {
          "base_uri": "https://localhost:8080/",
          "height": 34
        },
        "outputId": "0a12258d-3c10-4f9f-d27a-8f4dcd495e56"
      },
      "source": [
        "import keras\n",
        "keras.__version__"
      ],
      "execution_count": 14,
      "outputs": [
        {
          "output_type": "execute_result",
          "data": {
            "text/plain": [
              "'2.2.5'"
            ]
          },
          "metadata": {
            "tags": []
          },
          "execution_count": 14
        }
      ]
    },
    {
      "cell_type": "code",
      "metadata": {
        "id": "-yersLYZekE-",
        "colab_type": "code",
        "colab": {}
      },
      "source": [
        "(features, actual_prices), _ = tf.keras.datasets.boston_housing.load_data(test_split=0)"
      ],
      "execution_count": 0,
      "outputs": []
    },
    {
      "cell_type": "code",
      "metadata": {
        "id": "7GzDPnxJe22p",
        "colab_type": "code",
        "colab": {
          "base_uri": "https://localhost:8080/",
          "height": 68
        },
        "outputId": "19555e66-e515-40d9-eab7-f95659b80247"
      },
      "source": [
        "print(f'Number of examples is: {features.shape[0]}')\n",
        "print(f'Number of features for each examples is: {features.shape[1]}')\n",
        "print(f'shape of actual price of house: {actual_prices.shape}')"
      ],
      "execution_count": 16,
      "outputs": [
        {
          "output_type": "stream",
          "text": [
            "Number of examples is: 506\n",
            "Number of features for each examples is: 13\n",
            "shape of actual price of house: (506,)\n"
          ],
          "name": "stdout"
        }
      ]
    },
    {
      "cell_type": "markdown",
      "metadata": {
        "id": "BGivznv7gIeJ",
        "colab_type": "text"
      },
      "source": [
        "Building Graph"
      ]
    },
    {
      "cell_type": "code",
      "metadata": {
        "id": "T79q8TcFe6dV",
        "colab_type": "code",
        "colab": {
          "base_uri": "https://localhost:8080/",
          "height": 88
        },
        "outputId": "eb028fdf-fd37-426e-f1d7-e919fcec9ad2"
      },
      "source": [
        "# initialize the sequential model/graph\n",
        "model = tf.keras.models.Sequential()\n",
        "\n",
        "# normalize the data\n",
        "model.add(tf.keras.layers.BatchNormalization(input_shape=(13,)))\n",
        "\n",
        "# add dense layer for prediction\n",
        "model.add(tf.keras.layers.Dense(1))\n",
        "\n",
        "# compile the model, also add loss and optimizer function\n",
        "model.compile(optimizer='sgd', loss='mse')"
      ],
      "execution_count": 17,
      "outputs": [
        {
          "output_type": "stream",
          "text": [
            "WARNING:tensorflow:From /tensorflow-1.15.0/python3.6/tensorflow_core/python/ops/resource_variable_ops.py:1630: calling BaseResourceVariable.__init__ (from tensorflow.python.ops.resource_variable_ops) with constraint is deprecated and will be removed in a future version.\n",
            "Instructions for updating:\n",
            "If using Keras pass *_constraint arguments to layers.\n"
          ],
          "name": "stdout"
        }
      ]
    },
    {
      "cell_type": "markdown",
      "metadata": {
        "id": "uonVcbPkmenm",
        "colab_type": "text"
      },
      "source": [
        "Execute the Graph"
      ]
    },
    {
      "cell_type": "code",
      "metadata": {
        "id": "SqlBOTdAmc5b",
        "colab_type": "code",
        "colab": {
          "base_uri": "https://localhost:8080/",
          "height": 1000
        },
        "outputId": "c51763d1-567d-49ce-b42f-294090c8f1f8"
      },
      "source": [
        "model.fit(features, actual_prices, epochs=100)"
      ],
      "execution_count": 18,
      "outputs": [
        {
          "output_type": "stream",
          "text": [
            "Train on 506 samples\n",
            "Epoch 1/100\n",
            "506/506 [==============================] - 1s 1ms/sample - loss: 187.9132\n",
            "Epoch 2/100\n",
            "506/506 [==============================] - 0s 49us/sample - loss: 36.2560\n",
            "Epoch 3/100\n",
            "506/506 [==============================] - 0s 44us/sample - loss: 33.2586\n",
            "Epoch 4/100\n",
            "506/506 [==============================] - 0s 40us/sample - loss: 32.0340\n",
            "Epoch 5/100\n",
            "506/506 [==============================] - 0s 41us/sample - loss: 33.0835\n",
            "Epoch 6/100\n",
            "506/506 [==============================] - 0s 39us/sample - loss: 30.0181\n",
            "Epoch 7/100\n",
            "506/506 [==============================] - 0s 44us/sample - loss: 32.8870\n",
            "Epoch 8/100\n",
            "506/506 [==============================] - 0s 39us/sample - loss: 28.0882\n",
            "Epoch 9/100\n",
            "506/506 [==============================] - 0s 38us/sample - loss: 28.3752\n",
            "Epoch 10/100\n",
            "506/506 [==============================] - 0s 39us/sample - loss: 27.4686\n",
            "Epoch 11/100\n",
            "506/506 [==============================] - 0s 40us/sample - loss: 26.4344\n",
            "Epoch 12/100\n",
            "506/506 [==============================] - 0s 47us/sample - loss: 29.7257\n",
            "Epoch 13/100\n",
            "506/506 [==============================] - 0s 42us/sample - loss: 25.3594\n",
            "Epoch 14/100\n",
            "506/506 [==============================] - 0s 38us/sample - loss: 24.5925\n",
            "Epoch 15/100\n",
            "506/506 [==============================] - 0s 40us/sample - loss: 29.3867\n",
            "Epoch 16/100\n",
            "506/506 [==============================] - 0s 38us/sample - loss: 29.1034\n",
            "Epoch 17/100\n",
            "506/506 [==============================] - 0s 39us/sample - loss: 32.7327\n",
            "Epoch 18/100\n",
            "506/506 [==============================] - 0s 43us/sample - loss: 26.6885\n",
            "Epoch 19/100\n",
            "506/506 [==============================] - 0s 44us/sample - loss: 27.5629\n",
            "Epoch 20/100\n",
            "506/506 [==============================] - 0s 37us/sample - loss: 27.8707\n",
            "Epoch 21/100\n",
            "506/506 [==============================] - 0s 37us/sample - loss: 26.9271\n",
            "Epoch 22/100\n",
            "506/506 [==============================] - 0s 50us/sample - loss: 28.0681\n",
            "Epoch 23/100\n",
            "506/506 [==============================] - 0s 40us/sample - loss: 27.3788\n",
            "Epoch 24/100\n",
            "506/506 [==============================] - 0s 40us/sample - loss: 27.8873\n",
            "Epoch 25/100\n",
            "506/506 [==============================] - 0s 36us/sample - loss: 26.3023\n",
            "Epoch 26/100\n",
            "506/506 [==============================] - 0s 46us/sample - loss: 26.6014\n",
            "Epoch 27/100\n",
            "506/506 [==============================] - 0s 42us/sample - loss: 26.7090\n",
            "Epoch 28/100\n",
            "506/506 [==============================] - 0s 40us/sample - loss: 26.7492\n",
            "Epoch 29/100\n",
            "506/506 [==============================] - 0s 41us/sample - loss: 26.1576\n",
            "Epoch 30/100\n",
            "506/506 [==============================] - 0s 37us/sample - loss: 30.9067\n",
            "Epoch 31/100\n",
            "506/506 [==============================] - 0s 42us/sample - loss: 27.1752\n",
            "Epoch 32/100\n",
            "506/506 [==============================] - 0s 41us/sample - loss: 31.7617\n",
            "Epoch 33/100\n",
            "506/506 [==============================] - 0s 40us/sample - loss: 28.6023\n",
            "Epoch 34/100\n",
            "506/506 [==============================] - 0s 38us/sample - loss: 29.3829\n",
            "Epoch 35/100\n",
            "506/506 [==============================] - 0s 43us/sample - loss: 28.5969\n",
            "Epoch 36/100\n",
            "506/506 [==============================] - 0s 42us/sample - loss: 29.0803\n",
            "Epoch 37/100\n",
            "506/506 [==============================] - 0s 42us/sample - loss: 28.5021\n",
            "Epoch 38/100\n",
            "506/506 [==============================] - 0s 41us/sample - loss: 29.7618\n",
            "Epoch 39/100\n",
            "506/506 [==============================] - 0s 41us/sample - loss: 24.7132\n",
            "Epoch 40/100\n",
            "506/506 [==============================] - 0s 44us/sample - loss: 29.5044\n",
            "Epoch 41/100\n",
            "506/506 [==============================] - 0s 38us/sample - loss: 26.3213\n",
            "Epoch 42/100\n",
            "506/506 [==============================] - 0s 45us/sample - loss: 30.3360\n",
            "Epoch 43/100\n",
            "506/506 [==============================] - 0s 36us/sample - loss: 23.9531\n",
            "Epoch 44/100\n",
            "506/506 [==============================] - 0s 43us/sample - loss: 25.0816\n",
            "Epoch 45/100\n",
            "506/506 [==============================] - 0s 34us/sample - loss: 27.9842\n",
            "Epoch 46/100\n",
            "506/506 [==============================] - 0s 48us/sample - loss: 27.5068\n",
            "Epoch 47/100\n",
            "506/506 [==============================] - 0s 40us/sample - loss: 30.1006\n",
            "Epoch 48/100\n",
            "506/506 [==============================] - 0s 37us/sample - loss: 28.7137\n",
            "Epoch 49/100\n",
            "506/506 [==============================] - 0s 43us/sample - loss: 31.6741\n",
            "Epoch 50/100\n",
            "506/506 [==============================] - 0s 45us/sample - loss: 26.7687\n",
            "Epoch 51/100\n",
            "506/506 [==============================] - 0s 39us/sample - loss: 29.3105\n",
            "Epoch 52/100\n",
            "506/506 [==============================] - 0s 53us/sample - loss: 26.8656\n",
            "Epoch 53/100\n",
            "506/506 [==============================] - 0s 39us/sample - loss: 32.2678\n",
            "Epoch 54/100\n",
            "506/506 [==============================] - 0s 39us/sample - loss: 29.0554\n",
            "Epoch 55/100\n",
            "506/506 [==============================] - 0s 44us/sample - loss: 27.1423\n",
            "Epoch 56/100\n",
            "506/506 [==============================] - 0s 48us/sample - loss: 29.0398\n",
            "Epoch 57/100\n",
            "506/506 [==============================] - 0s 40us/sample - loss: 29.9398\n",
            "Epoch 58/100\n",
            "506/506 [==============================] - 0s 38us/sample - loss: 25.4473\n",
            "Epoch 59/100\n",
            "506/506 [==============================] - 0s 37us/sample - loss: 28.6735\n",
            "Epoch 60/100\n",
            "506/506 [==============================] - 0s 37us/sample - loss: 27.5001\n",
            "Epoch 61/100\n",
            "506/506 [==============================] - 0s 37us/sample - loss: 27.3964\n",
            "Epoch 62/100\n",
            "506/506 [==============================] - 0s 39us/sample - loss: 27.9032\n",
            "Epoch 63/100\n",
            "506/506 [==============================] - 0s 38us/sample - loss: 29.7601\n",
            "Epoch 64/100\n",
            "506/506 [==============================] - 0s 36us/sample - loss: 26.1263\n",
            "Epoch 65/100\n",
            "506/506 [==============================] - 0s 38us/sample - loss: 29.9381\n",
            "Epoch 66/100\n",
            "506/506 [==============================] - 0s 37us/sample - loss: 26.4243\n",
            "Epoch 67/100\n",
            "506/506 [==============================] - 0s 45us/sample - loss: 30.1024\n",
            "Epoch 68/100\n",
            "506/506 [==============================] - 0s 33us/sample - loss: 29.3509\n",
            "Epoch 69/100\n",
            "506/506 [==============================] - 0s 38us/sample - loss: 24.4276\n",
            "Epoch 70/100\n",
            "506/506 [==============================] - 0s 38us/sample - loss: 25.6747\n",
            "Epoch 71/100\n",
            "506/506 [==============================] - 0s 34us/sample - loss: 32.7683\n",
            "Epoch 72/100\n",
            "506/506 [==============================] - 0s 36us/sample - loss: 29.4391\n",
            "Epoch 73/100\n",
            "506/506 [==============================] - 0s 38us/sample - loss: 30.8714\n",
            "Epoch 74/100\n",
            "506/506 [==============================] - 0s 38us/sample - loss: 29.6161\n",
            "Epoch 75/100\n",
            "506/506 [==============================] - 0s 34us/sample - loss: 25.1596\n",
            "Epoch 76/100\n",
            "506/506 [==============================] - 0s 45us/sample - loss: 28.2294\n",
            "Epoch 77/100\n",
            "506/506 [==============================] - 0s 36us/sample - loss: 26.0556\n",
            "Epoch 78/100\n",
            "506/506 [==============================] - 0s 40us/sample - loss: 25.4475\n",
            "Epoch 79/100\n",
            "506/506 [==============================] - 0s 44us/sample - loss: 32.9262\n",
            "Epoch 80/100\n",
            "506/506 [==============================] - 0s 39us/sample - loss: 32.0147\n",
            "Epoch 81/100\n",
            "506/506 [==============================] - 0s 36us/sample - loss: 28.9635\n",
            "Epoch 82/100\n",
            "506/506 [==============================] - 0s 40us/sample - loss: 28.3013\n",
            "Epoch 83/100\n",
            "506/506 [==============================] - 0s 46us/sample - loss: 28.0361\n",
            "Epoch 84/100\n",
            "506/506 [==============================] - 0s 44us/sample - loss: 26.3257\n",
            "Epoch 85/100\n",
            "506/506 [==============================] - 0s 40us/sample - loss: 28.4065\n",
            "Epoch 86/100\n",
            "506/506 [==============================] - 0s 43us/sample - loss: 25.6613\n",
            "Epoch 87/100\n",
            "506/506 [==============================] - 0s 34us/sample - loss: 25.9330\n",
            "Epoch 88/100\n",
            "506/506 [==============================] - 0s 40us/sample - loss: 28.1315\n",
            "Epoch 89/100\n",
            "506/506 [==============================] - 0s 37us/sample - loss: 28.8508\n",
            "Epoch 90/100\n",
            "506/506 [==============================] - 0s 37us/sample - loss: 30.4827\n",
            "Epoch 91/100\n",
            "506/506 [==============================] - 0s 38us/sample - loss: 29.3354\n",
            "Epoch 92/100\n",
            "506/506 [==============================] - 0s 37us/sample - loss: 25.8837\n",
            "Epoch 93/100\n",
            "506/506 [==============================] - 0s 39us/sample - loss: 29.3067\n",
            "Epoch 94/100\n",
            "506/506 [==============================] - 0s 41us/sample - loss: 23.9011\n",
            "Epoch 95/100\n",
            "506/506 [==============================] - 0s 37us/sample - loss: 28.6467\n",
            "Epoch 96/100\n",
            "506/506 [==============================] - 0s 39us/sample - loss: 28.0707\n",
            "Epoch 97/100\n",
            "506/506 [==============================] - 0s 37us/sample - loss: 27.7258\n",
            "Epoch 98/100\n",
            "506/506 [==============================] - 0s 39us/sample - loss: 28.9390\n",
            "Epoch 99/100\n",
            "506/506 [==============================] - 0s 43us/sample - loss: 29.8390\n",
            "Epoch 100/100\n",
            "506/506 [==============================] - 0s 40us/sample - loss: 25.1121\n"
          ],
          "name": "stdout"
        },
        {
          "output_type": "execute_result",
          "data": {
            "text/plain": [
              "<tensorflow.python.keras.callbacks.History at 0x7fb253ced780>"
            ]
          },
          "metadata": {
            "tags": []
          },
          "execution_count": 18
        }
      ]
    },
    {
      "cell_type": "code",
      "metadata": {
        "id": "9sGDG0yPml5Z",
        "colab_type": "code",
        "colab": {
          "base_uri": "https://localhost:8080/",
          "height": 34
        },
        "outputId": "2cc06d2b-29fc-4129-a8d8-f5a5930a213c"
      },
      "source": [
        "pwd"
      ],
      "execution_count": 19,
      "outputs": [
        {
          "output_type": "execute_result",
          "data": {
            "text/plain": [
              "'/content'"
            ]
          },
          "metadata": {
            "tags": []
          },
          "execution_count": 19
        }
      ]
    },
    {
      "cell_type": "code",
      "metadata": {
        "id": "5h4spDy6nNsY",
        "colab_type": "code",
        "colab": {}
      },
      "source": [
        "!mkdir output"
      ],
      "execution_count": 0,
      "outputs": []
    },
    {
      "cell_type": "code",
      "metadata": {
        "id": "uZzhLnFDnRPV",
        "colab_type": "code",
        "colab": {
          "base_uri": "https://localhost:8080/",
          "height": 34
        },
        "outputId": "2c993594-8a17-4f3b-830f-55514e7f7c7d"
      },
      "source": [
        "!ls"
      ],
      "execution_count": 21,
      "outputs": [
        {
          "output_type": "stream",
          "text": [
            "output\tsample_data\n"
          ],
          "name": "stdout"
        }
      ]
    },
    {
      "cell_type": "code",
      "metadata": {
        "id": "Ie36mfLxnTB8",
        "colab_type": "code",
        "colab": {}
      },
      "source": [
        "model.save('output/boston_housing.h5')"
      ],
      "execution_count": 0,
      "outputs": []
    },
    {
      "cell_type": "code",
      "metadata": {
        "id": "DDkh2KcBnZRc",
        "colab_type": "code",
        "colab": {}
      },
      "source": [
        ""
      ],
      "execution_count": 0,
      "outputs": []
    }
  ]
}